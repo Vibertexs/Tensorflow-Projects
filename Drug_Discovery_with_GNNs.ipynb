{
  "nbformat": 4,
  "nbformat_minor": 0,
  "metadata": {
    "accelerator": "GPU",
    "colab": {
      "name": "Drug Discovery with GNNs.ipynb",
      "provenance": [],
      "collapsed_sections": [],
      "include_colab_link": true
    },
    "kernelspec": {
      "display_name": "Python 3",
      "language": "python",
      "name": "python3"
    },
    "language_info": {
      "codemirror_mode": {
        "name": "ipython",
        "version": 3
      },
      "file_extension": ".py",
      "mimetype": "text/x-python",
      "name": "python",
      "nbconvert_exporter": "python",
      "pygments_lexer": "ipython3",
      "version": "3.8.2"
    }
  },
  "cells": [
    {
      "cell_type": "markdown",
      "metadata": {
        "id": "view-in-github",
        "colab_type": "text"
      },
      "source": [
        "<a href=\"https://colab.research.google.com/github/Vibertexs/Tensorflow-Projects/blob/main/Drug_Discovery_with_GNNs.ipynb\" target=\"_parent\"><img src=\"https://colab.research.google.com/assets/colab-badge.svg\" alt=\"Open In Colab\"/></a>"
      ]
    },
    {
      "cell_type": "markdown",
      "metadata": {
        "id": "R1VKyzBfwBRP"
      },
      "source": [
        "# Performing Drug Discovery with GNNs"
      ]
    },
    {
      "cell_type": "code",
      "metadata": {
        "id": "QidwCQOSWCkR",
        "colab": {
          "base_uri": "https://localhost:8080/"
        },
        "outputId": "4cd9f620-3183-4881-9105-6113db4fd3ff"
      },
      "source": [
        "!curl -Lo conda_installer.py https://raw.githubusercontent.com/deepchem/deepchem/master/scripts/colab_install.py\n",
        "\n",
        "import conda_installer\n",
        "conda_installer.install()\n",
        "!/root/miniconda/bin/conda info -e\n",
        "\n",
        "!pip install --pre deepchem\n",
        "import deepchem\n",
        "\n",
        "!wget https://storage.googleapis.com/inspirit-ai-data-bucket-1/Data/Deep%20Dives/AI%20%2B%20Healthcare/Sessions%201-5/Drug%20Discovery%20with%20GNNs/delaney-processed.csv\n",
        "!wget https://storage.googleapis.com/inspirit-ai-data-bucket-1/Data/Deep%20Dives/AI%20%2B%20Healthcare/Sessions%201-5/Drug%20Discovery%20with%20GNNs/tox21.csv.gz\n",
        "\n",
        "import gzip\n",
        "import shutil\n",
        "with gzip.open('tox21.csv.gz', 'rb') as f_in:\n",
        "    with open('tox21.csv', 'wb') as f_out:\n",
        "        shutil.copyfileobj(f_in, f_out)\n",
        "\n",
        "\n",
        "from deepchem.utils.save import load_from_disk\n",
        "\n",
        "# Data Structures\n",
        "import numpy as np\n",
        "import pandas as pd\n",
        "\n",
        "# Graphing\n",
        "import matplotlib.pyplot as plt\n",
        "\n",
        "# Metrics\n",
        "from sklearn.model_selection import train_test_split\n",
        "from sklearn import metrics\n",
        "\n",
        "# ML Models\n",
        "from deepchem.models import GraphConvModel\n",
        "from sklearn.ensemble import RandomForestRegressor\n",
        "from sklearn.ensemble import RandomForestClassifier"
      ],
      "execution_count": null,
      "outputs": [
        {
          "output_type": "stream",
          "text": [
            "  % Total    % Received % Xferd  Average Speed   Time    Time     Time  Current\n",
            "                                 Dload  Upload   Total   Spent    Left  Speed\n",
            "\r  0     0    0     0    0     0      0      0 --:--:-- --:--:-- --:--:--     0\r100  3501  100  3501    0     0  15422      0 --:--:-- --:--:-- --:--:-- 15422\r100  3501  100  3501    0     0  15422      0 --:--:-- --:--:-- --:--:-- 15355\n"
          ],
          "name": "stdout"
        },
        {
          "output_type": "stream",
          "text": [
            "python version: 3.7.10\n",
            "INFO:conda_installer:python version: 3.7.10\n",
            "remove current miniconda\n",
            "WARNING:conda_installer:remove current miniconda\n",
            "fetching installer from https://repo.continuum.io/miniconda/Miniconda3-latest-Linux-x86_64.sh\n",
            "INFO:conda_installer:fetching installer from https://repo.continuum.io/miniconda/Miniconda3-latest-Linux-x86_64.sh\n",
            "done\n",
            "INFO:conda_installer:done\n",
            "installing miniconda to /root/miniconda\n",
            "INFO:conda_installer:installing miniconda to /root/miniconda\n",
            "done\n",
            "INFO:conda_installer:done\n",
            "installing rdkit, openmm, pdbfixer\n",
            "INFO:conda_installer:installing rdkit, openmm, pdbfixer\n",
            "added omnia to channels\n",
            "INFO:conda_installer:added omnia to channels\n",
            "added conda-forge to channels\n",
            "INFO:conda_installer:added conda-forge to channels\n",
            "done\n",
            "INFO:conda_installer:done\n",
            "conda packages installation finished!\n",
            "INFO:conda_installer:conda packages installation finished!\n"
          ],
          "name": "stderr"
        },
        {
          "output_type": "stream",
          "text": [
            "# conda environments:\n",
            "#\n",
            "base                  *  /root/miniconda\n",
            "\n",
            "Requirement already satisfied: deepchem in /usr/local/lib/python3.7/dist-packages (2.6.0.dev20210622012521)\n",
            "Requirement already satisfied: numpy in /usr/local/lib/python3.7/dist-packages (from deepchem) (1.19.5)\n",
            "Requirement already satisfied: scipy in /usr/local/lib/python3.7/dist-packages (from deepchem) (1.4.1)\n",
            "Requirement already satisfied: pandas in /usr/local/lib/python3.7/dist-packages (from deepchem) (1.1.5)\n",
            "Requirement already satisfied: joblib in /usr/local/lib/python3.7/dist-packages (from deepchem) (1.0.1)\n",
            "Requirement already satisfied: scikit-learn in /usr/local/lib/python3.7/dist-packages (from deepchem) (0.22.2.post1)\n",
            "Requirement already satisfied: pytz>=2017.2 in /usr/local/lib/python3.7/dist-packages (from pandas->deepchem) (2018.9)\n",
            "Requirement already satisfied: python-dateutil>=2.7.3 in /usr/local/lib/python3.7/dist-packages (from pandas->deepchem) (2.8.1)\n",
            "Requirement already satisfied: six>=1.5 in /usr/local/lib/python3.7/dist-packages (from python-dateutil>=2.7.3->pandas->deepchem) (1.15.0)\n",
            "--2021-06-22 20:38:45--  https://storage.googleapis.com/inspirit-ai-data-bucket-1/Data/Deep%20Dives/AI%20%2B%20Healthcare/Sessions%201-5/Drug%20Discovery%20with%20GNNs/delaney-processed.csv\n",
            "Resolving storage.googleapis.com (storage.googleapis.com)... 74.125.195.128, 172.253.117.128, 74.125.142.128, ...\n",
            "Connecting to storage.googleapis.com (storage.googleapis.com)|74.125.195.128|:443... connected.\n",
            "HTTP request sent, awaiting response... 200 OK\n",
            "Length: 96699 (94K) [text/csv]\n",
            "Saving to: ‘delaney-processed.csv.1’\n",
            "\n",
            "delaney-processed.c 100%[===================>]  94.43K  --.-KB/s    in 0.001s  \n",
            "\n",
            "2021-06-22 20:38:45 (134 MB/s) - ‘delaney-processed.csv.1’ saved [96699/96699]\n",
            "\n",
            "--2021-06-22 20:38:45--  https://storage.googleapis.com/inspirit-ai-data-bucket-1/Data/Deep%20Dives/AI%20%2B%20Healthcare/Sessions%201-5/Drug%20Discovery%20with%20GNNs/tox21.csv.gz\n",
            "Resolving storage.googleapis.com (storage.googleapis.com)... 74.125.195.128, 172.253.117.128, 74.125.142.128, ...\n",
            "Connecting to storage.googleapis.com (storage.googleapis.com)|74.125.195.128|:443... connected.\n",
            "HTTP request sent, awaiting response... 200 OK\n",
            "Length: 125310 (122K) [application/x-gzip]\n",
            "Saving to: ‘tox21.csv.gz.1’\n",
            "\n",
            "tox21.csv.gz.1      100%[===================>] 122.37K  --.-KB/s    in 0.001s  \n",
            "\n",
            "2021-06-22 20:38:45 (142 MB/s) - ‘tox21.csv.gz.1’ saved [125310/125310]\n",
            "\n"
          ],
          "name": "stdout"
        }
      ]
    },
    {
      "cell_type": "markdown",
      "metadata": {
        "id": "pB5y2D7pvA-d"
      },
      "source": [
        "# Determining Molecular Solubility"
      ]
    },
    {
      "cell_type": "code",
      "metadata": {
        "id": "bFnFG9baYRZK",
        "colab": {
          "base_uri": "https://localhost:8080/",
          "height": 312
        },
        "outputId": "816e055c-52e1-4ca9-d7eb-1634f424e22d"
      },
      "source": [
        "solubility_data = pd.read_csv(\"delaney-processed.csv\")\n",
        "solubility_data.head()"
      ],
      "execution_count": null,
      "outputs": [
        {
          "output_type": "execute_result",
          "data": {
            "text/html": [
              "<div>\n",
              "<style scoped>\n",
              "    .dataframe tbody tr th:only-of-type {\n",
              "        vertical-align: middle;\n",
              "    }\n",
              "\n",
              "    .dataframe tbody tr th {\n",
              "        vertical-align: top;\n",
              "    }\n",
              "\n",
              "    .dataframe thead th {\n",
              "        text-align: right;\n",
              "    }\n",
              "</style>\n",
              "<table border=\"1\" class=\"dataframe\">\n",
              "  <thead>\n",
              "    <tr style=\"text-align: right;\">\n",
              "      <th></th>\n",
              "      <th>Compound ID</th>\n",
              "      <th>ESOL predicted log solubility in mols per litre</th>\n",
              "      <th>Minimum Degree</th>\n",
              "      <th>Molecular Weight</th>\n",
              "      <th>Number of H-Bond Donors</th>\n",
              "      <th>Number of Rings</th>\n",
              "      <th>Number of Rotatable Bonds</th>\n",
              "      <th>Polar Surface Area</th>\n",
              "      <th>measured log solubility in mols per litre</th>\n",
              "      <th>smiles</th>\n",
              "    </tr>\n",
              "  </thead>\n",
              "  <tbody>\n",
              "    <tr>\n",
              "      <th>0</th>\n",
              "      <td>Amigdalin</td>\n",
              "      <td>-0.974</td>\n",
              "      <td>1</td>\n",
              "      <td>457.432</td>\n",
              "      <td>7</td>\n",
              "      <td>3</td>\n",
              "      <td>7</td>\n",
              "      <td>202.32</td>\n",
              "      <td>-0.77</td>\n",
              "      <td>OCC3OC(OCC2OC(OC(C#N)c1ccccc1)C(O)C(O)C2O)C(O)...</td>\n",
              "    </tr>\n",
              "    <tr>\n",
              "      <th>1</th>\n",
              "      <td>Fenfuram</td>\n",
              "      <td>-2.885</td>\n",
              "      <td>1</td>\n",
              "      <td>201.225</td>\n",
              "      <td>1</td>\n",
              "      <td>2</td>\n",
              "      <td>2</td>\n",
              "      <td>42.24</td>\n",
              "      <td>-3.30</td>\n",
              "      <td>Cc1occc1C(=O)Nc2ccccc2</td>\n",
              "    </tr>\n",
              "    <tr>\n",
              "      <th>2</th>\n",
              "      <td>citral</td>\n",
              "      <td>-2.579</td>\n",
              "      <td>1</td>\n",
              "      <td>152.237</td>\n",
              "      <td>0</td>\n",
              "      <td>0</td>\n",
              "      <td>4</td>\n",
              "      <td>17.07</td>\n",
              "      <td>-2.06</td>\n",
              "      <td>CC(C)=CCCC(C)=CC(=O)</td>\n",
              "    </tr>\n",
              "    <tr>\n",
              "      <th>3</th>\n",
              "      <td>Picene</td>\n",
              "      <td>-6.618</td>\n",
              "      <td>2</td>\n",
              "      <td>278.354</td>\n",
              "      <td>0</td>\n",
              "      <td>5</td>\n",
              "      <td>0</td>\n",
              "      <td>0.00</td>\n",
              "      <td>-7.87</td>\n",
              "      <td>c1ccc2c(c1)ccc3c2ccc4c5ccccc5ccc43</td>\n",
              "    </tr>\n",
              "    <tr>\n",
              "      <th>4</th>\n",
              "      <td>Thiophene</td>\n",
              "      <td>-2.232</td>\n",
              "      <td>2</td>\n",
              "      <td>84.143</td>\n",
              "      <td>0</td>\n",
              "      <td>1</td>\n",
              "      <td>0</td>\n",
              "      <td>0.00</td>\n",
              "      <td>-1.33</td>\n",
              "      <td>c1ccsc1</td>\n",
              "    </tr>\n",
              "  </tbody>\n",
              "</table>\n",
              "</div>"
            ],
            "text/plain": [
              "  Compound ID  ...                                             smiles\n",
              "0   Amigdalin  ...  OCC3OC(OCC2OC(OC(C#N)c1ccccc1)C(O)C(O)C2O)C(O)...\n",
              "1    Fenfuram  ...                             Cc1occc1C(=O)Nc2ccccc2\n",
              "2      citral  ...                               CC(C)=CCCC(C)=CC(=O)\n",
              "3      Picene  ...                 c1ccc2c(c1)ccc3c2ccc4c5ccccc5ccc43\n",
              "4   Thiophene  ...                                            c1ccsc1\n",
              "\n",
              "[5 rows x 10 columns]"
            ]
          },
          "metadata": {
            "tags": []
          },
          "execution_count": 3
        }
      ]
    },
    {
      "cell_type": "markdown",
      "metadata": {
        "id": "O5pDKmnfScL0"
      },
      "source": [
        "##Baseline: Predicting Solubility with Linear Regression\n"
      ]
    },
    {
      "cell_type": "code",
      "metadata": {
        "colab": {
          "base_uri": "https://localhost:8080/"
        },
        "id": "xz2fXT2URbwj",
        "outputId": "942de8ca-b87a-4c89-fa3b-4f27e9dec505"
      },
      "source": [
        "solubility_data.columns"
      ],
      "execution_count": null,
      "outputs": [
        {
          "output_type": "execute_result",
          "data": {
            "text/plain": [
              "Index(['Compound ID', 'ESOL predicted log solubility in mols per litre',\n",
              "       'Minimum Degree', 'Molecular Weight', 'Number of H-Bond Donors',\n",
              "       'Number of Rings', 'Number of Rotatable Bonds', 'Polar Surface Area',\n",
              "       'measured log solubility in mols per litre', 'smiles'],\n",
              "      dtype='object')"
            ]
          },
          "metadata": {
            "tags": []
          },
          "execution_count": 4
        }
      ]
    },
    {
      "cell_type": "code",
      "metadata": {
        "id": "srPNMMrAW85h"
      },
      "source": [
        "input_cols = [ 'Minimum Degree', 'Molecular Weight', 'Number of H-Bond Donors','Number of Rings', 'Number of Rotatable Bonds', 'Polar Surface Area'] \n",
        "output_cols = ['measured log solubility in mols per litre'] \n",
        "\n",
        "X = solubility_data[input_cols]\n",
        "y = solubility_data[output_cols]"
      ],
      "execution_count": null,
      "outputs": []
    },
    {
      "cell_type": "code",
      "metadata": {
        "id": "eP5hLuwcuUWm"
      },
      "source": [
        "X_train, X_test, y_train, y_test = train_test_split(X, y, test_size=0.2, shuffle = False, random_state=42)\n"
      ],
      "execution_count": null,
      "outputs": []
    },
    {
      "cell_type": "code",
      "metadata": {
        "id": "IUDXu3qpca1G",
        "colab": {
          "base_uri": "https://localhost:8080/"
        },
        "outputId": "128d2e2d-4e7b-4798-c1d7-1304f745aed9"
      },
      "source": [
        "import sklearn\n",
        "from sklearn import linear_model\n",
        "\n",
        "lm = sklearn.linear_model.LinearRegression()\n",
        "lm.fit(X_train,y_train)"
      ],
      "execution_count": null,
      "outputs": [
        {
          "output_type": "execute_result",
          "data": {
            "text/plain": [
              "LinearRegression(copy_X=True, fit_intercept=True, n_jobs=None, normalize=False)"
            ]
          },
          "metadata": {
            "tags": []
          },
          "execution_count": 7
        }
      ]
    },
    {
      "cell_type": "code",
      "metadata": {
        "id": "P-dYsvIjvd3i",
        "colab": {
          "base_uri": "https://localhost:8080/"
        },
        "outputId": "d57287a2-aec4-4add-e028-ac5c33f74fc7"
      },
      "source": [
        "y_pred = lm.predict(X_test)\n",
        "metrics.r2_score(y_test, y_pred)"
      ],
      "execution_count": null,
      "outputs": [
        {
          "output_type": "execute_result",
          "data": {
            "text/plain": [
              "0.602491898293005"
            ]
          },
          "metadata": {
            "tags": []
          },
          "execution_count": 8
        }
      ]
    },
    {
      "cell_type": "code",
      "metadata": {
        "id": "5lpzxc4lEmxy",
        "colab": {
          "base_uri": "https://localhost:8080/",
          "height": 297
        },
        "outputId": "897f6d4a-9ad7-4088-f296-58f8a2b7a33d"
      },
      "source": [
        "plt.plot(y_test, y_pred, '.')\n",
        "plt.legend(['LinReg Predictions'])\n",
        "plt.xlabel(\"True Log Solubility\")\n",
        "plt.ylabel(\"Predicted Log Solubility\")"
      ],
      "execution_count": null,
      "outputs": [
        {
          "output_type": "execute_result",
          "data": {
            "text/plain": [
              "Text(0, 0.5, 'Predicted Log Solubility')"
            ]
          },
          "metadata": {
            "tags": []
          },
          "execution_count": 9
        },
        {
          "output_type": "display_data",
          "data": {
            "image/png": "[encoded data removed]",
            "text/plain": [
              "<Figure size 432x288 with 1 Axes>"
            ]
          },
          "metadata": {
            "tags": [],
            "needs_background": "light"
          }
        }
      ]
    },
    {
      "cell_type": "code",
      "metadata": {
        "id": "44ECQig8EQUz"
      },
      "source": [
        "esol_pred = solubility_data['ESOL predicted log solubility in mols per litre'].loc[y_test.index]"
      ],
      "execution_count": null,
      "outputs": []
    },
    {
      "cell_type": "code",
      "metadata": {
        "id": "PbIkWCVsHXAW",
        "colab": {
          "base_uri": "https://localhost:8080/"
        },
        "outputId": "6d60b376-71b6-4955-80c3-aee83d64f8dc"
      },
      "source": [
        "metrics.r2_score(y_test, esol_pred)"
      ],
      "execution_count": null,
      "outputs": [
        {
          "output_type": "execute_result",
          "data": {
            "text/plain": [
              "0.7839834529021221"
            ]
          },
          "metadata": {
            "tags": []
          },
          "execution_count": 11
        }
      ]
    },
    {
      "cell_type": "markdown",
      "metadata": {
        "id": "6RD7Ywqzr5SG"
      },
      "source": [
        "#Graph Neural Networks\n",
        "\n"
      ]
    },
    {
      "cell_type": "code",
      "metadata": {
        "id": "xmxaSE_Lv3zM"
      },
      "source": [
        "loader = deepchem.data.CSVLoader(tasks=[\"measured log solubility in mols per litre\"], \n",
        "                                 feature_field=\"smiles\", \n",
        "                                 featurizer=deepchem.feat.ConvMolFeaturizer())\n",
        "solubility_smiles_data = loader.create_dataset(\"delaney-processed.csv\")\n",
        "\n",
        "splitter = deepchem.splits.IndexSplitter()\n",
        "sol_train_dataset, sol_test_dataset = splitter.train_test_split(solubility_smiles_data,\n",
        "                                                                 frac_train=0.8)"
      ],
      "execution_count": null,
      "outputs": []
    },
    {
      "cell_type": "code",
      "metadata": {
        "id": "kMAzo2VIzM0r",
        "colab": {
          "base_uri": "https://localhost:8080/"
        },
        "outputId": "f7664bdb-3ac0-4f83-b5ae-90feb7ba21b5"
      },
      "source": [
        "import warnings\n",
        "warnings.filterwarnings('ignore')\n",
        "sol_gnn = GraphConvModel(dropout=0.2, n_tasks=1, mode = \"regression\")\n",
        "sol_gnn.fit(sol_train_dataset,nb_epoch=1000)"
      ],
      "execution_count": null,
      "outputs": [
        {
          "output_type": "execute_result",
          "data": {
            "text/plain": [
              "0.08854052543640137"
            ]
          },
          "metadata": {
            "tags": []
          },
          "execution_count": 15
        }
      ]
    },
    {
      "cell_type": "code",
      "metadata": {
        "id": "cKpNPvHmwjd3",
        "colab": {
          "base_uri": "https://localhost:8080/"
        },
        "outputId": "9e3881e1-d1e4-423b-84e8-e7801af14645"
      },
      "source": [
        "gnn_pred = sol_gnn.predict(sol_test_dataset)\n",
        "metrics.r2_score(y_test, gnn_pred)"
      ],
      "execution_count": null,
      "outputs": [
        {
          "output_type": "stream",
          "text": [
            "WARNING:tensorflow:5 out of the last 5 calls to <function KerasModel._compute_model at 0x7f182010db00> triggered tf.function retracing. Tracing is expensive and the excessive number of tracings could be due to (1) creating @tf.function repeatedly in a loop, (2) passing tensors with different shapes, (3) passing Python objects instead of tensors. For (1), please define your @tf.function outside of the loop. For (2), @tf.function has experimental_relax_shapes=True option that relaxes argument shapes that can avoid unnecessary retracing. For (3), please refer to https://www.tensorflow.org/guide/function#controlling_retracing and https://www.tensorflow.org/api_docs/python/tf/function for  more details.\n",
            "WARNING:tensorflow:6 out of the last 6 calls to <function KerasModel._compute_model at 0x7f182010db00> triggered tf.function retracing. Tracing is expensive and the excessive number of tracings could be due to (1) creating @tf.function repeatedly in a loop, (2) passing tensors with different shapes, (3) passing Python objects instead of tensors. For (1), please define your @tf.function outside of the loop. For (2), @tf.function has experimental_relax_shapes=True option that relaxes argument shapes that can avoid unnecessary retracing. For (3), please refer to https://www.tensorflow.org/guide/function#controlling_retracing and https://www.tensorflow.org/api_docs/python/tf/function for  more details.\n"
          ],
          "name": "stdout"
        },
        {
          "output_type": "execute_result",
          "data": {
            "text/plain": [
              "0.7813204127744338"
            ]
          },
          "metadata": {
            "tags": []
          },
          "execution_count": 16
        }
      ]
    },
    {
      "cell_type": "code",
      "metadata": {
        "id": "2xwWeufMffOn",
        "colab": {
          "base_uri": "https://localhost:8080/",
          "height": 1000
        },
        "outputId": "59412c2f-5877-405b-b624-31205e3297da"
      },
      "source": [
        "gnn_pred_series = pd.Series(gnn_pred.squeeze(), index = y_test.index)\n",
        "soluble = gnn_pred_series[gnn_pred_series > 0]\n",
        "print (len(soluble)/len(gnn_pred_series))\n",
        "solubility_data.loc[soluble.index]"
      ],
      "execution_count": null,
      "outputs": [
        {
          "output_type": "stream",
          "text": [
            "0.11946902654867257\n"
          ],
          "name": "stdout"
        },
        {
          "output_type": "execute_result",
          "data": {
            "text/html": [
              "<div>\n",
              "<style scoped>\n",
              "    .dataframe tbody tr th:only-of-type {\n",
              "        vertical-align: middle;\n",
              "    }\n",
              "\n",
              "    .dataframe tbody tr th {\n",
              "        vertical-align: top;\n",
              "    }\n",
              "\n",
              "    .dataframe thead th {\n",
              "        text-align: right;\n",
              "    }\n",
              "</style>\n",
              "<table border=\"1\" class=\"dataframe\">\n",
              "  <thead>\n",
              "    <tr style=\"text-align: right;\">\n",
              "      <th></th>\n",
              "      <th>Compound ID</th>\n",
              "      <th>ESOL predicted log solubility in mols per litre</th>\n",
              "      <th>Minimum Degree</th>\n",
              "      <th>Molecular Weight</th>\n",
              "      <th>Number of H-Bond Donors</th>\n",
              "      <th>Number of Rings</th>\n",
              "      <th>Number of Rotatable Bonds</th>\n",
              "      <th>Polar Surface Area</th>\n",
              "      <th>measured log solubility in mols per litre</th>\n",
              "      <th>smiles</th>\n",
              "    </tr>\n",
              "  </thead>\n",
              "  <tbody>\n",
              "    <tr>\n",
              "      <th>903</th>\n",
              "      <td>Ethyl propionate</td>\n",
              "      <td>-1.191</td>\n",
              "      <td>1</td>\n",
              "      <td>102.133</td>\n",
              "      <td>0</td>\n",
              "      <td>0</td>\n",
              "      <td>2</td>\n",
              "      <td>26.30</td>\n",
              "      <td>-0.660</td>\n",
              "      <td>CCOC(=O)CC</td>\n",
              "    </tr>\n",
              "    <tr>\n",
              "      <th>909</th>\n",
              "      <td>2-cyanoguanidine</td>\n",
              "      <td>0.361</td>\n",
              "      <td>1</td>\n",
              "      <td>84.082</td>\n",
              "      <td>2</td>\n",
              "      <td>0</td>\n",
              "      <td>0</td>\n",
              "      <td>88.19</td>\n",
              "      <td>-0.310</td>\n",
              "      <td>NC(N)=NC#N</td>\n",
              "    </tr>\n",
              "    <tr>\n",
              "      <th>919</th>\n",
              "      <td>Methyl acetate</td>\n",
              "      <td>-0.416</td>\n",
              "      <td>1</td>\n",
              "      <td>74.079</td>\n",
              "      <td>0</td>\n",
              "      <td>0</td>\n",
              "      <td>0</td>\n",
              "      <td>26.30</td>\n",
              "      <td>0.460</td>\n",
              "      <td>COC(=O)C</td>\n",
              "    </tr>\n",
              "    <tr>\n",
              "      <th>926</th>\n",
              "      <td>2-Methyl-2-pentanol</td>\n",
              "      <td>-1.308</td>\n",
              "      <td>1</td>\n",
              "      <td>102.177</td>\n",
              "      <td>1</td>\n",
              "      <td>0</td>\n",
              "      <td>2</td>\n",
              "      <td>20.23</td>\n",
              "      <td>-0.490</td>\n",
              "      <td>CCCC(C)(C)O</td>\n",
              "    </tr>\n",
              "    <tr>\n",
              "      <th>932</th>\n",
              "      <td>Pteridine</td>\n",
              "      <td>-0.906</td>\n",
              "      <td>2</td>\n",
              "      <td>132.126</td>\n",
              "      <td>0</td>\n",
              "      <td>2</td>\n",
              "      <td>0</td>\n",
              "      <td>51.56</td>\n",
              "      <td>0.020</td>\n",
              "      <td>c2cnc1ncncc1n2</td>\n",
              "    </tr>\n",
              "    <tr>\n",
              "      <th>940</th>\n",
              "      <td>Nitromethane</td>\n",
              "      <td>-0.042</td>\n",
              "      <td>1</td>\n",
              "      <td>61.040</td>\n",
              "      <td>0</td>\n",
              "      <td>0</td>\n",
              "      <td>0</td>\n",
              "      <td>43.14</td>\n",
              "      <td>0.260</td>\n",
              "      <td>CN(=O)=O</td>\n",
              "    </tr>\n",
              "    <tr>\n",
              "      <th>953</th>\n",
              "      <td>Ethyne</td>\n",
              "      <td>-0.252</td>\n",
              "      <td>1</td>\n",
              "      <td>26.038</td>\n",
              "      <td>0</td>\n",
              "      <td>0</td>\n",
              "      <td>0</td>\n",
              "      <td>0.00</td>\n",
              "      <td>0.290</td>\n",
              "      <td>C#C</td>\n",
              "    </tr>\n",
              "    <tr>\n",
              "      <th>954</th>\n",
              "      <td>3,5-Dimethylpyridine</td>\n",
              "      <td>-2.098</td>\n",
              "      <td>1</td>\n",
              "      <td>107.156</td>\n",
              "      <td>0</td>\n",
              "      <td>1</td>\n",
              "      <td>0</td>\n",
              "      <td>12.89</td>\n",
              "      <td>0.380</td>\n",
              "      <td>Cc1cncc(C)c1</td>\n",
              "    </tr>\n",
              "    <tr>\n",
              "      <th>974</th>\n",
              "      <td>3-Methyl-2-butanone</td>\n",
              "      <td>-0.912</td>\n",
              "      <td>1</td>\n",
              "      <td>86.134</td>\n",
              "      <td>0</td>\n",
              "      <td>0</td>\n",
              "      <td>1</td>\n",
              "      <td>17.07</td>\n",
              "      <td>-0.120</td>\n",
              "      <td>CC(C)C(=O)C</td>\n",
              "    </tr>\n",
              "    <tr>\n",
              "      <th>983</th>\n",
              "      <td>Ethanol</td>\n",
              "      <td>0.020</td>\n",
              "      <td>1</td>\n",
              "      <td>46.069</td>\n",
              "      <td>1</td>\n",
              "      <td>0</td>\n",
              "      <td>0</td>\n",
              "      <td>20.23</td>\n",
              "      <td>1.100</td>\n",
              "      <td>CCO</td>\n",
              "    </tr>\n",
              "    <tr>\n",
              "      <th>991</th>\n",
              "      <td>aminopyrine</td>\n",
              "      <td>-2.129</td>\n",
              "      <td>1</td>\n",
              "      <td>231.299</td>\n",
              "      <td>0</td>\n",
              "      <td>2</td>\n",
              "      <td>2</td>\n",
              "      <td>30.17</td>\n",
              "      <td>-0.364</td>\n",
              "      <td>CN(C)c2c(C)n(C)n(c1ccccc1)c2=O</td>\n",
              "    </tr>\n",
              "    <tr>\n",
              "      <th>992</th>\n",
              "      <td>3-Pentanol</td>\n",
              "      <td>-0.970</td>\n",
              "      <td>1</td>\n",
              "      <td>88.150</td>\n",
              "      <td>1</td>\n",
              "      <td>0</td>\n",
              "      <td>2</td>\n",
              "      <td>20.23</td>\n",
              "      <td>-0.240</td>\n",
              "      <td>CCC(O)CC</td>\n",
              "    </tr>\n",
              "    <tr>\n",
              "      <th>998</th>\n",
              "      <td>2-Methylbutan-2-ol</td>\n",
              "      <td>-0.954</td>\n",
              "      <td>1</td>\n",
              "      <td>88.150</td>\n",
              "      <td>1</td>\n",
              "      <td>0</td>\n",
              "      <td>1</td>\n",
              "      <td>20.23</td>\n",
              "      <td>0.150</td>\n",
              "      <td>CCC(C)(C)O</td>\n",
              "    </tr>\n",
              "    <tr>\n",
              "      <th>1000</th>\n",
              "      <td>Ethyl formate</td>\n",
              "      <td>-0.402</td>\n",
              "      <td>1</td>\n",
              "      <td>74.079</td>\n",
              "      <td>0</td>\n",
              "      <td>0</td>\n",
              "      <td>2</td>\n",
              "      <td>26.30</td>\n",
              "      <td>0.150</td>\n",
              "      <td>CCOC=O</td>\n",
              "    </tr>\n",
              "    <tr>\n",
              "      <th>1006</th>\n",
              "      <td>3-Pentanone</td>\n",
              "      <td>-0.912</td>\n",
              "      <td>1</td>\n",
              "      <td>86.134</td>\n",
              "      <td>0</td>\n",
              "      <td>0</td>\n",
              "      <td>2</td>\n",
              "      <td>17.07</td>\n",
              "      <td>-0.280</td>\n",
              "      <td>CCC(=O)CC</td>\n",
              "    </tr>\n",
              "    <tr>\n",
              "      <th>1007</th>\n",
              "      <td>Acrylonitrile</td>\n",
              "      <td>-0.354</td>\n",
              "      <td>1</td>\n",
              "      <td>53.064</td>\n",
              "      <td>0</td>\n",
              "      <td>0</td>\n",
              "      <td>0</td>\n",
              "      <td>23.79</td>\n",
              "      <td>0.150</td>\n",
              "      <td>C=CC#N</td>\n",
              "    </tr>\n",
              "    <tr>\n",
              "      <th>1020</th>\n",
              "      <td>Methyl acrylate</td>\n",
              "      <td>-0.878</td>\n",
              "      <td>1</td>\n",
              "      <td>86.090</td>\n",
              "      <td>0</td>\n",
              "      <td>0</td>\n",
              "      <td>1</td>\n",
              "      <td>26.30</td>\n",
              "      <td>-0.220</td>\n",
              "      <td>COC(=O)C=C</td>\n",
              "    </tr>\n",
              "    <tr>\n",
              "      <th>1025</th>\n",
              "      <td>Sucrose</td>\n",
              "      <td>0.310</td>\n",
              "      <td>1</td>\n",
              "      <td>342.297</td>\n",
              "      <td>8</td>\n",
              "      <td>2</td>\n",
              "      <td>5</td>\n",
              "      <td>189.53</td>\n",
              "      <td>0.790</td>\n",
              "      <td>OCC2OC(OC1(CO)OC(CO)C(O)C1O)C(O)C(O)C2O</td>\n",
              "    </tr>\n",
              "    <tr>\n",
              "      <th>1026</th>\n",
              "      <td>d-inositol</td>\n",
              "      <td>-0.887</td>\n",
              "      <td>1</td>\n",
              "      <td>180.156</td>\n",
              "      <td>6</td>\n",
              "      <td>1</td>\n",
              "      <td>0</td>\n",
              "      <td>121.38</td>\n",
              "      <td>0.350</td>\n",
              "      <td>OC1C(O)C(O)C(O)C(O)C1O</td>\n",
              "    </tr>\n",
              "    <tr>\n",
              "      <th>1043</th>\n",
              "      <td>nicotinamide</td>\n",
              "      <td>-0.964</td>\n",
              "      <td>1</td>\n",
              "      <td>122.127</td>\n",
              "      <td>1</td>\n",
              "      <td>1</td>\n",
              "      <td>1</td>\n",
              "      <td>55.98</td>\n",
              "      <td>0.610</td>\n",
              "      <td>NC(=O)c1cccnc1</td>\n",
              "    </tr>\n",
              "    <tr>\n",
              "      <th>1064</th>\n",
              "      <td>vamidothion</td>\n",
              "      <td>-1.446</td>\n",
              "      <td>1</td>\n",
              "      <td>287.343</td>\n",
              "      <td>1</td>\n",
              "      <td>0</td>\n",
              "      <td>8</td>\n",
              "      <td>64.63</td>\n",
              "      <td>1.144</td>\n",
              "      <td>CNC(=O)C(C)SCCSP(=O)(OC)(OC)</td>\n",
              "    </tr>\n",
              "    <tr>\n",
              "      <th>1066</th>\n",
              "      <td>Butyraldehyde</td>\n",
              "      <td>-0.749</td>\n",
              "      <td>1</td>\n",
              "      <td>72.107</td>\n",
              "      <td>0</td>\n",
              "      <td>0</td>\n",
              "      <td>2</td>\n",
              "      <td>17.07</td>\n",
              "      <td>-0.010</td>\n",
              "      <td>CCCC=O</td>\n",
              "    </tr>\n",
              "    <tr>\n",
              "      <th>1073</th>\n",
              "      <td>2-Methylpropan-1-ol</td>\n",
              "      <td>-0.672</td>\n",
              "      <td>1</td>\n",
              "      <td>74.123</td>\n",
              "      <td>1</td>\n",
              "      <td>0</td>\n",
              "      <td>1</td>\n",
              "      <td>20.23</td>\n",
              "      <td>0.100</td>\n",
              "      <td>CC(C)CO</td>\n",
              "    </tr>\n",
              "    <tr>\n",
              "      <th>1081</th>\n",
              "      <td>2-butenal</td>\n",
              "      <td>-0.604</td>\n",
              "      <td>1</td>\n",
              "      <td>70.091</td>\n",
              "      <td>0</td>\n",
              "      <td>0</td>\n",
              "      <td>1</td>\n",
              "      <td>17.07</td>\n",
              "      <td>0.320</td>\n",
              "      <td>CC=CC=O</td>\n",
              "    </tr>\n",
              "    <tr>\n",
              "      <th>1082</th>\n",
              "      <td>tetramethylurea</td>\n",
              "      <td>-0.495</td>\n",
              "      <td>1</td>\n",
              "      <td>116.164</td>\n",
              "      <td>0</td>\n",
              "      <td>0</td>\n",
              "      <td>0</td>\n",
              "      <td>23.55</td>\n",
              "      <td>0.940</td>\n",
              "      <td>CN(C)C(=O)N(C)C</td>\n",
              "    </tr>\n",
              "    <tr>\n",
              "      <th>1100</th>\n",
              "      <td>4-hydroxypyridine</td>\n",
              "      <td>-1.655</td>\n",
              "      <td>1</td>\n",
              "      <td>95.101</td>\n",
              "      <td>1</td>\n",
              "      <td>1</td>\n",
              "      <td>0</td>\n",
              "      <td>33.12</td>\n",
              "      <td>1.020</td>\n",
              "      <td>Oc1ccncc1</td>\n",
              "    </tr>\n",
              "    <tr>\n",
              "      <th>1103</th>\n",
              "      <td>4-Methyl-2-pentanol</td>\n",
              "      <td>-1.308</td>\n",
              "      <td>1</td>\n",
              "      <td>102.177</td>\n",
              "      <td>1</td>\n",
              "      <td>0</td>\n",
              "      <td>2</td>\n",
              "      <td>20.23</td>\n",
              "      <td>-0.800</td>\n",
              "      <td>CC(C)CC(C)O</td>\n",
              "    </tr>\n",
              "  </tbody>\n",
              "</table>\n",
              "</div>"
            ],
            "text/plain": [
              "               Compound ID  ...                                    smiles\n",
              "903       Ethyl propionate  ...                                CCOC(=O)CC\n",
              "909       2-cyanoguanidine  ...                               NC(N)=NC#N \n",
              "919         Methyl acetate  ...                                  COC(=O)C\n",
              "926    2-Methyl-2-pentanol  ...                               CCCC(C)(C)O\n",
              "932              Pteridine  ...                            c2cnc1ncncc1n2\n",
              "940           Nitromethane  ...                                  CN(=O)=O\n",
              "953                 Ethyne  ...                                       C#C\n",
              "954   3,5-Dimethylpyridine  ...                              Cc1cncc(C)c1\n",
              "974    3-Methyl-2-butanone  ...                               CC(C)C(=O)C\n",
              "983                Ethanol  ...                                       CCO\n",
              "991            aminopyrine  ...           CN(C)c2c(C)n(C)n(c1ccccc1)c2=O \n",
              "992             3-Pentanol  ...                                  CCC(O)CC\n",
              "998     2-Methylbutan-2-ol  ...                                CCC(C)(C)O\n",
              "1000         Ethyl formate  ...                                    CCOC=O\n",
              "1006           3-Pentanone  ...                                 CCC(=O)CC\n",
              "1007         Acrylonitrile  ...                                    C=CC#N\n",
              "1020       Methyl acrylate  ...                                COC(=O)C=C\n",
              "1025               Sucrose  ...  OCC2OC(OC1(CO)OC(CO)C(O)C1O)C(O)C(O)C2O \n",
              "1026            d-inositol  ...                    OC1C(O)C(O)C(O)C(O)C1O\n",
              "1043          nicotinamide  ...                           NC(=O)c1cccnc1 \n",
              "1064           vamidothion  ...              CNC(=O)C(C)SCCSP(=O)(OC)(OC)\n",
              "1066         Butyraldehyde  ...                                    CCCC=O\n",
              "1073   2-Methylpropan-1-ol  ...                                   CC(C)CO\n",
              "1081             2-butenal  ...                                   CC=CC=O\n",
              "1082       tetramethylurea  ...                          CN(C)C(=O)N(C)C \n",
              "1100     4-hydroxypyridine  ...                                 Oc1ccncc1\n",
              "1103   4-Methyl-2-pentanol  ...                               CC(C)CC(C)O\n",
              "\n",
              "[27 rows x 10 columns]"
            ]
          },
          "metadata": {
            "tags": []
          },
          "execution_count": 18
        }
      ]
    },
    {
      "cell_type": "markdown",
      "metadata": {
        "id": "7UWY6BFoPzVy"
      },
      "source": [
        "#Determining Molecular Toxicity"
      ]
    },
    {
      "cell_type": "code",
      "metadata": {
        "id": "KsU7zYo08qz1",
        "colab": {
          "base_uri": "https://localhost:8080/",
          "height": 238
        },
        "outputId": "3d384e8e-2915-46bc-f3e8-67265eada61e"
      },
      "source": [
        "tox_data = pd.read_csv(\"/content/tox21.csv\")\n",
        "tox_data.head()"
      ],
      "execution_count": null,
      "outputs": [
        {
          "output_type": "execute_result",
          "data": {
            "text/html": [
              "<div>\n",
              "<style scoped>\n",
              "    .dataframe tbody tr th:only-of-type {\n",
              "        vertical-align: middle;\n",
              "    }\n",
              "\n",
              "    .dataframe tbody tr th {\n",
              "        vertical-align: top;\n",
              "    }\n",
              "\n",
              "    .dataframe thead th {\n",
              "        text-align: right;\n",
              "    }\n",
              "</style>\n",
              "<table border=\"1\" class=\"dataframe\">\n",
              "  <thead>\n",
              "    <tr style=\"text-align: right;\">\n",
              "      <th></th>\n",
              "      <th>NR-AR</th>\n",
              "      <th>NR-AR-LBD</th>\n",
              "      <th>NR-AhR</th>\n",
              "      <th>NR-Aromatase</th>\n",
              "      <th>NR-ER</th>\n",
              "      <th>NR-ER-LBD</th>\n",
              "      <th>NR-PPAR-gamma</th>\n",
              "      <th>SR-ARE</th>\n",
              "      <th>SR-ATAD5</th>\n",
              "      <th>SR-HSE</th>\n",
              "      <th>SR-MMP</th>\n",
              "      <th>SR-p53</th>\n",
              "      <th>mol_id</th>\n",
              "      <th>smiles</th>\n",
              "    </tr>\n",
              "  </thead>\n",
              "  <tbody>\n",
              "    <tr>\n",
              "      <th>0</th>\n",
              "      <td>0.0</td>\n",
              "      <td>0.0</td>\n",
              "      <td>1.0</td>\n",
              "      <td>NaN</td>\n",
              "      <td>NaN</td>\n",
              "      <td>0.0</td>\n",
              "      <td>0.0</td>\n",
              "      <td>1.0</td>\n",
              "      <td>0.0</td>\n",
              "      <td>0.0</td>\n",
              "      <td>0.0</td>\n",
              "      <td>0.0</td>\n",
              "      <td>TOX3021</td>\n",
              "      <td>CCOc1ccc2nc(S(N)(=O)=O)sc2c1</td>\n",
              "    </tr>\n",
              "    <tr>\n",
              "      <th>1</th>\n",
              "      <td>0.0</td>\n",
              "      <td>0.0</td>\n",
              "      <td>0.0</td>\n",
              "      <td>0.0</td>\n",
              "      <td>0.0</td>\n",
              "      <td>0.0</td>\n",
              "      <td>0.0</td>\n",
              "      <td>NaN</td>\n",
              "      <td>0.0</td>\n",
              "      <td>NaN</td>\n",
              "      <td>0.0</td>\n",
              "      <td>0.0</td>\n",
              "      <td>TOX3020</td>\n",
              "      <td>CCN1C(=O)NC(c2ccccc2)C1=O</td>\n",
              "    </tr>\n",
              "    <tr>\n",
              "      <th>2</th>\n",
              "      <td>NaN</td>\n",
              "      <td>NaN</td>\n",
              "      <td>NaN</td>\n",
              "      <td>NaN</td>\n",
              "      <td>NaN</td>\n",
              "      <td>NaN</td>\n",
              "      <td>NaN</td>\n",
              "      <td>0.0</td>\n",
              "      <td>NaN</td>\n",
              "      <td>0.0</td>\n",
              "      <td>NaN</td>\n",
              "      <td>NaN</td>\n",
              "      <td>TOX3024</td>\n",
              "      <td>CC[C@]1(O)CC[C@H]2[C@@H]3CCC4=CCCC[C@@H]4[C@H]...</td>\n",
              "    </tr>\n",
              "    <tr>\n",
              "      <th>3</th>\n",
              "      <td>0.0</td>\n",
              "      <td>0.0</td>\n",
              "      <td>0.0</td>\n",
              "      <td>0.0</td>\n",
              "      <td>0.0</td>\n",
              "      <td>0.0</td>\n",
              "      <td>0.0</td>\n",
              "      <td>NaN</td>\n",
              "      <td>0.0</td>\n",
              "      <td>NaN</td>\n",
              "      <td>0.0</td>\n",
              "      <td>0.0</td>\n",
              "      <td>TOX3027</td>\n",
              "      <td>CCCN(CC)C(CC)C(=O)Nc1c(C)cccc1C</td>\n",
              "    </tr>\n",
              "    <tr>\n",
              "      <th>4</th>\n",
              "      <td>0.0</td>\n",
              "      <td>0.0</td>\n",
              "      <td>NaN</td>\n",
              "      <td>0.0</td>\n",
              "      <td>0.0</td>\n",
              "      <td>0.0</td>\n",
              "      <td>0.0</td>\n",
              "      <td>0.0</td>\n",
              "      <td>0.0</td>\n",
              "      <td>0.0</td>\n",
              "      <td>NaN</td>\n",
              "      <td>0.0</td>\n",
              "      <td>TOX3028</td>\n",
              "      <td>CC(O)(P(=O)(O)O)P(=O)(O)O</td>\n",
              "    </tr>\n",
              "  </tbody>\n",
              "</table>\n",
              "</div>"
            ],
            "text/plain": [
              "   NR-AR  NR-AR-LBD  ...   mol_id                                             smiles\n",
              "0    0.0        0.0  ...  TOX3021                       CCOc1ccc2nc(S(N)(=O)=O)sc2c1\n",
              "1    0.0        0.0  ...  TOX3020                          CCN1C(=O)NC(c2ccccc2)C1=O\n",
              "2    NaN        NaN  ...  TOX3024  CC[C@]1(O)CC[C@H]2[C@@H]3CCC4=CCCC[C@@H]4[C@H]...\n",
              "3    0.0        0.0  ...  TOX3027                    CCCN(CC)C(CC)C(=O)Nc1c(C)cccc1C\n",
              "4    0.0        0.0  ...  TOX3028                          CC(O)(P(=O)(O)O)P(=O)(O)O\n",
              "\n",
              "[5 rows x 14 columns]"
            ]
          },
          "metadata": {
            "tags": []
          },
          "execution_count": 23
        }
      ]
    },
    {
      "cell_type": "code",
      "metadata": {
        "id": "zDfCpjKVXfdp"
      },
      "source": [
        "_, datasets, transformers = deepchem.molnet.load_tox21(featurizer='GraphConv')\n",
        "tox_train_dataset, tox_valid_dataset, tox_test_dataset = datasets"
      ],
      "execution_count": null,
      "outputs": []
    },
    {
      "cell_type": "code",
      "metadata": {
        "id": "UgMz6n9X9b3J",
        "colab": {
          "base_uri": "https://localhost:8080/"
        },
        "outputId": "c8b6d050-35aa-402c-dbe8-b80a3747000e"
      },
      "source": [
        "import warnings\n",
        "warnings.filterwarnings('ignore')\n",
        "\n",
        "tox_gnn = GraphConvModel(dropout=0.2, n_tasks=12, mode = \"classification\")\n",
        "tox_gnn.fit(tox_train_dataset, nb_epoch=20)"
      ],
      "execution_count": null,
      "outputs": [
        {
          "output_type": "execute_result",
          "data": {
            "text/plain": [
              "0.7494463602701823"
            ]
          },
          "metadata": {
            "tags": []
          },
          "execution_count": 25
        }
      ]
    },
    {
      "cell_type": "markdown",
      "metadata": {
        "id": "b_UHQ9SCnIRq"
      },
      "source": [
        "###Evaluating our Model\n"
      ]
    },
    {
      "cell_type": "code",
      "metadata": {
        "id": "cAKjVjLdnHzf",
        "colab": {
          "base_uri": "https://localhost:8080/"
        },
        "outputId": "44664e63-56c1-4adf-9f38-dc2e825e5cab"
      },
      "source": [
        "tox_pred = tox_gnn.predict(tox_test_dataset)[:,:,1]\n",
        "tox_pred"
      ],
      "execution_count": null,
      "outputs": [
        {
          "output_type": "execute_result",
          "data": {
            "text/plain": [
              "array([[0.3905988 , 0.07365133, 0.19927329, ..., 0.38099444, 0.30016765,\n",
              "        0.16158064],\n",
              "       [0.43459338, 0.22511867, 0.7307467 , ..., 0.8141992 , 0.7560565 ,\n",
              "        0.8310102 ],\n",
              "       [0.3530925 , 0.10199492, 0.25780785, ..., 0.861129  , 0.85087436,\n",
              "        0.5323503 ],\n",
              "       ...,\n",
              "       [0.4142805 , 0.11059611, 0.8402634 , ..., 0.6118191 , 0.7642377 ,\n",
              "        0.52978593],\n",
              "       [0.10089765, 0.52886325, 0.02362225, ..., 0.08234042, 0.01533303,\n",
              "        0.22204691],\n",
              "       [0.25906047, 0.10784597, 0.56881267, ..., 0.09551933, 0.27502462,\n",
              "        0.22000885]], dtype=float32)"
            ]
          },
          "metadata": {
            "tags": []
          },
          "execution_count": 27
        }
      ]
    },
    {
      "cell_type": "code",
      "metadata": {
        "id": "tnj43CsGuznv"
      },
      "source": [
        "tox_pred_class = (tox_pred > 0.5)"
      ],
      "execution_count": null,
      "outputs": []
    },
    {
      "cell_type": "code",
      "metadata": {
        "id": "pWKxeHd_ngVT",
        "colab": {
          "base_uri": "https://localhost:8080/"
        },
        "outputId": "3624f11f-724e-4ea4-d244-c5972c1c190f"
      },
      "source": [
        "print (\"Baseline Accuracy is 100% minus\")\n",
        "print (tox_test_dataset.y.mean())\n",
        "\n",
        "\n",
        "print (\"Accuracy\")\n",
        "right_ans = tox_pred_class == tox_test_dataset.y\n",
        "print (right_ans.mean())"
      ],
      "execution_count": null,
      "outputs": [
        {
          "output_type": "stream",
          "text": [
            "Baseline Accuracy is 100% minus\n",
            "0.070578231292517\n",
            "Accuracy\n",
            "0.5266794217687075\n"
          ],
          "name": "stdout"
        }
      ]
    },
    {
      "cell_type": "markdown",
      "metadata": {
        "id": "E4CE2v4wwjN3"
      },
      "source": [
        "###Identifying Safe Drugs"
      ]
    },
    {
      "cell_type": "code",
      "metadata": {
        "id": "6lV8qchRvpBw",
        "colab": {
          "base_uri": "https://localhost:8080/"
        },
        "outputId": "e76f0048-6dfd-4394-ac33-2d27a9ed0964"
      },
      "source": [
        "any_toxic = tox_pred_class.any(axis=1) \n",
        "1 - (any_toxic.mean())"
      ],
      "execution_count": null,
      "outputs": [
        {
          "output_type": "execute_result",
          "data": {
            "text/plain": [
              "0.0714285714285714"
            ]
          },
          "metadata": {
            "tags": []
          },
          "execution_count": 30
        }
      ]
    }
  ]
}