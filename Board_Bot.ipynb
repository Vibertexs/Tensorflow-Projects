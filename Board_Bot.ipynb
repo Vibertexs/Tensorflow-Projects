{
  "nbformat": 4,
  "nbformat_minor": 0,
  "metadata": {
    "colab": {
      "name": "Board_Bot.ipynb",
      "provenance": [],
      "authorship_tag": "ABX9TyPlpaB7Jn0yNo/2ZW7RMT9q",
      "include_colab_link": true
    },
    "kernelspec": {
      "name": "python3",
      "display_name": "Python 3"
    }
  },
  "cells": [
    {
      "cell_type": "markdown",
      "metadata": {
        "id": "view-in-github",
        "colab_type": "text"
      },
      "source": [
        "<a href=\"https://colab.research.google.com/github/Vibertexs/Tensorflow-Projects/blob/main/Board_Bot.ipynb\" target=\"_parent\"><img src=\"https://colab.research.google.com/assets/colab-badge.svg\" alt=\"Open In Colab\"/></a>"
      ]
    },
    {
      "cell_type": "code",
      "metadata": {
        "colab": {
          "base_uri": "https://localhost:8080/"
        },
        "id": "at-iu39kqwTJ",
        "outputId": "1f1810f1-85c0-4c84-bd3a-73c72daa6fc7"
      },
      "source": [
        "import random as r\r\n",
        "import tensorflow as tf\r\n",
        "\r\n",
        "# the size of the board given by the user\r\n",
        "size = int(input(\"Give a number for dimension: \"))\r\n",
        "\r\n",
        "# randomly generate an n x n board\r\n",
        "def initboard(n):\r\n",
        "    # initialize a board to return\r\n",
        "    board = []\r\n",
        "    # go through the board to initialize the random values\r\n",
        "    for i in range(n):\r\n",
        "        temp = []\r\n",
        "        for j in range(n):\r\n",
        "            temp.append(r.randint(1,n-1))\r\n",
        "        board.append(temp) \r\n",
        "    board[n-1][n-1] = 0\r\n",
        "    br = board[n-1][n-1]\r\n",
        "    # return the board when complete\r\n",
        "    return board\r\n",
        "\r\n",
        "# printing out the board ex) 4 x 4 board\r\n",
        "# _______________________\r\n",
        "# 4 | 1 | 2 | 3 | \r\n",
        "# _______________________\r\n",
        "# 3 | 1 | 1 | 1 | \r\n",
        "# _______________________\r\n",
        "# 1 | 2 | 1 | 2 | \r\n",
        "# _______________________\r\n",
        "# 2 | 1 | 1 | 2 | \r\n",
        "# _______________________\r\n",
        "def showboard(x):\r\n",
        "    print('_______________________')\r\n",
        "    for e in x:\r\n",
        "        for element in e:\r\n",
        "            print(str(element), end=\"\")\r\n",
        "            print(\" | \", end=\" \")\r\n",
        "        print('\\n' + '_______________________')"
      ],
      "execution_count": 1,
      "outputs": [
        {
          "output_type": "stream",
          "text": [
            "Give a number for dimension: 4\n"
          ],
          "name": "stdout"
        }
      ]
    },
    {
      "cell_type": "code",
      "metadata": {
        "colab": {
          "base_uri": "https://localhost:8080/"
        },
        "id": "t6kT5Vbwqzm1",
        "outputId": "24d55d73-1c0d-440c-b4f6-8e6eee1caadd"
      },
      "source": [
        "# initialize the board\r\n",
        "b = initboard(size)\r\n",
        "print(b)\r\n",
        "# showboard(board)\r\n",
        "showboard(b)\r\n",
        "#showboard(evaluateboard(b))\r\n"
      ],
      "execution_count": 2,
      "outputs": [
        {
          "output_type": "stream",
          "text": [
            "[[2, 2, 1, 3], [3, 2, 1, 3], [1, 1, 2, 2], [2, 1, 1, 0]]\n",
            "_______________________\n",
            "2 |  2 |  1 |  3 |  \n",
            "_______________________\n",
            "3 |  2 |  1 |  3 |  \n",
            "_______________________\n",
            "1 |  1 |  2 |  2 |  \n",
            "_______________________\n",
            "2 |  1 |  1 |  0 |  \n",
            "_______________________\n"
          ],
          "name": "stdout"
        }
      ]
    },
    {
      "cell_type": "code",
      "metadata": {
        "id": "phJmOCu8q2W7"
      },
      "source": [
        "def copyBoard(board):\r\n",
        "    newBoard = []\r\n",
        "    for i in range(len(board)):\r\n",
        "        newBoard.append(board[i].copy())\r\n",
        "    return newBoard\r\n"
      ],
      "execution_count": 3,
      "outputs": []
    },
    {
      "cell_type": "code",
      "metadata": {
        "colab": {
          "base_uri": "https://localhost:8080/"
        },
        "id": "3flihumHq4yU",
        "outputId": "493c5746-6178-4f07-c477-1c8ed592632a"
      },
      "source": [
        "def evaluateboard(b, evaluation, currenteval, size):\r\n",
        "    for i in range(size):\r\n",
        "        for j in range(size):\r\n",
        "            if evaluation[i][j] == currenteval:\r\n",
        "                move = b[i][j]\r\n",
        "                # moves down a row\r\n",
        "                if (i+move) < size and evaluation[i+move][j] == -1:\r\n",
        "                        evaluation[i+move][j] = currenteval + 1\r\n",
        "                # moves to the right of a column\r\n",
        "                if (j+move) < size and evaluation[i][j+move] == -1:\r\n",
        "                        evaluation[i][j+move] = currenteval + 1\r\n",
        "                # moves up a row\r\n",
        "                if (i-move) > 0 and evaluation[i-move][j] == -1:\r\n",
        "                        evaluation[i-move][j] = currenteval + 1\r\n",
        "                # moves to the left of a column\r\n",
        "                if (j-move) > 0 and evaluation[i][j-move] == -1:\r\n",
        "                        evaluation[i][j-move] = currenteval + 1                   \r\n",
        "    return evaluation\r\n",
        "\r\n",
        "evalpuzzle = []\r\n",
        "# initialize the eval board\r\n",
        "for i in range(size):\r\n",
        "    temp = []\r\n",
        "    for j in range(size):\r\n",
        "        temp.append(-1)\r\n",
        "    evalpuzzle.append(temp)\r\n",
        "            \r\n",
        "evalpuzzle[0][0] = 0\r\n",
        "showboard(evalpuzzle)\r\n",
        "\r\n",
        "current = 0\r\n",
        "done = False\r\n",
        "temp = copyBoard(evalpuzzle)\r\n",
        "print(temp)\r\n",
        "while not done:\r\n",
        "    temp2 = evaluateboard(b,copyBoard(temp),current,size)\r\n",
        "    temp = copyBoard(temp2)\r\n",
        "    temp3 = evaluateboard(b,copyBoard(temp),current+1,size)\r\n",
        "    if temp2 == temp3:\r\n",
        "        done = True\r\n",
        "    else:\r\n",
        "        temp = copyBoard(temp3)\r\n",
        "        current += 2\r\n",
        "evalpuzzle = temp\r\n",
        "# evaluateboard(b, evalpuzzle, 0, size)\r\n",
        "# evaluateboard(b,evalpuzzle,1,size)\r\n",
        "# evaluateboard(b,evalpuzzle,2,size)\r\n",
        "# evaluateboard(b,evalpuzzle,3,size)\r\n",
        "showboard(temp2)\r\n",
        "# temp = evalpuzzle\r\n",
        "# current = 0\r\n",
        "# while not evaluateboard(b, temp, current, size) != evalpuzzle:\r\n",
        "#     evalpuzzle = evaluateboard(b, evalpuzzle, current, size)\r\n",
        "#     temp = evalpuzzle\r\n",
        "#     current += 1\r\n",
        "    \r\n",
        "# showboard(evalpuzzle)\r\n"
      ],
      "execution_count": 4,
      "outputs": [
        {
          "output_type": "stream",
          "text": [
            "_______________________\n",
            "0 |  -1 |  -1 |  -1 |  \n",
            "_______________________\n",
            "-1 |  -1 |  -1 |  -1 |  \n",
            "_______________________\n",
            "-1 |  -1 |  -1 |  -1 |  \n",
            "_______________________\n",
            "-1 |  -1 |  -1 |  -1 |  \n",
            "_______________________\n",
            "[[0, -1, -1, -1], [-1, -1, -1, -1], [-1, -1, -1, -1], [-1, -1, -1, -1]]\n",
            "_______________________\n",
            "0 |  2 |  1 |  2 |  \n",
            "_______________________\n",
            "2 |  3 |  2 |  3 |  \n",
            "_______________________\n",
            "1 |  2 |  3 |  -1 |  \n",
            "_______________________\n",
            "2 |  3 |  3 |  3 |  \n",
            "_______________________\n"
          ],
          "name": "stdout"
        }
      ]
    },
    {
      "cell_type": "code",
      "metadata": {
        "colab": {
          "base_uri": "https://localhost:8080/"
        },
        "id": "A2HgDt3Nq6Wn",
        "outputId": "fc232d01-4807-4154-e854-773b52857e7a"
      },
      "source": [
        "# hill climbing\r\n",
        "def subtract(b):\r\n",
        "    for x in range(size):\r\n",
        "        for i in range (size):\r\n",
        "            if b[x][i] > 4:\r\n",
        "                b[x][i] = b [x][i] + 4\r\n",
        "    return b\r\n",
        "    \r\n",
        "for x in range(500):\r\n",
        "    \r\n",
        "    new = initboard(size)\r\n",
        "#     crate  the new eval board from while loop above this\r\n",
        "    evalnew = []\r\n",
        "#     initialize the eval board\r\n",
        "    for i in range (size):\r\n",
        "            temp = []\r\n",
        "            for j in range(size):\r\n",
        "                temp.append(-1)\r\n",
        "                evalnew.append(temp)\r\n",
        "            evalnew[0][0] = 0\r\n",
        "            \r\n",
        "    current = 0\r\n",
        "    done = False\r\n",
        "    temp = copyBoard(evalpuzzle)\r\n",
        "    while not done:\r\n",
        "        temp2 = evaluateboard(new, copyBoard(temp), current, size)\r\n",
        "        temp = copyBoard(temp2)\r\n",
        "        temp3 = evaluateboard(new, copyBoard(temp), current +1,  size)\r\n",
        "        if temp2 == temp3:\r\n",
        "            done = True\r\n",
        "        else:\r\n",
        "            temp = copyBoard(temp3)\r\n",
        "        evalnew = copyBoard(temp)\r\n",
        "    if evalpuzzle[size-1][size-1] < new [size-1][size-1]:\r\n",
        "        evalpuzzle = copyBoard(evalnew)\r\n",
        "        b = copyBoard(new)\r\n",
        "        subtract(evalpuzzle)\r\n",
        "showboard(b)\r\n",
        "showboard(evalpuzzle)\r\n"
      ],
      "execution_count": 5,
      "outputs": [
        {
          "output_type": "stream",
          "text": [
            "_______________________\n",
            "2 |  2 |  1 |  3 |  \n",
            "_______________________\n",
            "3 |  2 |  1 |  3 |  \n",
            "_______________________\n",
            "1 |  1 |  2 |  2 |  \n",
            "_______________________\n",
            "2 |  1 |  1 |  0 |  \n",
            "_______________________\n",
            "_______________________\n",
            "0 |  2 |  1 |  2 |  \n",
            "_______________________\n",
            "2 |  3 |  2 |  3 |  \n",
            "_______________________\n",
            "1 |  2 |  3 |  -1 |  \n",
            "_______________________\n",
            "2 |  3 |  3 |  3 |  \n",
            "_______________________\n"
          ],
          "name": "stdout"
        }
      ]
    },
    {
      "cell_type": "code",
      "metadata": {
        "id": "tnHmVtgcq766"
      },
      "source": [
        ""
      ],
      "execution_count": null,
      "outputs": []
    }
  ]
}