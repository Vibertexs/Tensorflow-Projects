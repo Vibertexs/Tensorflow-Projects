{
  "nbformat": 4,
  "nbformat_minor": 0,
  "metadata": {
    "colab": {
      "name": "Yelp Review.ipynb",
      "provenance": [],
      "collapsed_sections": [
        "M0B4ZiQt68Qw"
      ],
      "authorship_tag": "ABX9TyN/lRIV/Mm8xaBbcduC4AFB",
      "include_colab_link": true
    },
    "kernelspec": {
      "name": "python3",
      "display_name": "Python 3"
    }
  },
  "cells": [
    {
      "cell_type": "markdown",
      "metadata": {
        "id": "view-in-github",
        "colab_type": "text"
      },
      "source": [
        "<a href=\"https://colab.research.google.com/github/Vibertexs/Tensorflow-Projects/blob/main/Yelp_Review.ipynb\" target=\"_parent\"><img src=\"https://colab.research.google.com/assets/colab-badge.svg\" alt=\"Open In Colab\"/></a>"
      ]
    },
    {
      "cell_type": "markdown",
      "metadata": {
        "id": "M0B4ZiQt68Qw"
      },
      "source": [
        "# Imports"
      ]
    },
    {
      "cell_type": "code",
      "metadata": {
        "colab": {
          "base_uri": "https://localhost:8080/"
        },
        "id": "piKTlYN96IbW",
        "outputId": "714ed06a-7642-4741-c1cf-e1e62718865b"
      },
      "source": [
        "#@title Library Imports \r\n",
        "import pandas as pd  \r\n",
        "import numpy as np\r\n",
        "import matplotlib.pyplot as plt\r\n",
        "import seaborn as sns\r\n",
        "import string\r\n",
        "import nltk\r\n",
        "import spacy\r\n",
        "import wordcloud\r\n",
        "import os # Good for navigating your computer's files \r\n",
        "import sys\r\n",
        "\r\n",
        "from nltk.corpus import stopwords\r\n",
        "from nltk.stem import WordNetLemmatizer\r\n",
        "from nltk.corpus import stopwords\r\n",
        "from nltk.tokenize import word_tokenize\r\n",
        "from spacy.lang.en.stop_words import STOP_WORDS\r\n",
        "nltk.download('wordnet')\r\n",
        "nltk.download('punkt')\r\n",
        "\r\n",
        "from wordcloud import WordCloud\r\n",
        "import matplotlib.pyplot as plt\r\n",
        "from sklearn.feature_extraction.text import CountVectorizer\r\n",
        "from sklearn.model_selection import train_test_split\r\n",
        "from sklearn.linear_model import LogisticRegression\r\n",
        "from sklearn.metrics import confusion_matrix, classification_report\r\n",
        "!python -m spacy download en_core_web_md\r\n",
        "import en_core_web_md\r\n",
        "\r\n"
      ],
      "execution_count": null,
      "outputs": [
        {
          "output_type": "stream",
          "text": [
            "[nltk_data] Downloading package wordnet to /root/nltk_data...\n",
            "[nltk_data]   Unzipping corpora/wordnet.zip.\n",
            "[nltk_data] Downloading package punkt to /root/nltk_data...\n",
            "[nltk_data]   Unzipping tokenizers/punkt.zip.\n",
            "Collecting en_core_web_md==2.2.5\n",
            "\u001b[?25l  Downloading https://github.com/explosion/spacy-models/releases/download/en_core_web_md-2.2.5/en_core_web_md-2.2.5.tar.gz (96.4MB)\n",
            "\u001b[K     |████████████████████████████████| 96.4MB 1.4MB/s \n",
            "\u001b[?25hRequirement already satisfied: spacy>=2.2.2 in /usr/local/lib/python3.6/dist-packages (from en_core_web_md==2.2.5) (2.2.4)\n",
            "Requirement already satisfied: tqdm<5.0.0,>=4.38.0 in /usr/local/lib/python3.6/dist-packages (from spacy>=2.2.2->en_core_web_md==2.2.5) (4.41.1)\n",
            "Requirement already satisfied: preshed<3.1.0,>=3.0.2 in /usr/local/lib/python3.6/dist-packages (from spacy>=2.2.2->en_core_web_md==2.2.5) (3.0.5)\n",
            "Requirement already satisfied: plac<1.2.0,>=0.9.6 in /usr/local/lib/python3.6/dist-packages (from spacy>=2.2.2->en_core_web_md==2.2.5) (1.1.3)\n",
            "Requirement already satisfied: srsly<1.1.0,>=1.0.2 in /usr/local/lib/python3.6/dist-packages (from spacy>=2.2.2->en_core_web_md==2.2.5) (1.0.5)\n",
            "Requirement already satisfied: numpy>=1.15.0 in /usr/local/lib/python3.6/dist-packages (from spacy>=2.2.2->en_core_web_md==2.2.5) (1.19.5)\n",
            "Requirement already satisfied: cymem<2.1.0,>=2.0.2 in /usr/local/lib/python3.6/dist-packages (from spacy>=2.2.2->en_core_web_md==2.2.5) (2.0.5)\n",
            "Requirement already satisfied: murmurhash<1.1.0,>=0.28.0 in /usr/local/lib/python3.6/dist-packages (from spacy>=2.2.2->en_core_web_md==2.2.5) (1.0.5)\n",
            "Requirement already satisfied: setuptools in /usr/local/lib/python3.6/dist-packages (from spacy>=2.2.2->en_core_web_md==2.2.5) (51.1.1)\n",
            "Requirement already satisfied: thinc==7.4.0 in /usr/local/lib/python3.6/dist-packages (from spacy>=2.2.2->en_core_web_md==2.2.5) (7.4.0)\n",
            "Requirement already satisfied: wasabi<1.1.0,>=0.4.0 in /usr/local/lib/python3.6/dist-packages (from spacy>=2.2.2->en_core_web_md==2.2.5) (0.8.0)\n",
            "Requirement already satisfied: requests<3.0.0,>=2.13.0 in /usr/local/lib/python3.6/dist-packages (from spacy>=2.2.2->en_core_web_md==2.2.5) (2.23.0)\n",
            "Requirement already satisfied: blis<0.5.0,>=0.4.0 in /usr/local/lib/python3.6/dist-packages (from spacy>=2.2.2->en_core_web_md==2.2.5) (0.4.1)\n",
            "Requirement already satisfied: catalogue<1.1.0,>=0.0.7 in /usr/local/lib/python3.6/dist-packages (from spacy>=2.2.2->en_core_web_md==2.2.5) (1.0.0)\n",
            "Requirement already satisfied: urllib3!=1.25.0,!=1.25.1,<1.26,>=1.21.1 in /usr/local/lib/python3.6/dist-packages (from requests<3.0.0,>=2.13.0->spacy>=2.2.2->en_core_web_md==2.2.5) (1.24.3)\n",
            "Requirement already satisfied: idna<3,>=2.5 in /usr/local/lib/python3.6/dist-packages (from requests<3.0.0,>=2.13.0->spacy>=2.2.2->en_core_web_md==2.2.5) (2.10)\n",
            "Requirement already satisfied: certifi>=2017.4.17 in /usr/local/lib/python3.6/dist-packages (from requests<3.0.0,>=2.13.0->spacy>=2.2.2->en_core_web_md==2.2.5) (2020.12.5)\n",
            "Requirement already satisfied: chardet<4,>=3.0.2 in /usr/local/lib/python3.6/dist-packages (from requests<3.0.0,>=2.13.0->spacy>=2.2.2->en_core_web_md==2.2.5) (3.0.4)\n",
            "Requirement already satisfied: importlib-metadata>=0.20; python_version < \"3.8\" in /usr/local/lib/python3.6/dist-packages (from catalogue<1.1.0,>=0.0.7->spacy>=2.2.2->en_core_web_md==2.2.5) (3.3.0)\n",
            "Requirement already satisfied: zipp>=0.5 in /usr/local/lib/python3.6/dist-packages (from importlib-metadata>=0.20; python_version < \"3.8\"->catalogue<1.1.0,>=0.0.7->spacy>=2.2.2->en_core_web_md==2.2.5) (3.4.0)\n",
            "Requirement already satisfied: typing-extensions>=3.6.4; python_version < \"3.8\" in /usr/local/lib/python3.6/dist-packages (from importlib-metadata>=0.20; python_version < \"3.8\"->catalogue<1.1.0,>=0.0.7->spacy>=2.2.2->en_core_web_md==2.2.5) (3.7.4.3)\n",
            "Building wheels for collected packages: en-core-web-md\n",
            "  Building wheel for en-core-web-md (setup.py) ... \u001b[?25l\u001b[?25hdone\n",
            "  Created wheel for en-core-web-md: filename=en_core_web_md-2.2.5-cp36-none-any.whl size=98051304 sha256=8ad744461ffd72f1bf6a44c889d9e7dc94fafa3466be955ee754c048799f11ec\n",
            "  Stored in directory: /tmp/pip-ephem-wheel-cache-u6hl2xvr/wheels/df/94/ad/f5cf59224cea6b5686ac4fd1ad19c8a07bc026e13c36502d81\n",
            "Successfully built en-core-web-md\n",
            "Installing collected packages: en-core-web-md\n",
            "Successfully installed en-core-web-md-2.2.5\n",
            "\u001b[38;5;2m✔ Download and installation successful\u001b[0m\n",
            "You can now load the model via spacy.load('en_core_web_md')\n"
          ],
          "name": "stdout"
        }
      ]
    },
    {
      "cell_type": "code",
      "metadata": {
        "id": "1682Ssbk63rV"
      },
      "source": [
        "#@title Data Import\r\n",
        "import gdown\r\n",
        "gdown.download('https://drive.google.com/uc?id=1u0tnEF2Q1a7H_gUEH-ZB3ATx02w8dF4p', 'yelp_final.csv', True)\r\n",
        "data_file  = 'yelp_final.csv'\r\n"
      ],
      "execution_count": null,
      "outputs": []
    },
    {
      "cell_type": "markdown",
      "metadata": {
        "id": "23kS_FD57bSy"
      },
      "source": [
        "# Data Exploration"
      ]
    },
    {
      "cell_type": "code",
      "metadata": {
        "colab": {
          "base_uri": "https://localhost:8080/",
          "height": 279
        },
        "id": "yvE1a1qV7ejz",
        "outputId": "6dd3c03e-6ea6-44d8-9de7-47a68cc217ec"
      },
      "source": [
        "yelp = pd.read_csv(data_file)\r\n",
        "yelp.head()\r\n"
      ],
      "execution_count": null,
      "outputs": [
        {
          "output_type": "execute_result",
          "data": {
            "text/html": [
              "<div>\n",
              "<style scoped>\n",
              "    .dataframe tbody tr th:only-of-type {\n",
              "        vertical-align: middle;\n",
              "    }\n",
              "\n",
              "    .dataframe tbody tr th {\n",
              "        vertical-align: top;\n",
              "    }\n",
              "\n",
              "    .dataframe thead th {\n",
              "        text-align: right;\n",
              "    }\n",
              "</style>\n",
              "<table border=\"1\" class=\"dataframe\">\n",
              "  <thead>\n",
              "    <tr style=\"text-align: right;\">\n",
              "      <th></th>\n",
              "      <th>business_id</th>\n",
              "      <th>stars</th>\n",
              "      <th>text</th>\n",
              "      <th>user_id</th>\n",
              "      <th>cool</th>\n",
              "      <th>useful</th>\n",
              "      <th>funny</th>\n",
              "    </tr>\n",
              "  </thead>\n",
              "  <tbody>\n",
              "    <tr>\n",
              "      <th>0</th>\n",
              "      <td>9yKzy9PApeiPPOUJEtnvkg</td>\n",
              "      <td>5</td>\n",
              "      <td>My wife took me here on my birthday for breakf...</td>\n",
              "      <td>rLtl8ZkDX5vH5nAx9C3q5Q</td>\n",
              "      <td>2</td>\n",
              "      <td>5</td>\n",
              "      <td>0</td>\n",
              "    </tr>\n",
              "    <tr>\n",
              "      <th>1</th>\n",
              "      <td>ZRJwVLyzEJq1VAihDhYiow</td>\n",
              "      <td>5</td>\n",
              "      <td>I have no idea why some people give bad review...</td>\n",
              "      <td>0a2KyEL0d3Yb1V6aivbIuQ</td>\n",
              "      <td>0</td>\n",
              "      <td>0</td>\n",
              "      <td>0</td>\n",
              "    </tr>\n",
              "    <tr>\n",
              "      <th>2</th>\n",
              "      <td>_1QQZuf4zZOyFCvXc0o6Vg</td>\n",
              "      <td>5</td>\n",
              "      <td>Rosie, Dakota, and I LOVE Chaparral Dog Park!!...</td>\n",
              "      <td>uZetl9T0NcROGOyFfughhg</td>\n",
              "      <td>1</td>\n",
              "      <td>2</td>\n",
              "      <td>0</td>\n",
              "    </tr>\n",
              "    <tr>\n",
              "      <th>3</th>\n",
              "      <td>6ozycU1RpktNG2-1BroVtw</td>\n",
              "      <td>5</td>\n",
              "      <td>General Manager Scott Petello is a good egg!!!...</td>\n",
              "      <td>vYmM4KTsC8ZfQBg-j5MWkw</td>\n",
              "      <td>0</td>\n",
              "      <td>0</td>\n",
              "      <td>0</td>\n",
              "    </tr>\n",
              "    <tr>\n",
              "      <th>4</th>\n",
              "      <td>zp713qNhx8d9KCJJnrw1xA</td>\n",
              "      <td>5</td>\n",
              "      <td>Drop what you're doing and drive here. After I...</td>\n",
              "      <td>wFweIWhv2fREZV_dYkz_1g</td>\n",
              "      <td>7</td>\n",
              "      <td>7</td>\n",
              "      <td>4</td>\n",
              "    </tr>\n",
              "  </tbody>\n",
              "</table>\n",
              "</div>"
            ],
            "text/plain": [
              "              business_id  stars  ... useful funny\n",
              "0  9yKzy9PApeiPPOUJEtnvkg      5  ...      5     0\n",
              "1  ZRJwVLyzEJq1VAihDhYiow      5  ...      0     0\n",
              "2  _1QQZuf4zZOyFCvXc0o6Vg      5  ...      2     0\n",
              "3  6ozycU1RpktNG2-1BroVtw      5  ...      0     0\n",
              "4  zp713qNhx8d9KCJJnrw1xA      5  ...      7     4\n",
              "\n",
              "[5 rows x 7 columns]"
            ]
          },
          "metadata": {
            "tags": []
          },
          "execution_count": 29
        }
      ]
    },
    {
      "cell_type": "code",
      "metadata": {
        "id": "qQPMMQSWCFyM"
      },
      "source": [
        "# Remove Buisness ID and user ID\r\n",
        "yelp.drop(labels=['business_id','user_id'],inplace=True,axis=1)"
      ],
      "execution_count": null,
      "outputs": []
    },
    {
      "cell_type": "code",
      "metadata": {
        "id": "fC1jsJt_COoB",
        "colab": {
          "base_uri": "https://localhost:8080/"
        },
        "outputId": "687038ca-f6fd-4ff6-e0fe-d5544cd738bd"
      },
      "source": [
        "num_stars =  5#@param {type:\"integer\"}\r\n",
        "for t in yelp[yelp['stars'] == num_stars]['text'].head(20).values:\r\n",
        "    print(t) "
      ],
      "execution_count": null,
      "outputs": [
        {
          "output_type": "stream",
          "text": [
            "My wife took me here on my birthday for breakfast and it was excellent.  The weather was perfect which made sitting outside overlooking their grounds an absolute pleasure.  Our waitress was excellent and our food arrived quickly on the semi-busy Saturday morning.  It looked like the place fills up pretty quickly so the earlier you get here the better.\n",
            "\n",
            "Do yourself a favor and get their Bloody Mary.  It was phenomenal and simply the best I've ever had.  I'm pretty sure they only use ingredients from their garden and blend them fresh when you order it.  It was amazing.\n",
            "\n",
            "While EVERYTHING on the menu looks excellent, I had the white truffle scrambled eggs vegetable skillet and it was tasty and delicious.  It came with 2 pieces of their griddled bread with was amazing and it absolutely made the meal complete.  It was the best \"toast\" I've ever had.\n",
            "\n",
            "Anyway, I can't wait to go back!\n",
            "I have no idea why some people give bad reviews about this place. It goes to show you, you can please everyone. They are probably griping about something that their own fault...there are many people like that.\n",
            "\n",
            "In any case, my friend and I arrived at about 5:50 PM this past Sunday. It was pretty crowded, more than I thought for a Sunday evening and thought we would have to wait forever to get a seat but they said we'll be seated when the girl comes back from seating someone else. We were seated at 5:52 and the waiter came and got our drink orders. Everyone was very pleasant from the host that seated us to the waiter to the server. The prices were very good as well. We placed our orders once we decided what we wanted at 6:02. We shared the baked spaghetti calzone and the small \"Here's The Beef\" pizza so we can both try them. The calzone was huge and we got the smallest one (personal) and got the small 11\" pizza. Both were awesome! My friend liked the pizza better and I liked the calzone better. The calzone does have a sweetish sauce but that's how I like my sauce!\n",
            "\n",
            "We had to box part of the pizza to take it home and we were out the door by 6:42. So, everything was great and not like these bad reviewers. That goes to show you that  you have to try these things yourself because all these bad reviewers have some serious issues.\n",
            "Rosie, Dakota, and I LOVE Chaparral Dog Park!!! It's very convenient and surrounded by a lot of paths, a desert xeriscape, baseball fields, ballparks, and a lake with ducks.\n",
            "\n",
            "The Scottsdale Park and Rec Dept. does a wonderful job of keeping the park clean and shaded.  You can find trash cans and poopy-pick up mitts located all over the park and paths.\n",
            "\n",
            "The fenced in area is huge to let the dogs run, play, and sniff!\n",
            "General Manager Scott Petello is a good egg!!! Not to go into detail, but let me assure you if you have any issues (albeit rare) speak with Scott and treat the guy with some respect as you state your case and I'd be surprised if you don't walk out totally satisfied as I just did. Like I always say..... \"Mistakes are inevitable, it's how we recover from them that is important\"!!!\n",
            "\n",
            "Thanks to Scott and his awesome staff. You've got a customer for life!! .......... :^)\n",
            "Drop what you're doing and drive here. After I ate here I had to go back the next day for more.  The food is that good.\n",
            "\n",
            "This cute little green building may have gone competely unoticed if I hadn't been driving down Palm Rd to avoid construction.  While waiting to turn onto 16th Street the \"Grand Opening\" sign caught my eye and my little yelping soul leaped for joy!  A new place to try!\n",
            "\n",
            "It looked desolate from the outside but when I opened the door I was put at easy by the decor, smell and cleanliness inside.  I ordered dinner for two, to go.  The menu was awesome.  I loved seeing all the variety: poblano peppers, mole, mahi mahi, mushrooms...something wrapped in banana leaves.  It made it difficult to choose something.  Here's what I've had so far: La Condesa Shrimp Burro and Baja Sur Dogfish Shark Taco.  They are both were very delicious meals but the shrimp burro stole the show.  So much flavor.  I snagged some bites from my hubbys mole and mahi mahi burros- mmmm such a delight.  The salsa bar is endless.  I really stocked up.  I was excited to try the strawberry salsa but it was too hot, in fact it all was, but I'm a big wimp when it comes to hot peppers. The horchata is handmade and delicious.  They throw pecans and some fruit in there too which is a yummy bonus!\n",
            "\n",
            "As if the good food wasn't enough to win me over the art in this restaurant sho did!  I'm a sucker for Mexican folk art and Frida Kahlo is my Oprah.  There's a painting of her and Diego hanging over the salsa bar, it's amazing.  All the paintings are great, love the artist.\n",
            "Nobuo shows his unique talents with everything on the menu. Carefully crafted features with much to drink. Start with the pork belly buns and a stout. Then go on until you can no longer.\n",
            "The oldish man who owns the store is as sweet as can be.  Perhaps sweeter than the cookies or ice cream.\n",
            "\n",
            "Here's the lowdown: Giant ice cream cookie sandwiches for super cheap.  The flavor permutations are basically endless.  I had snickerdoodle with cookies and cream ice cream.  It was marvelous.\n",
            "Wonderful Vietnamese sandwich shoppe. Their baguettes are great hot out of the oven with butter or in one of their many sandwich choices. They have a modest selection of baked goods along with some of the best egg rolls around. Bring cash or your ATM card as no credit cards are accepted but they have an ATM on premises.\n",
            "They have a limited time thing going on right now with BBQ chicken pizza (not sure how long it's going to last) but let me just say it was amazing.  Probably THE best BBQ Chicken pizza I have ever had.  I have tried other things too, like the tomato basil soup, and many of their sandwiches ... very good, very fresh - every time.  \n",
            "\n",
            "The 5 stars is for the pizza, but if I were to rate Jason's Deli over all they would get about a 4.\n",
            "okay this is the best place EVER! i grew up shopping at the one in los gatos, and the one in Oakville. i was shock when i saw the best store in the world in Scottsdale and then not surprised at all. the have all the good stuff. from cheese down to wine. i can't tell you how happy i am that this store is here in Arizona. now if we could just get dean and deluca!\n",
            "This place shouldn't even be reviewed - because it is the kind of place I want to keep for myself...  =)\n",
            "first time my friend and I went there... it was delicious!  The food, garlic knots our favorite and of course the wine!  We will be going back ALOT!\n",
            "I love this place! I have been coming here for ages.\n",
            "My favorites: Elsa's Chicken sandwich, any of their burgers, dragon chicken wings, china's little chicken sandwich, and the hot pepper chicken sandwich. The atmosphere is always fun and the art they display is very abstract but totally cool!\n",
            "I love love LOVE this place. My boss (who is into healthy eating) recommended this place. I went over with some highly skeptical friends and one dinner was enough to convert them into believers! The food here is so good! We had the Shrimp dumplings and the Onion tart as starters. We ordered the Shirataki noodles and street tacos as entrees. So also ordered the Kale-aid. All of the dishes were yummy. \n",
            "I have gone back many times since then and have never been disappointed! I have gone after yoga to get some Kale salad or the chicken chopped salad. I always have to get the Kale aid. \n",
            "Once, a guy at the next table, uprooted a whole plant by mistake (on the patio) and was highly embarrassed as was his date! Ever since, I have very careful not to throw my arms around as I can be quite clumsy sometimes! I do NOT want to be banned from my favorite place for my clumsiness! I don't think I can live without True Food!\n",
            "Disclaimer: Like many of you, I am a sucker for charming little homes that have been re-purposed into restaurants. I am certain that this colored my opinion of Cibo.\n",
            "\n",
            "That being said, I absolutely love having lunch here the other day. I unknowingly arrived at 2:05 (5 minutes after they close between lunch and dinner) but was served anyway. I had the salscicia sandwich and a side of fruit. The sandwich was excellent, served on perfectly crisp, chewy saltimbocca bread. The sausage was flavorful and was complimented by roasted red peppers and onions. All this was finished off with a great quality mozzarella cheese. Really, really delicious.\n",
            "\n",
            "I should also say that the atmosphere here was friendly and  comfortable, though a bit small. This would be a great place to hang out if you lived nearby.\n",
            "Never having dealt with a Discount Tire in Phoenix before (only in Texas, and their service has been great all the time), I came in not knowing what kind of service to expect. I was pleasantly surprised! The store had a good amount of parking, and the store front was clean, open and had adequate seating around the perimeters. There were already 5-6 people sitting and waiting for their cars to be finished, and 2 people waiting infront of me to see a representative. All the guys working there were busy helping someone, yet were saying hello to us and reassuring they'd get to us very soon. I didn't wait an unneccesary amount of time and then was helped by Wally. He inspected my tires, recommended a plan of action gave me options, and we headed back into the store. After I made my decision to replace 2 of the tires, he checked their stock, and unfortunately they didn't have them there. BUT he called another store and had them picked up for the next morning, so I could just come back the next day to this same store and get those bad boys installed. Great! The prices were not as heafty (relief), and although there were a good amount of people the next day waiting for their cars to also be serviced, it took exactly the amount of time they'd told me (45 min). They apologized for the wait, but no need for that! The guy who helped me on the 2nd day (I'm sorry I forgot his name) was also very professional and great. I recommend this store and will be bringing my car here in the future most definitely. Thanks, guys!\n",
            "\n",
            "TIP: If you know you need to bring your car in, you can make an appointment with them online. They take walk-ins, but I believe it helps them manage their customers easier, and that in turn benefits you.\n",
            "(Un)fortunately for me, lux is close to my house.  I walk there nearly every day and am much poorer because of it.  The coffee and pastries are amazing.  They always play really great music too!\n",
            "Fred M. pretty much said what I would say, so I won't beat a dead horse.  I'll add, though, that they offer a wide variety of deep-fried quesadillas.  \n",
            "\n",
            "Did you catch that?\n",
            "\n",
            "DEEP FRIED QUESADILLAS!\n",
            "Alright, I have been away from Yelp for quite some time, and I feel that this place is fitting to be my comeback review...\n",
            "\n",
            "Chicken and Waffles.  Yes, chicken and M'Fin waffles.  \n",
            "\n",
            "In the ghetto?  Check\n",
            "Has sweet tea?  Check\n",
            "Has no-nonsense, quick service?  Check\n",
            "Ridiculously long wait?  Check\n",
            "Best thing that I have eaten in the last year?  Check\n",
            "\n",
            "I have to say, not the best fried chicken I have ever had, but pretty damn good- it could use more seasoning.  Now the waffles, probably the best ever...  The waffles are deliciously soft inside, a little crispy out with a wonderful cinammoness to them.  The seating is cramped, but it doesn't matter as soon as your food is delivered your table goes quiet, you get tunnel vision and after the first bite you are taken away to an orgy of goodness.\n",
            "\n",
            "If you are in Phoenix, this is a requirement.  Come real early or be prepared to wait.  Don't forget to order the Red Velvet cake and they have Kool-Aid if that fits your fancy.  Even after I came home from Arizona, I couldn't stop talking about LoLo's for like 2 weeks.  Shoot, two months later and I am still drooling thinking about it...\n",
            "This restaurant is incredible, and has the best pasta carbonara and the best tiramisu I've had in my life. All the food is wonderful, though. The calamari is not fried. The bread served with dinner comes right out of the oven, and the tomatoes are the freshest I've tasted outside of my mom's own garden. This is great attention to detail.\n",
            "\n",
            "I can no longer eat at any other Italian restaurant without feeling slighted. This is the first place I want take out-of-town visitors I'm looking to impress.\n",
            "\n",
            "The owner, Jon, is helpful, friendly, and really cares about providing a positive dining experience. He's spot on with his wine recommendations, and he organizes wine tasting events which you can find out about by joining the mailing list or Facebook page.\n"
          ],
          "name": "stdout"
        }
      ]
    },
    {
      "cell_type": "code",
      "metadata": {
        "id": "i57aYyZelaFT"
      },
      "source": [
        "nlp = en_core_web_md.load()\r\n",
        "doc = nlp(u\"We are running out of time! Are we though?\")\r\n",
        "token = doc[0] # Get the first word in the text.\r\n",
        "assert token.text == u\"We\" # Check that the token text is 'We'.\r\n",
        "assert len(token) == 2 # Check that the length of the token is 2.\r\n",
        "yelp = yelp[yelp.stars != 4]\r\n",
        "def is_good_review(stars):\r\n",
        "    if stars > 4:  ### TODO: FILL IN THE IF STATEMENT HERE ###:\r\n",
        "        return True\r\n",
        "    else:\r\n",
        "        return False\r\n",
        "\r\n",
        "# Change the stars field to either be 'good' or 'bad'.\r\n",
        "yelp['is_good_review'] = yelp['stars'].apply(is_good_review)"
      ],
      "execution_count": null,
      "outputs": []
    },
    {
      "cell_type": "code",
      "metadata": {
        "colab": {
          "base_uri": "https://localhost:8080/"
        },
        "id": "mwVU0chTmmmQ",
        "outputId": "cfb60b51-b017-446c-c8c2-8a08f89b4bd3"
      },
      "source": [
        "doc = nlp(u\"boy and girl\")\r\n",
        "word1 = doc[0]\r\n",
        "word2 = doc[2]\r\n",
        "word1.similarity(word2)"
      ],
      "execution_count": null,
      "outputs": [
        {
          "output_type": "execute_result",
          "data": {
            "text/plain": [
              "0.81483227"
            ]
          },
          "metadata": {
            "tags": []
          },
          "execution_count": 33
        }
      ]
    },
    {
      "cell_type": "code",
      "metadata": {
        "colab": {
          "base_uri": "https://localhost:8080/"
        },
        "id": "KsE95tt6lrZ6",
        "outputId": "390ff678-efa6-4380-e584-1c9b7d62ab66"
      },
      "source": [
        "X = yelp['text']\r\n",
        "y = yelp['is_good_review']\r\n",
        "X.shape, y.shape"
      ],
      "execution_count": null,
      "outputs": [
        {
          "output_type": "execute_result",
          "data": {
            "text/plain": [
              "((646,), (646,))"
            ]
          },
          "metadata": {
            "tags": []
          },
          "execution_count": 34
        }
      ]
    },
    {
      "cell_type": "code",
      "metadata": {
        "id": "rwbTETOOmwf9"
      },
      "source": [
        "#@title Initialize the text cleaning function { display-mode: \"form\" }\r\n",
        "def tokenize(text):\r\n",
        "    clean_tokens = []\r\n",
        "    for token in nlp(text):\r\n",
        "        if (not token.is_stop) & (token.lemma_ != '-PRON-') & (not token.is_punct): # -PRON- is a special all inclusive \"lemma\" spaCy uses for any pronoun, we want to exclude these \r\n",
        "            clean_tokens.append(token.lemma_)\r\n",
        "    return clean_tokens"
      ],
      "execution_count": null,
      "outputs": []
    },
    {
      "cell_type": "code",
      "metadata": {
        "colab": {
          "base_uri": "https://localhost:8080/"
        },
        "id": "0v9qMXzblwdw",
        "outputId": "a6b94559-a1e2-427b-a9bd-2a018aa382d3"
      },
      "source": [
        "bow_transformer = CountVectorizer(analyzer=tokenize, max_features=800).fit(X)\r\n",
        "len(bow_transformer.vocabulary_)\r\n"
      ],
      "execution_count": null,
      "outputs": [
        {
          "output_type": "execute_result",
          "data": {
            "text/plain": [
              "800"
            ]
          },
          "metadata": {
            "tags": []
          },
          "execution_count": 36
        }
      ]
    },
    {
      "cell_type": "code",
      "metadata": {
        "id": "u8v58P67l0Y7"
      },
      "source": [
        "X = bow_transformer.transform(X)"
      ],
      "execution_count": null,
      "outputs": []
    },
    {
      "cell_type": "code",
      "metadata": {
        "colab": {
          "base_uri": "https://localhost:8080/"
        },
        "id": "0T7-TcQMnCD1",
        "outputId": "c7b94833-93c3-4afa-ab51-703af0fae4ce"
      },
      "source": [
        "logistic_model = LogisticRegression()\r\n",
        "X_train, X_test, y_train, y_test = train_test_split(X, y, test_size=0.2, random_state=101)\r\n",
        "logistic_model.fit(X_train, y_train)\r\n",
        "preds = logistic_model.predict(X_test)\r\n",
        "\r\n",
        "# Get the confusion matrix.\r\n",
        "cm = confusion_matrix(y_test, preds)\r\n",
        "\r\n",
        "# Get TP, FP, TN, and FN rates.\r\n",
        "TP = cm[0][0]\r\n",
        "TN = cm[1][1]\r\n",
        "FP = cm[0][1]\r\n",
        "FN = cm[1][0]\r\n",
        "\r\n",
        "accuracy = (TP+TN)/X_test.shape[0]\r\n",
        "\r\n",
        "print(\"The accuracy of the model is \" + str(accuracy*100) + \"%\")"
      ],
      "execution_count": null,
      "outputs": [
        {
          "output_type": "stream",
          "text": [
            "The accuracy of the model is 76.92307692307693%\n"
          ],
          "name": "stdout"
        }
      ]
    },
    {
      "cell_type": "markdown",
      "metadata": {
        "id": "ZsQpaKxsnyQH"
      },
      "source": [
        "# Testing Predictions"
      ]
    },
    {
      "cell_type": "code",
      "metadata": {
        "colab": {
          "base_uri": "https://localhost:8080/"
        },
        "id": "ydaZfxjUn0fa",
        "outputId": "de83166f-2442-4e14-ded4-da06876a8763"
      },
      "source": [
        "example_review = \"the service was good\" #@param {type:'string'}\r\n",
        "prediction = logistic_model.predict(bow_transformer.transform([example_review]))\r\n",
        "\r\n",
        "if prediction:\r\n",
        "  print (\"This was a GOOD review!\")\r\n",
        "else:\r\n",
        "  print (\"This was a BAD review!\")"
      ],
      "execution_count": null,
      "outputs": [
        {
          "output_type": "stream",
          "text": [
            "This was a BAD review!\n"
          ],
          "name": "stdout"
        }
      ]
    },
    {
      "cell_type": "code",
      "metadata": {
        "id": "udIbiwLyoOE3"
      },
      "source": [
        ""
      ],
      "execution_count": null,
      "outputs": []
    }
  ]
}
