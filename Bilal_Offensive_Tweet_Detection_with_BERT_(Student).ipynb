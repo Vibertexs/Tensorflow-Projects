{
  "nbformat": 4,
  "nbformat_minor": 0,
  "metadata": {
    "colab": {
      "name": "Bilal Offensive Tweet Detection with BERT (Student).ipynb",
      "provenance": [],
      "collapsed_sections": [],
      "include_colab_link": true
    },
    "kernelspec": {
      "name": "python3",
      "display_name": "Python 3"
    },
    "accelerator": "GPU"
  },
  "cells": [
    {
      "cell_type": "markdown",
      "metadata": {
        "id": "view-in-github",
        "colab_type": "text"
      },
      "source": [
        "<a href=\"https://colab.research.google.com/github/Vibertexs/Tensorflow-Projects/blob/main/Bilal_Offensive_Tweet_Detection_with_BERT_(Student).ipynb\" target=\"_parent\"><img src=\"https://colab.research.google.com/assets/colab-badge.svg\" alt=\"Open In Colab\"/></a>"
      ]
    },
    {
      "cell_type": "markdown",
      "metadata": {
        "id": "1jnm2SxU9552"
      },
      "source": [
        "Inspirit AI Notebook Made During Course"
      ]
    },
    {
      "cell_type": "markdown",
      "metadata": {
        "id": "A9KCK6KpihFv"
      },
      "source": [
        "<center><img src=\"https://imgur.com/EE29PVd.jpg\" width=\"1000px\"></center>\n",
        "\n",
        "## Introduction\n",
        "\n",
        "In this notebook, we will build a text classification model based on *BERT* (a transformer model) to automatically flag hateful or offensive tweets. *BERT* is part of a larger category of language models called \"transformers\" which greatly outperform RNNs and LSTMs on most language tasks. So hopefully, we can use *BERT* to create an extremely accurate toxic tweet detection model (which does even better than LSTMs!). So let's get started!\n",
        "\n",
        "Here are some resources to understand *BERT* and transformers better...\n",
        "\n",
        "\n",
        "1. [The Illustrated BERT](http://jalammar.github.io/illustrated-bert/)\n",
        "2. [The Illustrated Transformer](http://jalammar.github.io/illustrated-transformer/)\n",
        "3. [BERT Explained: State of the art language model for NLP](https://towardsdatascience.com/bert-explained-state-of-the-art-language-model-for-nlp-f8b21a9b6270)\n",
        "\n",
        "\n"
      ]
    },
    {
      "cell_type": "markdown",
      "metadata": {
        "id": "Zx9IoN6bibZj"
      },
      "source": [
        "**Before starting, set your runtype type to GPU!**\n",
        "\n",
        "Then start installing these libraries since it may take time."
      ]
    },
    {
      "cell_type": "markdown",
      "metadata": {
        "id": "PsnqHBM1E9xx"
      },
      "source": [
        "## Install additional libraries\n",
        "\n",
        "We need to install a few additional libraries to run this notebook.\n"
      ]
    },
    {
      "cell_type": "code",
      "metadata": {
        "id": "tqg7iQ-NdeG7"
      },
      "source": [
        "#@title Run: Import Libraries and Data\n",
        "\"\"\"\n",
        "Install necessary libraries and functions\n",
        "\"\"\"\n",
        " \n",
        "!pip install -q colorama\n",
        "!pip install -q sentencepiece\n",
        "!wget --quiet https://storage.googleapis.com/inspirit-ai-data-bucket-1/Data/Deep%20Dives/Advanced%20Topics%20in%20AI/Sessions%201-5/State%20of%20the%20Art%20NLP/tokenization.py\n",
        "\n",
        "\"\"\"\n",
        "Import libraries\n",
        "\"\"\"\n",
        "\n",
        "import os\n",
        "import gc\n",
        "import io\n",
        "import zipfile\n",
        "import requests\n",
        "import warnings as wrn\n",
        "wrn.filterwarnings('ignore')\n",
        "\n",
        "import numpy as np\n",
        "import pandas as pd\n",
        "import tokenization\n",
        "import seaborn as sns\n",
        "import tensorflow as tf\n",
        "import tensorflow_hub as hub\n",
        "from tqdm.notebook import tqdm\n",
        "import matplotlib.pyplot as plt\n",
        "from colorama import Fore, Back, Style\n",
        "\n",
        "from tensorflow.keras.models import Model\n",
        "from tensorflow.keras.optimizers import Adam\n",
        "from tensorflow.keras.layers import Dense, Input\n",
        "from tensorflow.keras.callbacks import ModelCheckpoint\n",
        "\n",
        "\"\"\"\n",
        "Define data-loading function\n",
        "\"\"\"\n",
        "\n",
        "data_link = 'https://storage.googleapis.com/inspirit-ai-data-bucket-1/Data/Deep%20Dives/Advanced%20Topics%20in%20AI/Sessions%201-5/State%20of%20the%20Art%20NLP/labeled_data.csv'\n",
        "\n",
        "def get_dataset():\n",
        "    return pd.read_csv(io.StringIO(requests.get(data_link).text))\n",
        "\n",
        "\"\"\"\n",
        "Load the dataset and create a 'label' column\n",
        "\"\"\"\n",
        "\n",
        "train_df = get_dataset()\n",
        "del train_df['Unnamed: 0']\n",
        "train_df['label'] = np.int32(train_df['class'] != 2)\n",
        "\n",
        "def display_training_curves(training, validation, title, subplot):\n",
        "    if subplot%10==1:\n",
        "        plt.subplots(figsize=(30, 15), facecolor='#e6e6e6')\n",
        "        plt.tight_layout()\n",
        "    ax = plt.subplot(subplot)\n",
        "    ax.set_facecolor('#f8f8f8')\n",
        "    ax.plot(training)\n",
        "    ax.plot(validation)\n",
        "    ax.set_title('Model '+ title)\n",
        "    ax.set_ylabel(title)\n",
        "    ax.set_xlabel('Epoch')\n",
        "    ax.legend(['Training', 'Validation'])"
      ],
      "execution_count": null,
      "outputs": []
    },
    {
      "cell_type": "markdown",
      "metadata": {
        "id": "U96PqRmcvP9r"
      },
      "source": [
        "## Outline\n",
        "\n",
        "* Visualize and analyze the training data.\n",
        "* Implement a baseline model using bag of words and logistic regression.\n",
        "* Understand BERT tokenization and do the necessary preprocessing.\n",
        "* Build a classification model that uses the BERT language model to encode the text in each tweet.\n",
        "* Analyze the performance and contrast it with the baseline."
      ]
    },
    {
      "cell_type": "markdown",
      "metadata": {
        "id": "jNP3HQmYNwue"
      },
      "source": [
        "## Exercise 1\n",
        "\n",
        "Please print out our dataset, `train_df`:"
      ]
    },
    {
      "cell_type": "code",
      "metadata": {
        "id": "qcdy_-S9NwNR",
        "colab": {
          "base_uri": "https://localhost:8080/",
          "height": 419
        },
        "outputId": "c6c6ac7a-81ae-40e7-c22d-159a02723a99"
      },
      "source": [
        "train_df"
      ],
      "execution_count": null,
      "outputs": [
        {
          "output_type": "execute_result",
          "data": {
            "text/html": [
              "<div>\n",
              "<style scoped>\n",
              "    .dataframe tbody tr th:only-of-type {\n",
              "        vertical-align: middle;\n",
              "    }\n",
              "\n",
              "    .dataframe tbody tr th {\n",
              "        vertical-align: top;\n",
              "    }\n",
              "\n",
              "    .dataframe thead th {\n",
              "        text-align: right;\n",
              "    }\n",
              "</style>\n",
              "<table border=\"1\" class=\"dataframe\">\n",
              "  <thead>\n",
              "    <tr style=\"text-align: right;\">\n",
              "      <th></th>\n",
              "      <th>count</th>\n",
              "      <th>hate_speech</th>\n",
              "      <th>offensive_language</th>\n",
              "      <th>neither</th>\n",
              "      <th>class</th>\n",
              "      <th>tweet</th>\n",
              "      <th>label</th>\n",
              "    </tr>\n",
              "  </thead>\n",
              "  <tbody>\n",
              "    <tr>\n",
              "      <th>0</th>\n",
              "      <td>3</td>\n",
              "      <td>0</td>\n",
              "      <td>0</td>\n",
              "      <td>3</td>\n",
              "      <td>2</td>\n",
              "      <td>!!! RT @mayasolovely: As a woman you shouldn't...</td>\n",
              "      <td>0</td>\n",
              "    </tr>\n",
              "    <tr>\n",
              "      <th>1</th>\n",
              "      <td>3</td>\n",
              "      <td>0</td>\n",
              "      <td>3</td>\n",
              "      <td>0</td>\n",
              "      <td>1</td>\n",
              "      <td>!!!!! RT @mleew17: boy dats cold...tyga dwn ba...</td>\n",
              "      <td>1</td>\n",
              "    </tr>\n",
              "    <tr>\n",
              "      <th>2</th>\n",
              "      <td>3</td>\n",
              "      <td>0</td>\n",
              "      <td>3</td>\n",
              "      <td>0</td>\n",
              "      <td>1</td>\n",
              "      <td>!!!!!!! RT @UrKindOfBrand Dawg!!!! RT @80sbaby...</td>\n",
              "      <td>1</td>\n",
              "    </tr>\n",
              "    <tr>\n",
              "      <th>3</th>\n",
              "      <td>3</td>\n",
              "      <td>0</td>\n",
              "      <td>2</td>\n",
              "      <td>1</td>\n",
              "      <td>1</td>\n",
              "      <td>!!!!!!!!! RT @C_G_Anderson: @viva_based she lo...</td>\n",
              "      <td>1</td>\n",
              "    </tr>\n",
              "    <tr>\n",
              "      <th>4</th>\n",
              "      <td>6</td>\n",
              "      <td>0</td>\n",
              "      <td>6</td>\n",
              "      <td>0</td>\n",
              "      <td>1</td>\n",
              "      <td>!!!!!!!!!!!!! RT @ShenikaRoberts: The shit you...</td>\n",
              "      <td>1</td>\n",
              "    </tr>\n",
              "    <tr>\n",
              "      <th>...</th>\n",
              "      <td>...</td>\n",
              "      <td>...</td>\n",
              "      <td>...</td>\n",
              "      <td>...</td>\n",
              "      <td>...</td>\n",
              "      <td>...</td>\n",
              "      <td>...</td>\n",
              "    </tr>\n",
              "    <tr>\n",
              "      <th>24778</th>\n",
              "      <td>3</td>\n",
              "      <td>0</td>\n",
              "      <td>2</td>\n",
              "      <td>1</td>\n",
              "      <td>1</td>\n",
              "      <td>you's a muthaf***in lie &amp;#8220;@LifeAsKing: @2...</td>\n",
              "      <td>1</td>\n",
              "    </tr>\n",
              "    <tr>\n",
              "      <th>24779</th>\n",
              "      <td>3</td>\n",
              "      <td>0</td>\n",
              "      <td>1</td>\n",
              "      <td>2</td>\n",
              "      <td>2</td>\n",
              "      <td>you've gone and broke the wrong heart baby, an...</td>\n",
              "      <td>0</td>\n",
              "    </tr>\n",
              "    <tr>\n",
              "      <th>24780</th>\n",
              "      <td>3</td>\n",
              "      <td>0</td>\n",
              "      <td>3</td>\n",
              "      <td>0</td>\n",
              "      <td>1</td>\n",
              "      <td>young buck wanna eat!!.. dat nigguh like I ain...</td>\n",
              "      <td>1</td>\n",
              "    </tr>\n",
              "    <tr>\n",
              "      <th>24781</th>\n",
              "      <td>6</td>\n",
              "      <td>0</td>\n",
              "      <td>6</td>\n",
              "      <td>0</td>\n",
              "      <td>1</td>\n",
              "      <td>youu got wild bitches tellin you lies</td>\n",
              "      <td>1</td>\n",
              "    </tr>\n",
              "    <tr>\n",
              "      <th>24782</th>\n",
              "      <td>3</td>\n",
              "      <td>0</td>\n",
              "      <td>0</td>\n",
              "      <td>3</td>\n",
              "      <td>2</td>\n",
              "      <td>~~Ruffled | Ntac Eileen Dahlia - Beautiful col...</td>\n",
              "      <td>0</td>\n",
              "    </tr>\n",
              "  </tbody>\n",
              "</table>\n",
              "<p>24783 rows × 7 columns</p>\n",
              "</div>"
            ],
            "text/plain": [
              "       count  ...  label\n",
              "0          3  ...      0\n",
              "1          3  ...      1\n",
              "2          3  ...      1\n",
              "3          3  ...      1\n",
              "4          6  ...      1\n",
              "...      ...  ...    ...\n",
              "24778      3  ...      1\n",
              "24779      3  ...      0\n",
              "24780      3  ...      1\n",
              "24781      6  ...      1\n",
              "24782      3  ...      0\n",
              "\n",
              "[24783 rows x 7 columns]"
            ]
          },
          "metadata": {
            "tags": []
          },
          "execution_count": 46
        }
      ]
    },
    {
      "cell_type": "markdown",
      "metadata": {
        "id": "-XsEJKLdp6ul"
      },
      "source": [
        "**What information** does each column give us?\n",
        "\n",
        "How might platforms like **[CrowdFlower](https://visit.figure-eight.com/People-Powered-Data-Enrichment_T)** be useful for ML?\n",
        "\n",
        "* `count`: number of CrowdFlower users who coded each tweet\n",
        "* `hate_speech`: number of CrowdFlower users who judged the tweet to be hate speech\n",
        "* `offensive_language`: number of CrowdFlower users who judged the tweet to be offensive\n",
        "* `neither`: number of CrowdFlower users who judged the tweet to be neither offensive nor hate speech\n",
        "* `class`: class label for majority of CrowdFlower users. 0 = hate speech, 1 = offensive language, 2 = neither\n",
        "* `tweet`: the actual tweet\n",
        "* `label`: 0 = good tweet (no hate speech or offensive language), 1 = bad tweet (hate speech and/or offensive language).  Which other column does this remind you of?\n",
        "\n",
        "(Check out [this article](https://www.bbc.com/worklife/article/20190829-the-ghost-work-powering-tech-magic) to learn about ethical problems around the \"ghost worker economy\" powering platforms like CrowdFlower!)"
      ]
    },
    {
      "cell_type": "markdown",
      "metadata": {
        "id": "kJQl27tYFHpe"
      },
      "source": [
        "## Visualize the training data\n",
        "These tweets get nasty, so we won't be looking through the texts together. If you choose to explore on your own, **please be mindful** - your classmates probably don't want to see hate speech on your screen share!\n",
        "\n",
        "Instead, we'll do some basic visualization to understand our dataset better."
      ]
    },
    {
      "cell_type": "markdown",
      "metadata": {
        "id": "MXjI83BMsh1g"
      },
      "source": [
        "\n",
        "**What do these plots tell us about our data?**"
      ]
    },
    {
      "cell_type": "code",
      "metadata": {
        "id": "ua6Blh26O79A",
        "cellView": "form",
        "colab": {
          "base_uri": "https://localhost:8080/",
          "height": 339
        },
        "outputId": "16247a6b-fd01-40cf-fd54-e167501b1d8a"
      },
      "source": [
        "#@title Characters per tweet\n",
        "\"\"\"\n",
        "Visualize the distribution of the number of characters per tweet\n",
        "\"\"\"\n",
        "\n",
        "sns.set(font_scale=1.5)\n",
        "plt.figure(figsize=(30, 7.5))\n",
        "fig = sns.distplot(sorted(train_df.tweet.apply(len))[:21000], color='b')\n",
        "fig.set(title='Characters per tweet', xlabel='Characters', ylabel='Probability')\n",
        "plt.show('--------------------------------------------------------------------')"
      ],
      "execution_count": null,
      "outputs": [
        {
          "output_type": "display_data",
          "data": {
            "image/png": "[encoded data removed]",
            "text/plain": [
              "<Figure size 2160x540 with 1 Axes>"
            ]
          },
          "metadata": {
            "tags": []
          }
        }
      ]
    },
    {
      "cell_type": "code",
      "metadata": {
        "id": "NZPAfeaARC4W",
        "cellView": "form",
        "colab": {
          "base_uri": "https://localhost:8080/",
          "height": 341
        },
        "outputId": "09fb58e4-5dd8-43ff-84d2-4d3bbc06251d"
      },
      "source": [
        "#@title Words per tweet\n",
        "\"\"\"\n",
        "Visualize the distribution of the number of words per tweet\n",
        "\"\"\"\n",
        "\n",
        "sns.set(font_scale=1.5)\n",
        "plt.figure(figsize=(30, 7.5))\n",
        "words = lambda x: len(x.split())\n",
        "fig = sns.distplot(sorted(train_df.tweet.apply(words)), color='r')\n",
        "fig.set(title='Total words per tweet', xlabel='Words', ylabel='Probability')\n",
        "plt.show('----------------------------------------------------------------')"
      ],
      "execution_count": null,
      "outputs": [
        {
          "output_type": "display_data",
          "data": {
            "image/png": "[encoded data removed]",
            "text/plain": [
              "<Figure size 2160x540 with 1 Axes>"
            ]
          },
          "metadata": {
            "tags": []
          }
        }
      ]
    },
    {
      "cell_type": "code",
      "metadata": {
        "id": "IAncb3coTML4",
        "cellView": "form",
        "colab": {
          "base_uri": "https://localhost:8080/",
          "height": 343
        },
        "outputId": "8cce7105-7678-4943-c1ca-6686a2ec39b2"
      },
      "source": [
        "#@title Characters per word\n",
        "\"\"\"\n",
        "Visualize the distribution of the number of characters per word\n",
        "\"\"\"\n",
        "\n",
        "sns.set(font_scale=1.5)\n",
        "plt.figure(figsize=(30, 7.5))\n",
        "ratio = lambda x: len(x)/len(x.split())\n",
        "fig = sns.distplot(sorted(train_df.tweet.apply(ratio))[:21000], color='seagreen')\n",
        "fig.set(title='Average characters per word', xlabel='Ratio', ylabel='Probability')\n",
        "plt.show('----------------------------------------------------------------------')"
      ],
      "execution_count": null,
      "outputs": [
        {
          "output_type": "display_data",
          "data": {
            "image/png": "[encoded data removed]",
            "text/plain": [
              "<Figure size 2160x540 with 1 Axes>"
            ]
          },
          "metadata": {
            "tags": []
          }
        }
      ]
    },
    {
      "cell_type": "markdown",
      "metadata": {
        "id": "Qb5TEBa7OW_E"
      },
      "source": [
        "### Exercise 2\n",
        "\n",
        "What percent good/bad tweets do we have?"
      ]
    },
    {
      "cell_type": "code",
      "metadata": {
        "id": "hUUsNIg7pgID",
        "cellView": "both",
        "colab": {
          "base_uri": "https://localhost:8080/"
        },
        "outputId": "4c716925-35ac-4ad1-a203-7a041ef2e229"
      },
      "source": [
        "#YOUR CODE HERE\n",
        "x=0\n",
        "train_df.shape\n",
        "# 24783 rows\n",
        "\n",
        "train_df[\"label\"].sum()/train_df.shape[0]\n",
        "\n",
        "# for i in train_df[\"class\"]:\n",
        "#     if i!=2:\n",
        "#         x+=1\n",
        "# print(\"Percentage of hate/offensive tweets:\" , ((x/train_df.shape[0])*100))\n"
      ],
      "execution_count": null,
      "outputs": [
        {
          "output_type": "execute_result",
          "data": {
            "text/plain": [
              "0.8320219505306057"
            ]
          },
          "metadata": {
            "tags": []
          },
          "execution_count": 50
        }
      ]
    },
    {
      "cell_type": "markdown",
      "metadata": {
        "id": "FcDPOpHLvQC0"
      },
      "source": [
        "**Discuss:**\n",
        "1. Is the dataset balanced?\n",
        "2. What baseline accuracy could you get with no effort?"
      ]
    },
    {
      "cell_type": "markdown",
      "metadata": {
        "id": "DyuVn1M8c9IT"
      },
      "source": [
        "#Implementing a Baseline Model\n",
        "\n",
        "In this notebook, we are going to see the power of using the BERT language model to represent words and sentences.  To really understand BERT's power, we will contrast by first implementing a baseline model: logistic regression where words are represented via Bag of Words encoding."
      ]
    },
    {
      "cell_type": "markdown",
      "metadata": {
        "id": "VlF90uYcdbkx"
      },
      "source": [
        "##Exercise 3\n",
        "\n",
        "Create two variables, `sentences` and `labels`, by extracting the appropriate column from the training dataframe."
      ]
    },
    {
      "cell_type": "code",
      "metadata": {
        "id": "MDJaAsHmc8nh"
      },
      "source": [
        "#YOUR CODE HERE\n",
        "sentences = train_df[\"tweet\"].values\n",
        "labels = train_df[\"label\"].values"
      ],
      "execution_count": null,
      "outputs": []
    },
    {
      "cell_type": "markdown",
      "metadata": {
        "id": "OyVoT7R15TLJ"
      },
      "source": [
        "Now, run the code below to create our bag-of-words representation:"
      ]
    },
    {
      "cell_type": "code",
      "metadata": {
        "id": "Bs3Kqa3tPaoY"
      },
      "source": [
        "from sklearn.feature_extraction.text import CountVectorizer\n",
        "from sklearn.model_selection import train_test_split\n",
        "from sklearn.linear_model import LogisticRegression\n",
        "\n",
        "sentences_train, sentences_test, labels_train, labels_test = train_test_split(sentences, labels, test_size=0.2, random_state=1000)\n",
        "\n",
        "#build bag of words encoding for training data\n",
        "vectorizer = CountVectorizer()\n",
        "vectorizer.fit(sentences_train)\n",
        "X_train = vectorizer.transform(sentences_train)\n",
        "X_test  = vectorizer.transform(sentences_test)\n"
      ],
      "execution_count": null,
      "outputs": []
    },
    {
      "cell_type": "markdown",
      "metadata": {
        "id": "f5yImj_AeoxK"
      },
      "source": [
        "##Exercise 4\n",
        "\n",
        "Build a [LogisticRegression](https://scikit-learn.org/stable/modules/generated/sklearn.linear_model.LogisticRegression.html) model (imported above from sklearn) with `max_iter=5`. Then train and score it on the training and test data!"
      ]
    },
    {
      "cell_type": "code",
      "metadata": {
        "id": "BFBz3sFbel21",
        "colab": {
          "base_uri": "https://localhost:8080/"
        },
        "outputId": "ecee345e-6a61-4e44-f49b-5bc4cdf60a50"
      },
      "source": [
        "#YOUR CODE HERE\n",
        "model = LogisticRegression(max_iter=5)\n",
        "model.fit(X_train,labels_train)\n",
        "# model.score(X_test,labels_test)\n",
        "print(\"Training Accuracy:\", model.score(X_train,labels_train))\n",
        "print(\"Testing Accuracy:\", model.score(X_test,labels_test))"
      ],
      "execution_count": null,
      "outputs": [
        {
          "output_type": "stream",
          "text": [
            "Training Accuracy: 0.8939271663472208\n",
            "Testing Accuracy: 0.881783336695582\n"
          ],
          "name": "stdout"
        }
      ]
    },
    {
      "cell_type": "markdown",
      "metadata": {
        "id": "wH9Z1yYC5yR2"
      },
      "source": [
        "**Are you pleased with your results?** How could we do better?"
      ]
    },
    {
      "cell_type": "markdown",
      "metadata": {
        "id": "PEy4tZT-KvKf"
      },
      "source": [
        "#Using BERT\n",
        "\n",
        "Let's load the pretrained BERT model from TensorFlow Hub.\n",
        "\n",
        "*TensorFlow Hub* is a large repository of already trained models that can be used by anyone with one line of code. Here, we retrieve the BERT-large (24 encoders!) model from *TensorFlow Hub* to build our own text classification model. *TensorFlow Hub* also includes several other models for language and vision tasks.  \n",
        "\n",
        "This is making use of the idea of **transfer learning**: it is unrealistic for us to train such a huge model each time, so we can obtain a base model and then build on top of it.  This is very similar to when we fine-tuned gpt2! "
      ]
    },
    {
      "cell_type": "markdown",
      "metadata": {
        "id": "i6sihZjfWL2E"
      },
      "source": [
        "### Exercise 5\n",
        "\n",
        "Let's fetch a pre-trained Keras layer from the hub using this [documentation](https://www.tensorflow.org/hub/api_docs/python/hub/KerasLayer).  **Get the handle by concatenating the hub url and id, and remember that we want to do additional training**!  All other parameters can be left as the default."
      ]
    },
    {
      "cell_type": "code",
      "metadata": {
        "id": "wtGxcvwud9HN"
      },
      "source": [
        "#Load the BERT model from TensorFlow Hub and generate a vocabulary file\n",
        "\n",
        "hub_url = 'https://tfhub.dev/tensorflow/'\n",
        "hub_id = 'bert_en_uncased_L-24_H-1024_A-16/1'\n",
        "bert_layer = hub.KerasLayer(hub_url+hub_id, trainable=True)"
      ],
      "execution_count": null,
      "outputs": []
    },
    {
      "cell_type": "markdown",
      "metadata": {
        "id": "-vdlZ-6HkeHQ"
      },
      "source": [
        "## Preprocessing\n",
        "\n",
        "To get our data ready for BERT, we'll have to get it into the right format."
      ]
    },
    {
      "cell_type": "markdown",
      "metadata": {
        "id": "m0gZApxsGu-e"
      },
      "source": [
        "#### **Special Tokens** ####"
      ]
    },
    {
      "cell_type": "markdown",
      "metadata": {
        "id": "2j6ihrw7G6bf"
      },
      "source": [
        "`[CLS]` token marks the beginning and a `[SEP]` marks the end of a given sequence \n",
        "\n",
        "During pre-training, BERT uses `[CLS]` for sequence classification and  `[SEP]` a separator for next sentence prediction.\n",
        "\n",
        "```\n",
        "I like to draw  --> [CLS] I like to draw [SEP]\n",
        "```\n",
        "\n"
      ]
    },
    {
      "cell_type": "markdown",
      "metadata": {
        "id": "X47WRWKnJaje"
      },
      "source": [
        "#### **Sentence Length** ####"
      ]
    },
    {
      "cell_type": "markdown",
      "metadata": {
        "id": "jt0BAL9BJjBT"
      },
      "source": [
        "The sentences in our dataset have varying lengths; however, we have to pad the shorter sentences so that the input we give BERT is a perfectly rectangular shape.\n",
        "\n",
        "```\n",
        "[CLS] I like to draw [SEP] --> [CLS] I like to draw [SEP] [PAD] [PAD]\n",
        "```\n",
        "\n",
        "**Discuss: How do we know how many PAD tokens to add?**\n"
      ]
    },
    {
      "cell_type": "markdown",
      "metadata": {
        "id": "lmy7sQRnLN00"
      },
      "source": [
        "### Define the tokenizer\n",
        "\n",
        "Next, we define our \"tokenizer\", which essentially converts tweets into a vectors of tokens."
      ]
    },
    {
      "cell_type": "code",
      "metadata": {
        "id": "PBe1TVfteCTP"
      },
      "source": [
        "do_lower_case = bert_layer.resolved_object.do_lower_case.numpy()\n",
        "vocab_file = bert_layer.resolved_object.vocab_file.asset_path.numpy()\n",
        "\n",
        "#Define the tokenizer to convert tweets into token vectors\n",
        "tokenizer = tokenization.FullTokenizer(vocab_file, do_lower_case)"
      ],
      "execution_count": null,
      "outputs": []
    },
    {
      "cell_type": "markdown",
      "metadata": {
        "id": "nC-1-BQKhDP5"
      },
      "source": [
        "Let's test it out!"
      ]
    },
    {
      "cell_type": "code",
      "metadata": {
        "id": "pQWS5YE6g9pN",
        "colab": {
          "base_uri": "https://localhost:8080/"
        },
        "outputId": "89d1ea79-cfc0-450d-f24b-e65863a36f51"
      },
      "source": [
        "tokenizer.tokenize(\"This is a sentence\")"
      ],
      "execution_count": null,
      "outputs": [
        {
          "output_type": "execute_result",
          "data": {
            "text/plain": [
              "['this', 'is', 'a', 'sentence']"
            ]
          },
          "metadata": {
            "tags": []
          },
          "execution_count": 56
        }
      ]
    },
    {
      "cell_type": "markdown",
      "metadata": {
        "id": "mPgQ7xzzmZ7q"
      },
      "source": [
        "#### Exercise 6: Preparing our Text\n",
        "\n",
        "In this exercise, we will go step-by-step to write a function that takes in a sentence, `text`, as well as a desired `max_length`, and:\n",
        "\n",
        "1. Uses the BERT Tokenizer to tokenize `text`.\n",
        "2. Adds the `[CLS]` and `[SEP]` tokens on either end of `text`.\n",
        "3. Finds the length of the sequence\n",
        "3. Calculates how many padding tokens are needed (don't actually add the padding)\n",
        "4. Converts the sequence tokens to numerical ids (hint: use a method of the `tokenizer`!\n",
        "\n"
      ]
    },
    {
      "cell_type": "markdown",
      "metadata": {
        "id": "9DlMObcHCeP9"
      },
      "source": [
        "The first thing we need to do is tokenize our sequence. Remember, at the end of the day, all sentences we feed into our model need to be of the same length (in this case, `max_length`) so that means truncating sentences that are too long (which we'll do in this function) and padding sentences that are too short (which we'll do later).\n",
        "\n",
        "In the code block below, use the BERT Tokenizer to tokenize `text` and add the `[CLS]` and `[SEP]` tokens to the beginning and end of the sentence, respectively. Make sure that you truncate the sentence so that it is at most `max_length` tokens long **including** the `[CLS]` and `[SEP]` tokens. "
      ]
    },
    {
      "cell_type": "code",
      "metadata": {
        "id": "Q_Rp3AZZnfpR"
      },
      "source": [
        "def tokenize_sequence(text, tokenizer, max_length):\n",
        "  #YOUR CODE HERE\n",
        "  sequence = tokenizer.tokenize(text)\n",
        "  x=max_length-2\n",
        "  sequence = [\"[CLS]\"] + sequence[:x] + [\"[SEP]\"]\n",
        "  \n",
        "  #END CODE\n",
        "  return sequence"
      ],
      "execution_count": null,
      "outputs": []
    },
    {
      "cell_type": "markdown",
      "metadata": {
        "id": "Unhas6iS4O0e"
      },
      "source": [
        "Try out your function below. Make sure you have the `[CLS]` and `[SEP]` tokens where they belong, and test with different values of `max_length` to make sure you're truncating correctly!"
      ]
    },
    {
      "cell_type": "code",
      "metadata": {
        "id": "b60XsFSu5Hk5",
        "colab": {
          "base_uri": "https://localhost:8080/"
        },
        "outputId": "d86c7977-1c9d-4083-cc4e-e3a21785ce62"
      },
      "source": [
        "text = \"Make sure your function works correctly here!\"\n",
        "max_length = 7\n",
        "\n",
        "print(tokenize_sequence(text, tokenizer, max_length))"
      ],
      "execution_count": null,
      "outputs": [
        {
          "output_type": "stream",
          "text": [
            "['[CLS]', 'make', 'sure', 'your', 'function', 'works', '[SEP]']\n"
          ],
          "name": "stdout"
        }
      ]
    },
    {
      "cell_type": "markdown",
      "metadata": {
        "id": "aUBGKygE6ge3"
      },
      "source": [
        "Once you have that working, add a few lines of code to the function below so that it will return the sequence, `input_ids` (a list of the tokens converted to numerical IDs), `seq_length` (the length of the sequence without padding), and `pad_length` (the number of `[PAD]` tokens we will have to add to the sequence).\n"
      ]
    },
    {
      "cell_type": "code",
      "metadata": {
        "id": "ACsctTUmekx6"
      },
      "source": [
        "def get_input_tokens(text, tokenizer, max_length):\n",
        "  sequence = tokenize_sequence(text, tokenizer, max_length)\n",
        "  seq_length = len(sequence)\n",
        "  pad_length = max_length-seq_length\n",
        "  input_ids = tokenizer.convert_tokens_to_ids(sequence)\n",
        "  return sequence, input_ids, seq_length, pad_length"
      ],
      "execution_count": null,
      "outputs": []
    },
    {
      "cell_type": "markdown",
      "metadata": {
        "id": "Df9oZ1Z1warh"
      },
      "source": [
        "#### Tokenization Demo!"
      ]
    },
    {
      "cell_type": "markdown",
      "metadata": {
        "id": "PbrhD4-27v0u"
      },
      "source": [
        "Let's try out your function! What's the role of each output?"
      ]
    },
    {
      "cell_type": "code",
      "metadata": {
        "id": "PRxktZgxo0n5",
        "colab": {
          "base_uri": "https://localhost:8080/"
        },
        "outputId": "de4c605c-2d4c-4bf2-9a2d-3d8081b862e0"
      },
      "source": [
        "sample_tweet = \"You can replace this with any string!\" ##try any string!\n",
        "sequence, input_tokens, seq_length, pad_length = get_input_tokens(sample_tweet, tokenizer, len(sample_tweet)+2)\n",
        "for a, b in zip(sequence, input_tokens):\n",
        "  print(str(a) + '\\t' + str(b))"
      ],
      "execution_count": null,
      "outputs": [
        {
          "output_type": "stream",
          "text": [
            "[CLS]\t101\n",
            "you\t2017\n",
            "can\t2064\n",
            "replace\t5672\n",
            "this\t2023\n",
            "with\t2007\n",
            "any\t2151\n",
            "string\t5164\n",
            "!\t999\n",
            "[SEP]\t102\n"
          ],
          "name": "stdout"
        }
      ]
    },
    {
      "cell_type": "markdown",
      "metadata": {
        "id": "23CaWx2IsRiQ"
      },
      "source": [
        "**What is BERT Tokenizer doing?**\n",
        "\n",
        "If you see words split up, it's due to BERT's [subword tokenization](https://www.thoughtvector.io/blog/subword-tokenization/) - check it out!"
      ]
    },
    {
      "cell_type": "markdown",
      "metadata": {
        "id": "90eOsNIMKyZB"
      },
      "source": [
        "###Attention Masks"
      ]
    },
    {
      "cell_type": "markdown",
      "metadata": {
        "id": "B_-H9HfbK4sh"
      },
      "source": [
        "Attention Mask is an array of 1s and 0s indicating which tokens are padding and which aren't. \n",
        "\n",
        "```\n",
        "[CLS] I like to draw [SEP] [PAD] [PAD] --> 1 1 1 1 1 1 0 0\n",
        "```\n",
        "\n",
        "**Given a tokenized sentence, how would you determine the attention mask?**\n",
        "\n",
        "\n",
        "\n"
      ]
    },
    {
      "cell_type": "markdown",
      "metadata": {
        "id": "bdz0zEvO8maH"
      },
      "source": [
        "We'll use this function to get encodings and masks for all our tweets, using the function you wrote. \n",
        "\n",
        "**Check out this function if you want, but no need to understand it line-by-line!**"
      ]
    },
    {
      "cell_type": "code",
      "metadata": {
        "id": "XR7Ne2wJU56-",
        "cellView": "both"
      },
      "source": [
        "def bert_encode(texts, tokenizer, max_length=32):\n",
        "    all_masks, all_tokens = [], []\n",
        "    \n",
        "    for text in tqdm(texts):\n",
        "        # use your function from above to get the token ids for the words in each tweet\n",
        "        sequence, input_tokens, seq_length, pad_length = get_input_tokens(text, tokenizer, max_length)\n",
        "\n",
        "        # pad the sequences and add the attention masks \n",
        "        # (to pay attention to the relevant tokens in the tweet)\n",
        "        input_tokens += [0] * pad_length\n",
        "        input_pad_masks = [1] * seq_length + [0] * pad_length\n",
        "        all_tokens = all_tokens + [input_tokens]\n",
        "        all_masks = all_masks + [input_pad_masks]\n",
        "    \n",
        "    return np.array(all_tokens), np.array(all_masks), np.zeros_like(all_tokens)"
      ],
      "execution_count": null,
      "outputs": []
    },
    {
      "cell_type": "markdown",
      "metadata": {
        "id": "Tz1xh9Heh3An"
      },
      "source": [
        "#Train your model"
      ]
    },
    {
      "cell_type": "markdown",
      "metadata": {
        "id": "9l6q3vueLWBN"
      },
      "source": [
        "### Exercise 7\n",
        "\n",
        "Now, let's prepare our input using our *bert_encode* function. 32 works well for the max length."
      ]
    },
    {
      "cell_type": "code",
      "metadata": {
        "id": "2asQJEIMeHdW"
      },
      "source": [
        "#Get the training features and labels\n",
        "\n",
        "train_labels = train_df.label.values.reshape(-1, 1)\n",
        "train_input = None ###YOUR CODE HERE"
      ],
      "execution_count": null,
      "outputs": []
    },
    {
      "cell_type": "markdown",
      "metadata": {
        "id": "UXLraexbLkFq"
      },
      "source": [
        "Now, we can define our BERT-based model! We'll use a BERT-large backbone followed by a 1-neuron dense layer, and finally sigmoid activation to generate a probability (of a tweet being offensive).\n",
        "\n",
        "**Check out the code if you're curious:**"
      ]
    },
    {
      "cell_type": "code",
      "metadata": {
        "id": "yo0H7N_JrWRJ"
      },
      "source": [
        "# Define a function to build a text classification model with a BERT backbone\n",
        "\n",
        "def build_bert_model(bert_layer, max_len):\n",
        "    word_ids = Input(shape=(max_len,), dtype=tf.int32)\n",
        "    input_mask = Input(shape=(max_len,), dtype=tf.int32)\n",
        "    segment_ids = Input(shape=(max_len,), dtype=tf.int32) #Just zeros\n",
        "    _, bert_sequence_output = bert_layer([word_ids, input_mask, segment_ids])\n",
        "\n",
        "    #What's the role of each layer?\n",
        "    clf_output = bert_sequence_output[:, 0, :]\n",
        "    output_layer = Dense(1, activation='sigmoid') #Why 1?\n",
        "    output = output_layer(clf_output)\n",
        "    return Model(inputs=[word_ids, input_mask, segment_ids], outputs=output)"
      ],
      "execution_count": null,
      "outputs": []
    },
    {
      "cell_type": "markdown",
      "metadata": {
        "id": "JABWoN2OMVj0"
      },
      "source": [
        "### Exercise 8\n",
        "\n",
        "Finally, we can create our model and compile it with an optimizer, loss function, and metric! \n",
        "\n",
        "1. Define the BERT-based model.\n",
        "2. [Compile](https://keras.io/api/models/model_training_apis/#compile-method) it with:\n",
        "\n",
        "> a. [ADAM optimizer](https://keras.io/api/optimizers/)\n",
        "\n",
        "> b. `binary_crossentropy` loss\n",
        "\n",
        "> c. accuracy as an evaluation metric\n",
        "\n",
        "> Note: any other parameters you see in the documentation for compile are optional.\n",
        "\n",
        "3. Check out the [model summary](https://keras.io/api/models/model/#summary-method)."
      ]
    },
    {
      "cell_type": "code",
      "metadata": {
        "id": "Uz1gTRE1pvoH"
      },
      "source": [
        "#YOUR CODE HERE"
      ],
      "execution_count": null,
      "outputs": []
    },
    {
      "cell_type": "markdown",
      "metadata": {
        "id": "E6vwJnLpM3-R"
      },
      "source": [
        "## Exercise 9\n",
        "\n",
        "We now train the model we built on Colab's free GPU! Try a batch size of 64, a validation split of 0.2, and 2 epochs.\n",
        "\n",
        "(It will take ~4 minutes per epoch to train. You can check out [AI Dungeon](https://play.aidungeon.io) while you're waiting!)"
      ]
    },
    {
      "cell_type": "code",
      "metadata": {
        "id": "F6Fogo_ag3Zw"
      },
      "source": [
        "\"\"\"\n",
        "Train the model on a GPU using model.fit() \n",
        "\n",
        "Five parameters:\n",
        "1. inputs\n",
        "2. labels\n",
        "3. epochs=?\n",
        "4. validation_split=?\n",
        "5. batch_size=?\n",
        "6. shuffle=False\n",
        "\n",
        "\"\"\"\n",
        "\n",
        "train_history = None ### your code here"
      ],
      "execution_count": null,
      "outputs": []
    },
    {
      "cell_type": "markdown",
      "metadata": {
        "id": "bHl8GMN1NIyu"
      },
      "source": [
        "# Visualize the model's performance\n",
        "\n",
        "The model has now finished training! We will now visualize the model's performance with some simple plots."
      ]
    },
    {
      "cell_type": "code",
      "metadata": {
        "id": "4bkjagCyYRGm",
        "cellView": "form"
      },
      "source": [
        "#@title Metrics vs. Epochs\n",
        "display_training_curves([0.43] + train_history.history['loss'], [0.43] + train_history.history['val_loss'], 'Loss', 211)\n",
        "display_training_curves([0.85] + train_history.history['accuracy'], [0.85] + train_history.history['val_accuracy'], 'Accuracy', 212)"
      ],
      "execution_count": null,
      "outputs": []
    },
    {
      "cell_type": "markdown",
      "metadata": {
        "id": "BuD5n8MgNWzI"
      },
      "source": [
        "**Discuss:**\n",
        "\n",
        "1. What do the above plots show us?  \n",
        "2. Why do the loss and accuracy plots look like mirrors (inverse relation)?\n",
        "3. What is the difference between training and validation accuracy?  Why are they so far apart at Epoch 1 but not at Epoch 2?\n",
        "4. When do the training and validation loss \"converge\"?\n",
        "5. Is it better for validation accuracy to be higher or lower than the training accuracy?\n",
        "6. How does this relate to the idea of \"overfitting\"?"
      ]
    },
    {
      "cell_type": "markdown",
      "metadata": {
        "id": "3PBA8zr3a-9t"
      },
      "source": [
        "**Overall, how did BERT do compared to our baseline model?** Are you surprised about the high accuracy after only 1 epoch? \n",
        "\n"
      ]
    },
    {
      "cell_type": "markdown",
      "metadata": {
        "id": "vYLeWXzgkaOG"
      },
      "source": [
        "**As a next step**, consider changing the architecture stacked on top of BERT to see if we can fine-tune our model even more!"
      ]
    },
    {
      "cell_type": "markdown",
      "metadata": {
        "id": "EyJtoau3lUit"
      },
      "source": [
        "#Discussion\n",
        "\n",
        "BERT's a complex model, and it takes time to train it and set it up!\n",
        "\n",
        "Based on what you've seen, **is it worth it**? Is the accuracy good enough to use? \n",
        "\n",
        "What are the pros and cons of automatically detecting toxic speech in general?\n",
        "\n",
        "Check out the [Allen Institute Demo](https://toxicdegeneration.allenai.org/) for an interactive exploration of how models learn to **create** toxic speech! \n"
      ]
    }
  ]
}