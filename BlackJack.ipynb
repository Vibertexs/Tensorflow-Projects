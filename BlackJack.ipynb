{
  "nbformat": 4,
  "nbformat_minor": 0,
  "metadata": {
    "colab": {
      "name": "BlackJack.ipynb",
      "provenance": [],
      "collapsed_sections": [
        "XvrCQDm8POja"
      ],
      "include_colab_link": true
    },
    "kernelspec": {
      "name": "python3",
      "display_name": "Python 3"
    },
    "accelerator": "GPU"
  },
  "cells": [
    {
      "cell_type": "markdown",
      "metadata": {
        "id": "view-in-github",
        "colab_type": "text"
      },
      "source": [
        "<a href=\"https://colab.research.google.com/github/Vibertexs/Tensorflow-Projects/blob/main/BlackJack.ipynb\" target=\"_parent\"><img src=\"https://colab.research.google.com/assets/colab-badge.svg\" alt=\"Open In Colab\"/></a>"
      ]
    },
    {
      "cell_type": "markdown",
      "metadata": {
        "id": "NBh3dfjULo3b"
      },
      "source": [
        "# Game-Playing with Reinforcement Learning\n"
      ]
    },
    {
      "cell_type": "code",
      "metadata": {
        "id": "tkSmiO9Nh0ac"
      },
      "source": [
        "import random\n",
        "from collections import Counter\n",
        "import numpy as np\n",
        "import matplotlib.pyplot as plt\n",
        "import matplotlib.patches as mpatches\n",
        "from matplotlib import cm\n",
        "import gym\n",
        "from IPython.display import HTML\n",
        "\n",
        "import tqdm\n",
        "\n",
        "ats = {1: \"hit\", 0:\"stay\"}\n",
        "\n",
        "def play_blackjack(epsilon, print_steps=False):\n",
        "  game = []\n",
        "  state = blackjack.reset()\n",
        "  game_over = False\n",
        "  while game_over == False:\n",
        "      if print_steps: \n",
        "        print(\"Your cards: \", blackjack.player)\n",
        "        print_state(state)\n",
        "      action = epsilon_greedy(state, epsilon)\n",
        "      if print_steps: print(f\"Agents chooses to {ats[action]}\")\n",
        "      next_state, reward, game_over, _ = blackjack.step(action)\n",
        "      game.append((state, action))\n",
        "      state = next_state\n",
        "      if game_over:\n",
        "        if print_steps:\n",
        "          print(\"Your cards: \", blackjack.player)\n",
        "          print_state(state)\n",
        "          print(\"Game over!\")\n",
        "          print(f\"Dealer has {blackjack.dealer}\")\n",
        "          print(rtm[reward])\n",
        "        game.append(reward)\n",
        "  return game\n",
        "\n",
        "\n",
        "def get_best_action(hand_val, dealer_card, usable_ace):\n",
        "    state = (hand_val, dealer_card, usable_ace)\n",
        "\n",
        "    # Compute Q(state, True)\n",
        "    if num_games[(state,True)] == 0:\n",
        "      Q_state_true = 0\n",
        "    else:\n",
        "      Q_state_true = sum_rewards[(state,True)] / num_games[(state,True)]\n",
        "    \n",
        "    # Compute Q(state, False)\n",
        "    if num_games[(state,False)] == 0:\n",
        "      Q_state_false = 0\n",
        "    else:\n",
        "      Q_state_false = sum_rewards[(state,False)] / num_games[(state,False)]\n",
        "\n",
        "    return Q_state_true >= Q_state_false\n",
        "\n",
        "def make_subplot(ax, usable_ace):\n",
        "    x_coords = np.arange(1, 11) # dealer's cards\n",
        "    y_coords = np.arange(11, 22) # gambler's hand values\n",
        "    Z = np.array([[get_best_action(y, x, usable_ace) for x in x_coords] for y in y_coords])\n",
        "    surf = ax.imshow(Z, cmap=plt.get_cmap('Set1', 2), extent=[0.5, 10.5, 21.5, 10.5])\n",
        "    plt.xticks(x_coords)\n",
        "    plt.yticks(y_coords)\n",
        "    plt.gca().invert_yaxis()\n",
        "    ax.set_xlabel('Dealer Showing')\n",
        "    ax.set_ylabel('Player Sum')\n",
        "    col1_patch = mpatches.Patch(color='darkgray', label='Hit')\n",
        "    col2_patch = mpatches.Patch(color='red', label='Stick')\n",
        "    plt.legend(handles=[col1_patch, col2_patch])\n",
        "\n",
        "def plot_strategy():\n",
        "  fig = plt.figure(figsize=(13, 13))\n",
        "  ax = fig.add_subplot(121)\n",
        "  ax.set_title('Usable Ace')\n",
        "  make_subplot(ax, True)\n",
        "  ax = fig.add_subplot(122)\n",
        "  ax.set_title('No Usable Ace')\n",
        "  make_subplot(ax, False)\n",
        "  plt.show()\n",
        "\n",
        "def best_action(state):\n",
        "\n",
        "  # Compute Q(state, True)\n",
        "  if num_games[(state,True)] == 0:\n",
        "    Q_state_true = 0\n",
        "  else:\n",
        "    Q_state_true = sum_rewards[(state,True)] / num_games[(state,True)]\n",
        "  \n",
        "  # Compute Q(state, False)\n",
        "  if num_games[(state,False)] == 0:\n",
        "    Q_state_false = 0\n",
        "  else:\n",
        "    Q_state_false = sum_rewards[(state,False)] / num_games[(state,False)]\n",
        "\n",
        "  return Q_state_true >= Q_state_false\n",
        "\n",
        "def print_state(state):\n",
        "  print()\n",
        "  print(\"Hand value:\", state[0])\n",
        "  print(\"Dealer's card:\", state[1])\n",
        "  print(\"Useable ace?:\", state[2])\n",
        "  print(\"-----\")\n",
        "\n",
        "rtm = {0:\"It's a tie!\", -1: \"You lose!\", 1:\"You win!\"}\n",
        "\n",
        "def play_n_times(blackjack, n):\n",
        "  return np.mean([play_human(blackjack) for _ in range(n)])\n",
        "\n",
        "sum_rewards = Counter()\n",
        "num_games = Counter()"
      ],
      "execution_count": null,
      "outputs": []
    },
    {
      "cell_type": "markdown",
      "metadata": {
        "id": "SmeIK9de2ko_"
      },
      "source": [
        "\n",
        "\n",
        "# Reinforcement Learning\n",
        "\n",
        "\n",
        "**Here are some examples of what RL can do**. \n",
        "\n",
        "\n",
        "![](https://lh3.googleusercontent.com/cTaZiZNod4_aZxSYzV-MuAzavS87y838E9Zp8BHrz65_DLi3cJCESl0sDO2ucRxLByeiJ9fQFx4kC8c-6wKivikliGgNFd7c7WIfKfQ=w1440)\n",
        "\n",
        "\n",
        "\n"
      ]
    },
    {
      "cell_type": "code",
      "metadata": {
        "id": "s166mMlISqmI",
        "cellView": "form",
        "colab": {
          "base_uri": "https://localhost:8080/",
          "height": 336
        },
        "outputId": "69947b7a-b9f5-44cc-e1b0-ed3191af7f1c"
      },
      "source": [
        "#@title Run to see an example of a RL agent learning to play breakout!\n",
        "\n",
        "HTML('<iframe width=\"560\" height=\"315\" src=\"https://www.youtube.com/embed/V1eYniJ0Rnk\" frameborder=\"0\" allow=\"accelerometer; autoplay; clipboard-write; encrypted-media; gyroscope; picture-in-picture\" allowfullscreen></iframe>')"
      ],
      "execution_count": null,
      "outputs": [
        {
          "output_type": "execute_result",
          "data": {
            "text/html": [
              "<iframe width=\"560\" height=\"315\" src=\"https://www.youtube.com/embed/V1eYniJ0Rnk\" frameborder=\"0\" allow=\"accelerometer; autoplay; clipboard-write; encrypted-media; gyroscope; picture-in-picture\" allowfullscreen></iframe>"
            ],
            "text/plain": [
              "<IPython.core.display.HTML object>"
            ]
          },
          "metadata": {
            "tags": []
          },
          "execution_count": 2
        }
      ]
    },
    {
      "cell_type": "markdown",
      "metadata": {
        "id": "el79IfPCPqri"
      },
      "source": [
        "# Blackjack\n",
        "\n",
        "![](https://upload.wikimedia.org/wikipedia/commons/3/33/Blackjack21.jpg)\n",
        "\n",
        "We'll use the game of blackjack . Though you can be sure that the odds are *always* against the gambler, certain play strategies are better than others. Despite Blackjack having been played since the 17th century, it was not until 1956 that a team of statisticians managed to find the provably optimal play strategy through a lengthy series of probability calculations!\n",
        "\n",
        "Black Jack Rules:\n",
        "\n",
        "\n",
        "* You and the dealer each start with two cards. You can see both of your cards and one of the dealer's cards\n",
        "* You decide to either \"hit\" or \"stay\"\n",
        "* \"hit\" means you draw another card\n",
        "* \"stay\" means you're done!\n",
        "* The goal is to make the sum of your cards higher than the dealers, but not higher than 21.\n",
        "* J, Q, K are each worth 10\n",
        "* A is worth either 1 or 11 (whichever gives you the highest sum without going over 21)\n",
        "* Dealer gets to pick cards after you're done\n"
      ]
    },
    {
      "cell_type": "code",
      "metadata": {
        "id": "G2mMK6VM8T4-"
      },
      "source": [
        "blackjack = gym.make('Blackjack-v0')"
      ],
      "execution_count": null,
      "outputs": []
    },
    {
      "cell_type": "code",
      "metadata": {
        "id": "OLJMfaFk8Pl5",
        "colab": {
          "base_uri": "https://localhost:8080/"
        },
        "outputId": "d7d29623-4f4d-436b-d9de-6630391ae591"
      },
      "source": [
        "play_human(blackjack)"
      ],
      "execution_count": null,
      "outputs": [
        {
          "output_type": "stream",
          "text": [
            "\n",
            "Your cards:  [5, 4]\n",
            "Hand value: 9\n",
            "Dealer's card: 5\n",
            "Useable ace?: False\n",
            "-----\n",
            "1 for hit 0 for stay: 1\n",
            "Your cards:  [5, 4, 8]\n",
            "Hand value: 17\n",
            "Dealer's card: 5\n",
            "Useable ace?: False\n",
            "-----\n",
            "1 for hit 0 for stay: 0\n",
            "Your cards:  [5, 4, 8]\n",
            "Hand value: 17\n",
            "Dealer's card: 5\n",
            "Useable ace?: False\n",
            "-----\n",
            "Game over!\n",
            "Dealer has [5, 1, 5]\n",
            "You lose!\n"
          ],
          "name": "stdout"
        },
        {
          "output_type": "execute_result",
          "data": {
            "text/plain": [
              "-1.0"
            ]
          },
          "metadata": {
            "tags": []
          },
          "execution_count": 4
        }
      ]
    },
    {
      "cell_type": "markdown",
      "metadata": {
        "id": "XvrCQDm8POja"
      },
      "source": [
        "# Defining the world\n",
        "\n",
        "\n",
        "These interact together to define our world as follows!\n",
        "\n",
        "![](https://dzone.com/storage/temp/6976061-screen-shot-2017-10-20-at-22200-pm.png)\n",
        "\n"
      ]
    },
    {
      "cell_type": "markdown",
      "metadata": {
        "id": "5lu3XkyERndf"
      },
      "source": [
        "In blackjack, we'll define a **state** using the following format:\n",
        "\n",
        "$s = $`(sum_of_cards_in_hand, dealers_card, useable_ace)`\n",
        "\n",
        "where:\n",
        "\n",
        "*   `sum_of_cards_in_hand` is sum of cards in hand (integer)\n",
        "*   `dealers_card` is the dealer's visible card (integer) \n",
        "*   `useable_ace` is whether or not we have a useable ace (boolean)\n",
        "\n",
        "The **actions** are to hit or to stay.\n",
        "\n",
        "Because we are interested in training our agent to win as much as possible, we'll define a simple **reward** function which is $+1$ upon winning, $-1$ upon losing, and $0$ at all intermediate (i.e. non-game-ending) states, as well as upon tieing. We might make several moves before we get get a non-zero reward!"
      ]
    },
    {
      "cell_type": "markdown",
      "metadata": {
        "id": "aH0avSFZBB4_"
      },
      "source": [
        "# Policy\n",
        "\n",
        "We're trying to learn a **policy**: rules for how we'll select **actions** based on the **state** of the world. The objective is to learn a policy that gets us the largest **reward** possible!"
      ]
    },
    {
      "cell_type": "markdown",
      "metadata": {
        "id": "tSk5nmDDufk5"
      },
      "source": [
        "# Value\n",
        "\n",
        "Let's define the **value** $Q(s, a)$ of an action $a$, at state $s$ as the expected future reward of taking an action at a certain state. Think $Q$ for quality: what payoff should we expect with this move?\n",
        "\n",
        "\n"
      ]
    },
    {
      "cell_type": "markdown",
      "metadata": {
        "id": "Fhm_SMJBhDn-"
      },
      "source": [
        "Note that in real life we don't get a nice dictionary with our value function, so we'll have to learn it! This is the core idea behind our algorithm for today, which is called **Q-learning**. By experimenting with different actions, we'll learn what tends to happen when we make an action from a particular state.\n",
        "\n",
        "\n",
        "# Q-Learning - Estimating Value\n",
        "\n",
        "In order to learn $Q$, we'll repeat the following two steps:\n",
        "1. Run an episode: have the agent interact with the world in some way (more on how later!)\n",
        "2. Update the value, $Q(s, a)$, for each $(s, a)$ pair that occurred in the episode based on the rewards that we got!\n",
        "\n",
        "For blackjack this is: \n",
        "1.   Play a game of Blackjack.\n",
        "2.   Update the $Q(s,a)$ value, for each $(s,a)$ pair that occurred in the game, based on whether we won or lost at the end.\n",
        "\n"
      ]
    },
    {
      "cell_type": "markdown",
      "metadata": {
        "id": "ovvW4r8xzg-J"
      },
      "source": [
        "## Updating the Value Estimates\n",
        "\n",
        "We can represent our game of blackjack like this:\n",
        "\n",
        "$s_1, a_1, s_2, a_2, \\ldots, s_n, a_n, r$\n",
        "\n",
        "Where $r$ is the reward received at the end of the game: we're in a state, we take an action, repeat. Eventually, the game ends and we get a reward.\n",
        "\n",
        "One complication here is that Blackjack games last for a variable number of moves, so we don't know what $n$ is upfront!\n",
        "\n",
        "Suppose that, in code, this gameplay data is given you in the following form:\n",
        "\n",
        "`game = [(s_1,a_1), (s_2,a_2), ... , (s_n,a_n), r]`\n",
        "\n",
        "That is, `game` is a `List` of $n$ `Tuples` (each of which contains a state and an action) followed by a single reward at the end."
      ]
    },
    {
      "cell_type": "markdown",
      "metadata": {
        "id": "iMd4vJ9ynoXt"
      },
      "source": [
        "We'll keep a tally of the rewards we get for each action in each state, so that later we can find the average value.\n",
        "\n",
        "**Exercise:** Write a function that takes a `game` as argument and updates `sum_rewards` and `num_games` appropriately.\n",
        "* `sum_rewards[(s, a)]` is the total reward at the state `(s, a)`.\n",
        "* `num_games[(s, a)]` is the number of times we've seen the state `(s, a)`.\n",
        "\n",
        "At the start, the two dictionaries are both initialized so that the value for each `(s, a)` pair is 0."
      ]
    },
    {
      "cell_type": "code",
      "metadata": {
        "id": "1JfBDdE8n2EY"
      },
      "source": [
        "def update_counters(game):\n",
        "  reward = game[-1]\n",
        "  for state_action_tuple in game[:-1]: #tuple is (s,a)\n",
        "    sum_rewards[state_action_tuple] += reward\n",
        "    num_games[state_action_tuple] +=1"
      ],
      "execution_count": null,
      "outputs": []
    },
    {
      "cell_type": "markdown",
      "metadata": {
        "id": "khzLKitdlkuW"
      },
      "source": [
        "# Choosing Actions\n",
        "\n",
        "Now we've got a way to learn the value of each action from each state!\n",
        "\n",
        "But how do we use that to actually play the game while we're still learning? (What policy does the agent use while it is training?)\n",
        "\n",
        "Following strategies:\n",
        "* **Explore:** At any state, just randomly select an action!\n",
        "* **Exploit:** At any state, pick the action we currently think is the best based on our value estimate! (this is the q_policy_implementation that we wrote!)\n",
        "\n",
        "![](https://asopa.typepad.com/.a/6a00d83454f2ec69e2022ad3b982a8200b-800wi)\n"
      ]
    },
    {
      "cell_type": "markdown",
      "metadata": {
        "id": "YKGXAvTazfnR"
      },
      "source": [
        "### Epsilon Greedy ($\\varepsilon$-greedy) approach!\n",
        "\n",
        "There is a trade-off between the two strategies above, so we compromise and mix the two strategies together! We'll use something called the $\\varepsilon$-greedy algorithm! This algorithm explores (selects a random action) with probability $\\varepsilon$, and exploits (selects the best action) with probability $(1-\\varepsilon)$. \n",
        "\n",
        "**Exercise:** Read the code below to see how this policy is implemented!"
      ]
    },
    {
      "cell_type": "code",
      "metadata": {
        "id": "OcIimTixzyGK"
      },
      "source": [
        "def epsilon_greedy(state, epsilon):\n",
        "\n",
        "  # Return best_action with probability 1-epsilon\n",
        "  if np.random.rand() > epsilon:\n",
        "    return best_action(state)\n",
        "  \n",
        "  # Otherwise, return random action\n",
        "  else:\n",
        "    return np.random.choice([0,1])"
      ],
      "execution_count": null,
      "outputs": []
    },
    {
      "cell_type": "markdown",
      "metadata": {
        "id": "LioUt8hnlfy3"
      },
      "source": [
        "# Training our Agent\n",
        "\n",
        "Time to put it all together and actually train our agent to learn a good blackjack strategy!\n",
        "\n",
        "We'll use the `play_blackjack(epsilon)` function which plays the game of blackjack using the epsilon_greedy policy, and then update our counters!"
      ]
    },
    {
      "cell_type": "code",
      "metadata": {
        "id": "oNB8AOHY7TtT",
        "colab": {
          "base_uri": "https://localhost:8080/"
        },
        "outputId": "3428b784-39b7-4f23-b449-999731758cbb"
      },
      "source": [
        "epsilon = 0.15\n",
        "sum_rewards = Counter()\n",
        "num_games = Counter()\n",
        "\n",
        "for iteration in tqdm.tqdm(range(1000000)):\n",
        "  game = play_blackjack(epsilon)\n",
        "  update_counters(game)\n"
      ],
      "execution_count": null,
      "outputs": [
        {
          "output_type": "stream",
          "text": [
            "100%|██████████| 1000000/1000000 [01:01<00:00, 16355.98it/s]\n"
          ],
          "name": "stderr"
        }
      ]
    },
    {
      "cell_type": "code",
      "metadata": {
        "id": "inDFbi1HFCtk",
        "colab": {
          "base_uri": "https://localhost:8080/"
        },
        "outputId": "a6338732-0df2-4097-f91d-a10149cf4ae9"
      },
      "source": [
        "play_blackjack(epsilon=0, print_steps=True)"
      ],
      "execution_count": null,
      "outputs": [
        {
          "output_type": "stream",
          "text": [
            "Your cards:  [10, 4]\n",
            "\n",
            "Hand value: 14\n",
            "Dealer's card: 10\n",
            "Useable ace?: False\n",
            "-----\n",
            "Agents chooses to hit\n",
            "Your cards:  [10, 4, 10]\n",
            "\n",
            "Hand value: 24\n",
            "Dealer's card: 10\n",
            "Useable ace?: False\n",
            "-----\n",
            "Game over!\n",
            "Dealer has [10, 2]\n",
            "You lose!\n"
          ],
          "name": "stdout"
        },
        {
          "output_type": "execute_result",
          "data": {
            "text/plain": [
              "[((14, 10, False), True), -1.0]"
            ]
          },
          "metadata": {
            "tags": []
          },
          "execution_count": 55
        }
      ]
    },
    {
      "cell_type": "code",
      "metadata": {
        "id": "Wu8_JP628kp4",
        "colab": {
          "base_uri": "https://localhost:8080/",
          "height": 441
        },
        "outputId": "ce307486-1231-4e25-d48f-8ad419f1a7c2"
      },
      "source": [
        "plot_strategy()"
      ],
      "execution_count": null,
      "outputs": [
        {
          "output_type": "display_data",
          "data": {
            "image/png": "[encoded data removed]",
            "text/plain": [
              "<Figure size 936x936 with 2 Axes>"
            ]
          },
          "metadata": {
            "tags": [],
            "needs_background": "light"
          }
        }
      ]
    },
    {
      "cell_type": "markdown",
      "metadata": {
        "id": "y_XiNWcl6n3G"
      },
      "source": [
        "Compare the strategy that your agent learned to the optimal Blackjack strategy, shown below on the left. It should look pretty similar!\n",
        "\n",
        "(Notice that the grid layouts differ a bit between our visualization and the one below; we plot the best actions aligned with the tick marks, whereas the following figure plots the best actions in between tick marks).\n",
        "\n",
        "\n",
        "![alt text](https://ankonzoid.github.io/LearningX/classical_RL/blackjack/images/coverart.png)\n"
      ]
    }
  ]
}