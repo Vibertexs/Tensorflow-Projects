{
  "nbformat": 4,
  "nbformat_minor": 0,
  "metadata": {
    "colab": {
      "name": "EmotionDetector.ipynb",
      "provenance": [],
      "collapsed_sections": [],
      "authorship_tag": "ABX9TyMbKZHLKpbG6C/+UYp6IM0r",
      "include_colab_link": true
    },
    "kernelspec": {
      "name": "python3",
      "display_name": "Python 3"
    },
    "accelerator": "GPU"
  },
  "cells": [
    {
      "cell_type": "markdown",
      "metadata": {
        "id": "view-in-github",
        "colab_type": "text"
      },
      "source": [
        "<a href=\"https://colab.research.google.com/github/Vibertexs/Tensorflow-Projects/blob/main/EmotionDetector.ipynb\" target=\"_parent\"><img src=\"https://colab.research.google.com/assets/colab-badge.svg\" alt=\"Open In Colab\"/></a>"
      ]
    },
    {
      "cell_type": "code",
      "metadata": {
        "colab": {
          "base_uri": "https://localhost:8080/"
        },
        "id": "dIu3yOeKVED4",
        "outputId": "d8aca5bf-93f8-42a0-f27e-a21904b1711d"
      },
      "source": [
        "#@title Run this to download data and prepare our environment!  { display-mode: \"form\" }\r\n",
        "\r\n",
        "import cv2\r\n",
        "import dlib\r\n",
        "import pickle\r\n",
        "import warnings\r\n",
        "import numpy as np\r\n",
        "import pandas as pd\r\n",
        "import seaborn as sns\r\n",
        "\r\n",
        "import urllib.request\r\n",
        "\r\n",
        "from sklearn import metrics\r\n",
        "from scipy.spatial import distance\r\n",
        "from sklearn.metrics import accuracy_score\r\n",
        "from matplotlib import pyplot as plt\r\n",
        "from tqdm import tqdm,tqdm_pandas\r\n",
        "from sklearn.preprocessing import StandardScaler\r\n",
        "from sklearn.model_selection import train_test_split\r\n",
        "\r\n",
        "import re\r\n",
        "import gdown\r\n",
        "import keras\r\n",
        "\r\n",
        "from keras.models import Sequential\r\n",
        "from keras.utils import to_categorical\r\n",
        "from keras.optimizers import Adam\r\n",
        "from keras.layers import Dense, Dropout, Activation, Flatten\r\n",
        "from keras.layers import Conv2D, MaxPooling2D, BatchNormalization\r\n",
        "from keras.losses import categorical_crossentropy\r\n",
        "from keras.optimizers import Adam, SGD\r\n",
        "from keras.regularizers import l2\r\n",
        "from keras.callbacks import EarlyStopping, ModelCheckpoint\r\n",
        "from keras.models import load_model\r\n",
        "\r\n",
        "# grab tools from our tensorflow and keras toolboxes!\r\n",
        "import tensorflow as tf\r\n",
        "from keras.models import Sequential\r\n",
        "from keras.layers import Activation, Dropout, Flatten, Dense\r\n",
        "from keras import optimizers\r\n",
        "\r\n",
        "warnings.filterwarnings(\"ignore\")\r\n",
        "def model_to_string(model):\r\n",
        "    import re\r\n",
        "    stringlist = []\r\n",
        "    model.summary(print_fn=lambda x: stringlist.append(x))\r\n",
        "    sms = \"\\n\".join(stringlist)\r\n",
        "    sms = re.sub('_\\d\\d\\d','', sms)\r\n",
        "    sms = re.sub('_\\d\\d','', sms)\r\n",
        "    sms = re.sub('_\\d','', sms)  \r\n",
        "    return sms\r\n",
        "\r\n",
        "###Getting the csv data loaded\r\n",
        "\r\n",
        "dataset_url = 'https://drive.google.com/uc?id=1xFiYsULlQWWmi2Ai0fHjtApniP5Pscuf'\r\n",
        "dataset_path = './ferdata.csv'\r\n",
        "gdown.download(dataset_url, dataset_path, True)\r\n",
        "\r\n",
        "###Getting the Dlib Shape predictor!\r\n",
        "\r\n",
        "dlibshape_url = 'https://drive.google.com/uc?id=17D3D89Gke6i5nKOvmsbPslrGg5rVgOwg'\r\n",
        "dlibshape_path ='./shape_predictor_68_face_landmarks.dat'\r\n",
        "gdown.download(dlibshape_url, dlibshape_path, True)\r\n",
        "\r\n",
        "###Getting the Xpure loaded\r\n",
        "\r\n",
        "pureX_url = 'https://drive.google.com/uc?id=1CglpXodenZVrkaZehLtfykfQv8dcnfO9'\r\n",
        "pureX_path = './pureX.npy'\r\n",
        "gdown.download(pureX_url, pureX_path,True)\r\n",
        "\r\n",
        "###Getting the Xdata loaded\r\n",
        "\r\n",
        "dataX_url = 'https://drive.google.com/uc?id=1sIJGxUM6rNBcWxucs6iynDepeKU1Q56p'\r\n",
        "dataX_path = './dataX.npy'\r\n",
        "gdown.download(dataX_url, dataX_path, True)\r\n",
        "\r\n",
        "\r\n",
        "###Getting the Ydata loaded\r\n",
        "\r\n",
        "dataY_url = 'https://drive.google.com/uc?id=1Rfr0OP-hZO_UZfuOyMNR2RjNRAro85zE'\r\n",
        "dataY_path = './dataY.npy'\r\n",
        "gdown.download(dataY_url, dataY_path, True)\r\n",
        "\r\n",
        "print (\"Data Downloaded!\")\r\n",
        "\r\n",
        "'''\r\n",
        "Plots the confusion Matrix and saves it\r\n",
        "'''\r\n",
        "def plot_confusion_matrix(y_true,y_predicted):\r\n",
        "  cm = metrics.confusion_matrix(y_true, y_predicted)\r\n",
        "  print (\"Plotting the Confusion Matrix\")\r\n",
        "  labels = list(label_map.values())\r\n",
        "  df_cm = pd.DataFrame(cm,index = labels,columns = labels)\r\n",
        "  fig = plt.figure()\r\n",
        "  res = sns.heatmap(df_cm, annot=True,cmap='Blues', fmt='g')\r\n",
        "  plt.yticks([0.5,1.5,2.5,3.5,4.5], labels,va='center')\r\n",
        "  plt.title('Confusion Matrix - TestData')\r\n",
        "  plt.ylabel('True label')\r\n",
        "  plt.xlabel('Predicted label')\r\n",
        " \r\n",
        "  plt.show()\r\n",
        "  plt.close()\r\n",
        "\r\n",
        "def plot_graphs(history, best):\r\n",
        "  \r\n",
        "  plt.figure(figsize=[10,4])\r\n",
        "  # summarize history for accuracy\r\n",
        "  plt.subplot(121)\r\n",
        "  plt.plot(history.history['accuracy'])\r\n",
        "  plt.plot(history.history['val_accuracy'])\r\n",
        "  plt.title('model accuracy across training\\n best accuracy of %.02f'%best[1])\r\n",
        "  plt.ylabel('accuracy')\r\n",
        "  plt.xlabel('epoch')\r\n",
        "  plt.legend(['train', 'test'], loc='upper left')\r\n",
        "  \r\n",
        "  # summarize history for loss\r\n",
        "  plt.subplot(122)\r\n",
        "  plt.plot(history.history['loss'])\r\n",
        "  plt.plot(history.history['val_loss'])\r\n",
        "  plt.title('model loss across training\\n best loss of %.02f'%best[0])\r\n",
        "  plt.ylabel('loss')\r\n",
        "  plt.xlabel('epoch')\r\n",
        "  plt.legend(['train', 'test'], loc='upper left')\r\n",
        "  plt.show()\r\n",
        "\r\n",
        "#Integer to Label Mapping\r\n",
        "label_map = {\"0\":\"ANGRY\",\"1\":\"HAPPY\",\"2\":\"SAD\",\"3\":\"SURPRISE\",\"4\":\"NEUTRAL\"}\r\n",
        "\r\n",
        "\r\n",
        "#Load the 68 face Landmark file\r\n",
        "predictor = dlib.shape_predictor('./shape_predictor_68_face_landmarks.dat')\r\n",
        "\"\"\"\r\n",
        "Returns facial landmarks for the given input image path\r\n",
        "\"\"\"\r\n",
        "def get_landmarks(image):\r\n",
        "  \r\n",
        "  \r\n",
        "  #:type image : cv2 object\r\n",
        "  #:rtype landmarks : list of tuples where each tuple represents \r\n",
        "  #                  the x and y co-ordinates of facial keypoints\r\n",
        "  \r\n",
        "  #Bounding Box co-ordinates around the face(Training data is 48*48(cropped faces))\r\n",
        "  rects = [dlib.rectangle(left=1, top=1, right=47, bottom=47)]\r\n",
        "\r\n",
        "  #Read Image using OpenCV\r\n",
        "  #image = cv2.imread(image_path)\r\n",
        "  #Detect the Faces within the image\r\n",
        "  landmarks = [(p.x, p.y) for p in predictor(image, rects[0]).parts()]\r\n",
        "  return image,landmarks\r\n",
        "\r\n",
        "\"\"\"\r\n",
        "Display image with its Facial Landmarks\r\n",
        "\"\"\"\r\n",
        "def image_landmarks(image,face_landmarks):\r\n",
        "  \"\"\"\r\n",
        "  :type image_path : str\r\n",
        "  :type face_landmarks : list of tuples where each tuple represents \r\n",
        "                     the x and y co-ordinates of facial keypoints\r\n",
        "  :rtype : None\r\n",
        "  \"\"\"\r\n",
        "  radius = -4\r\n",
        "  circle_thickness = 1\r\n",
        "  image_copy = image.copy()\r\n",
        "  for (x, y) in face_landmarks:\r\n",
        "    cv2.circle(image_copy, (x, y), circle_thickness, (255,0,0), radius)\r\n",
        "    \r\n",
        "  plt.imshow(image_copy, interpolation='nearest')\r\n",
        "  plt.show()\r\n",
        "  \r\n",
        "\"\"\"\r\n",
        "Computes euclidean distance between 68 Landmark Points for our features\r\n",
        "e_dist is a list of features that will go into our model.\r\n",
        "Each feature is a distance between two landmark points, and every pair of points\r\n",
        "must have a feature.\r\n",
        "\"\"\"\r\n",
        "  \r\n",
        "def landmarks_edist(face_landmarks):\r\n",
        "    e_dist = []\r\n",
        "    for i in range(len(face_landmarks)):\r\n",
        "        for j in range(len(face_landmarks)):\r\n",
        "            if i!= j:\r\n",
        "                e_dist.append(distance.euclidean(face_landmarks[i],face_landmarks[j]))\r\n",
        "    return e_dist\r\n",
        "  \r\n",
        "def compare_learning(mlp, lm, cnn, vgg): # there's one model missing: MLP from pixels\r\n",
        "  \r\n",
        "  # summarize history for accuracy\r\n",
        "  plt.plot(vgg.history['val_accuracy'],)\r\n",
        "  plt.plot(cnn.history['val_accuracy'])\r\n",
        "  plt.plot(mlp.history['val_accuracy'],)\r\n",
        "  plt.plot(lm.history['val_accuracy'])\r\n",
        "  plt.ylabel('validitation accuracy')\r\n",
        "  plt.xlabel('epoch')\r\n",
        "  plt.legend(['cnn_transfer', 'cnn_scratch', 'mlp_pixels', 'mlp_landmarks'], bbox_to_anchor=[1,1])\r\n",
        "  plt.xticks(range(0, epochs+1, 5), range(0, epochs+1, 5))\r\n",
        "  plt.show()\r\n"
      ],
      "execution_count": null,
      "outputs": [
        {
          "output_type": "stream",
          "text": [
            "Data Downloaded!\n"
          ],
          "name": "stdout"
        }
      ]
    },
    {
      "cell_type": "code",
      "metadata": {
        "id": "G1eBfDH8WhXQ"
      },
      "source": [
        "# the number of times we pass all the training data through the model \r\n",
        "epochs = 40\r\n",
        "# the number of examples we pass to the model at each time\r\n",
        "batch_size = 20\r\n",
        "# the proportion of testing data we set aside (e.g. 10%)\r\n",
        "test_ratio = .1\r\n",
        "# the number of emotion categories we have to predict\r\n",
        "n_labels = 5"
      ],
      "execution_count": null,
      "outputs": []
    },
    {
      "cell_type": "code",
      "metadata": {
        "id": "cYzgPmguWhbH"
      },
      "source": [
        "import pandas as pd\r\n",
        "\r\n",
        "# load data \r\n",
        "dataX_pixels = np.load('pureX.npy')\r\n",
        "dataY_pixels = np.load('dataY.npy')"
      ],
      "execution_count": null,
      "outputs": []
    },
    {
      "cell_type": "code",
      "metadata": {
        "id": "NxRFwdtfWheZ"
      },
      "source": [
        "# convert labels to one hot encoding\r\n",
        "y_onehot = keras.utils.to_categorical(dataY_pixels, len(set(dataY_pixels)))\r\n",
        "# what does this data type look like? "
      ],
      "execution_count": null,
      "outputs": []
    },
    {
      "cell_type": "code",
      "metadata": {
        "id": "DQPZ_OEvWhhM"
      },
      "source": [
        "# split Data into Train, Test (90-10)\r\n",
        "X_train, X_test, y_train, y_test = train_test_split(dataX_pixels, y_onehot, test_size=test_ratio, random_state=42)\r\n",
        "\r\n",
        "#### Standardize the data ##########\r\n",
        "pixel_scaler = StandardScaler()\r\n",
        "pixel_scaler.fit(X_train)\r\n",
        "X_train = pixel_scaler.transform(X_train)\r\n",
        "X_test = pixel_scaler.transform(X_test)"
      ],
      "execution_count": null,
      "outputs": []
    },
    {
      "cell_type": "code",
      "metadata": {
        "id": "jqcGhpKTYB73"
      },
      "source": [
        "width, height = 48, 48\r\n"
      ],
      "execution_count": null,
      "outputs": []
    },
    {
      "cell_type": "code",
      "metadata": {
        "colab": {
          "base_uri": "https://localhost:8080/"
        },
        "id": "3r8OUWzCYQD3",
        "outputId": "e8ad98e8-c497-4c65-c8e4-f6a40373f1c2"
      },
      "source": [
        "# pixels were vectors\r\n",
        "print(X_train.shape) "
      ],
      "execution_count": null,
      "outputs": [
        {
          "output_type": "stream",
          "text": [
            "(18000, 2304)\n"
          ],
          "name": "stdout"
        }
      ]
    },
    {
      "cell_type": "code",
      "metadata": {
        "colab": {
          "base_uri": "https://localhost:8080/"
        },
        "id": "SHwzbXPeYQns",
        "outputId": "71b97735-8da6-458d-ada2-5103abcfaa3d"
      },
      "source": [
        "X_train_cnn = X_train.reshape(len(X_train),height,width)\r\n",
        "X_test_cnn = X_test.reshape(len(X_test),height,width)\r\n",
        "\r\n",
        "# we've converted them to images\r\n",
        "print(X_train_cnn.shape) "
      ],
      "execution_count": null,
      "outputs": [
        {
          "output_type": "stream",
          "text": [
            "(18000, 48, 48)\n"
          ],
          "name": "stdout"
        }
      ]
    },
    {
      "cell_type": "code",
      "metadata": {
        "colab": {
          "base_uri": "https://localhost:8080/"
        },
        "id": "pqrWeAWkYRpl",
        "outputId": "b0d07f86-ba7c-4077-c0ce-5ae6809fd8cd"
      },
      "source": [
        "# now we add one more dimension for model compatability\r\n",
        "X_train_cnn = np.expand_dims(X_train_cnn,3)\r\n",
        "X_test_cnn = np.expand_dims(X_test_cnn,3)\r\n",
        "\r\n",
        "print(X_train_cnn.shape)"
      ],
      "execution_count": null,
      "outputs": [
        {
          "output_type": "stream",
          "text": [
            "(18000, 48, 48, 1)\n"
          ],
          "name": "stdout"
        }
      ]
    },
    {
      "cell_type": "code",
      "metadata": {
        "id": "XzVA2sHFYSfj"
      },
      "source": [
        "############### CALL YOUR MODEL 'cnn_model' \r\n",
        "\r\n",
        "# Initiate the mode\r\n",
        "cnn_model = Sequential()\r\n",
        "\r\n",
        "# this conv layer has 64 filters! the input shape needs to be the same dimensions of the image\r\n",
        "cnn_model.add(Conv2D(64, kernel_size=(3, 3), activation='relu', input_shape=(width, height, 1)))\r\n",
        "cnn_model.add(BatchNormalization())\r\n",
        "cnn_model.add(Conv2D(64, kernel_size=(3, 3), activation='relu', input_shape=(width, height, 1)))\r\n",
        "cnn_model.add(BatchNormalization())\r\n",
        "# max pooling\r\n",
        "cnn_model.add(MaxPooling2D(pool_size=(2, 2), strides=(2, 2)))\r\n",
        "\r\n",
        "cnn_model.add(Conv2D(128, kernel_size=(3, 3), activation='relu', input_shape=(width, height, 1)))\r\n",
        "cnn_model.add(BatchNormalization())\r\n",
        "cnn_model.add(Conv2D(256, kernel_size=(3, 3), activation='relu', input_shape=(width, height, 1)))\r\n",
        "cnn_model.add(BatchNormalization())\r\n",
        "cnn_model.add(Conv2D(256, kernel_size=(3, 3), activation='relu', input_shape=(width, height, 1)))\r\n",
        "cnn_model.add(BatchNormalization())\r\n",
        "cnn_model.add(Conv2D(512, kernel_size=(3, 3), activation='relu', input_shape=(width, height, 1)))\r\n",
        "cnn_model.add(BatchNormalization())\r\n",
        "# max pooling\r\n",
        "cnn_model.add(MaxPooling2D(pool_size=(2, 2), strides=(2, 2)))\r\n",
        "\r\n",
        "# flatten all the outputs between convolutional and dense layers\r\n",
        "cnn_model.add(Flatten())\r\n",
        "# add a \"dense layer\" (i.e. the fully connected layers in MLPs) with dropout\r\n",
        "cnn_model.add(Dense(4096, activation='relu'))\r\n",
        "cnn_model.add(Dense(4096, activation='relu'))\r\n",
        "cnn_model.add(Dropout(0.2))\r\n",
        "cnn_model.add(Dense(1000, activation='relu'))\r\n",
        "cnn_model.add(Dense(512, activation='relu'))\r\n",
        "cnn_model.add(Dropout(0.2))\r\n",
        "cnn_model.add(Dense(256, activation='relu'))\r\n",
        "cnn_model.add(Dense(128, activation='relu'))\r\n",
        "cnn_model.add(Dense(64, activation='relu'))\r\n",
        "cnn_model.add(Dense(n_labels, activation='softmax'))\r\n",
        "#YOUR CODE HERE"
      ],
      "execution_count": null,
      "outputs": []
    },
    {
      "cell_type": "code",
      "metadata": {
        "colab": {
          "base_uri": "https://localhost:8080/"
        },
        "id": "WVbuK-mhYVpt",
        "outputId": "5d17184b-4b9d-4aca-8aaa-555bd5cb6c47"
      },
      "source": [
        "cnn_model.summary()"
      ],
      "execution_count": null,
      "outputs": [
        {
          "output_type": "stream",
          "text": [
            "Model: \"sequential_1\"\n",
            "_________________________________________________________________\n",
            "Layer (type)                 Output Shape              Param #   \n",
            "=================================================================\n",
            "conv2d (Conv2D)              (None, 46, 46, 64)        640       \n",
            "_________________________________________________________________\n",
            "batch_normalization (BatchNo (None, 46, 46, 64)        256       \n",
            "_________________________________________________________________\n",
            "conv2d_1 (Conv2D)            (None, 44, 44, 64)        36928     \n",
            "_________________________________________________________________\n",
            "batch_normalization_1 (Batch (None, 44, 44, 64)        256       \n",
            "_________________________________________________________________\n",
            "max_pooling2d (MaxPooling2D) (None, 22, 22, 64)        0         \n",
            "_________________________________________________________________\n",
            "conv2d_2 (Conv2D)            (None, 20, 20, 128)       73856     \n",
            "_________________________________________________________________\n",
            "batch_normalization_2 (Batch (None, 20, 20, 128)       512       \n",
            "_________________________________________________________________\n",
            "conv2d_3 (Conv2D)            (None, 18, 18, 256)       295168    \n",
            "_________________________________________________________________\n",
            "batch_normalization_3 (Batch (None, 18, 18, 256)       1024      \n",
            "_________________________________________________________________\n",
            "conv2d_4 (Conv2D)            (None, 16, 16, 256)       590080    \n",
            "_________________________________________________________________\n",
            "batch_normalization_4 (Batch (None, 16, 16, 256)       1024      \n",
            "_________________________________________________________________\n",
            "conv2d_5 (Conv2D)            (None, 14, 14, 512)       1180160   \n",
            "_________________________________________________________________\n",
            "batch_normalization_5 (Batch (None, 14, 14, 512)       2048      \n",
            "_________________________________________________________________\n",
            "max_pooling2d_1 (MaxPooling2 (None, 7, 7, 512)         0         \n",
            "_________________________________________________________________\n",
            "flatten (Flatten)            (None, 25088)             0         \n",
            "_________________________________________________________________\n",
            "dense_3 (Dense)              (None, 4096)              102764544 \n",
            "_________________________________________________________________\n",
            "dense_4 (Dense)              (None, 4096)              16781312  \n",
            "_________________________________________________________________\n",
            "dropout_2 (Dropout)          (None, 4096)              0         \n",
            "_________________________________________________________________\n",
            "dense_5 (Dense)              (None, 1000)              4097000   \n",
            "_________________________________________________________________\n",
            "dense_6 (Dense)              (None, 512)               512512    \n",
            "_________________________________________________________________\n",
            "dropout_3 (Dropout)          (None, 512)               0         \n",
            "_________________________________________________________________\n",
            "dense_7 (Dense)              (None, 256)               131328    \n",
            "_________________________________________________________________\n",
            "dense_8 (Dense)              (None, 128)               32896     \n",
            "_________________________________________________________________\n",
            "dense_9 (Dense)              (None, 64)                8256      \n",
            "_________________________________________________________________\n",
            "dense_10 (Dense)             (None, 5)                 325       \n",
            "=================================================================\n",
            "Total params: 126,510,125\n",
            "Trainable params: 126,507,565\n",
            "Non-trainable params: 2,560\n",
            "_________________________________________________________________\n"
          ],
          "name": "stdout"
        }
      ]
    },
    {
      "cell_type": "code",
      "metadata": {
        "id": "IHWq4zRGYWdm",
        "colab": {
          "base_uri": "https://localhost:8080/"
        },
        "outputId": "979e7b6b-5df9-440a-e32e-2dc2b2872629"
      },
      "source": [
        "#Saves the Best Model Based on Val Loss\r\n",
        "checkpoint = ModelCheckpoint('best_cnn_model.h5', verbose=1, monitor='val_loss',save_best_only=True, mode='auto')  \r\n",
        "\r\n",
        "# compliling the model with adam optimixer and categorical crossentropy loss\r\n",
        "cnn_model.compile(loss=categorical_crossentropy, optimizer=Adam(lr=0.001, beta_1=0.9, beta_2=0.999), metrics=['accuracy'])\r\n",
        "\r\n",
        "# training the model\r\n",
        "cnn_history = cnn_model.fit(X_train_cnn, y_train, batch_size=60, epochs=20, verbose=1, \r\n",
        "                            callbacks=[checkpoint], validation_data=(X_test_cnn, y_test), shuffle=True)"
      ],
      "execution_count": null,
      "outputs": [
        {
          "output_type": "stream",
          "text": [
            "Epoch 1/20\n",
            "300/300 [==============================] - 30s 72ms/step - loss: 2.6508 - accuracy: 0.2504 - val_loss: 1.7101 - val_accuracy: 0.2520\n",
            "\n",
            "Epoch 00001: val_loss improved from inf to 1.71012, saving model to best_cnn_model.h5\n",
            "Epoch 2/20\n",
            "300/300 [==============================] - 22s 72ms/step - loss: 1.4359 - accuracy: 0.3753 - val_loss: 1.3888 - val_accuracy: 0.3955\n",
            "\n",
            "Epoch 00002: val_loss improved from 1.71012 to 1.38879, saving model to best_cnn_model.h5\n",
            "Epoch 3/20\n",
            "300/300 [==============================] - 22s 73ms/step - loss: 1.3033 - accuracy: 0.4418 - val_loss: 1.1645 - val_accuracy: 0.5205\n",
            "\n",
            "Epoch 00003: val_loss improved from 1.38879 to 1.16448, saving model to best_cnn_model.h5\n",
            "Epoch 4/20\n",
            "300/300 [==============================] - 22s 74ms/step - loss: 1.1638 - accuracy: 0.5267 - val_loss: 1.1293 - val_accuracy: 0.5435\n",
            "\n",
            "Epoch 00004: val_loss improved from 1.16448 to 1.12931, saving model to best_cnn_model.h5\n",
            "Epoch 5/20\n",
            "300/300 [==============================] - 23s 75ms/step - loss: 1.0462 - accuracy: 0.5908 - val_loss: 1.0388 - val_accuracy: 0.5910\n",
            "\n",
            "Epoch 00005: val_loss improved from 1.12931 to 1.03877, saving model to best_cnn_model.h5\n",
            "Epoch 6/20\n",
            "300/300 [==============================] - 23s 77ms/step - loss: 0.9401 - accuracy: 0.6249 - val_loss: 1.1224 - val_accuracy: 0.6030\n",
            "\n",
            "Epoch 00006: val_loss did not improve from 1.03877\n",
            "Epoch 7/20\n",
            "300/300 [==============================] - 23s 77ms/step - loss: 0.8456 - accuracy: 0.6702 - val_loss: 1.0014 - val_accuracy: 0.6220\n",
            "\n",
            "Epoch 00007: val_loss improved from 1.03877 to 1.00137, saving model to best_cnn_model.h5\n",
            "Epoch 8/20\n",
            "300/300 [==============================] - 23s 76ms/step - loss: 0.7457 - accuracy: 0.7138 - val_loss: 1.0514 - val_accuracy: 0.6185\n",
            "\n",
            "Epoch 00008: val_loss did not improve from 1.00137\n",
            "Epoch 9/20\n",
            "300/300 [==============================] - 23s 77ms/step - loss: 0.6292 - accuracy: 0.7600 - val_loss: 1.1981 - val_accuracy: 0.6230\n",
            "\n",
            "Epoch 00009: val_loss did not improve from 1.00137\n",
            "Epoch 10/20\n",
            "300/300 [==============================] - 23s 76ms/step - loss: 0.5177 - accuracy: 0.8091 - val_loss: 1.1656 - val_accuracy: 0.6235\n",
            "\n",
            "Epoch 00010: val_loss did not improve from 1.00137\n",
            "Epoch 11/20\n",
            "300/300 [==============================] - 23s 76ms/step - loss: 0.4136 - accuracy: 0.8474 - val_loss: 1.3816 - val_accuracy: 0.5930\n",
            "\n",
            "Epoch 00011: val_loss did not improve from 1.00137\n",
            "Epoch 12/20\n",
            "300/300 [==============================] - 23s 76ms/step - loss: 0.3130 - accuracy: 0.8917 - val_loss: 1.5419 - val_accuracy: 0.6145\n",
            "\n",
            "Epoch 00012: val_loss did not improve from 1.00137\n",
            "Epoch 13/20\n",
            "300/300 [==============================] - 23s 76ms/step - loss: 0.2328 - accuracy: 0.9188 - val_loss: 1.5842 - val_accuracy: 0.6245\n",
            "\n",
            "Epoch 00013: val_loss did not improve from 1.00137\n",
            "Epoch 14/20\n",
            "300/300 [==============================] - 23s 76ms/step - loss: 0.1691 - accuracy: 0.9441 - val_loss: 1.7141 - val_accuracy: 0.6195\n",
            "\n",
            "Epoch 00014: val_loss did not improve from 1.00137\n",
            "Epoch 15/20\n",
            "300/300 [==============================] - 23s 76ms/step - loss: 0.1471 - accuracy: 0.9535 - val_loss: 1.6327 - val_accuracy: 0.6480\n",
            "\n",
            "Epoch 00015: val_loss did not improve from 1.00137\n",
            "Epoch 16/20\n",
            "300/300 [==============================] - 23s 76ms/step - loss: 0.0932 - accuracy: 0.9710 - val_loss: 1.9461 - val_accuracy: 0.6325\n",
            "\n",
            "Epoch 00016: val_loss did not improve from 1.00137\n",
            "Epoch 17/20\n",
            "300/300 [==============================] - 23s 76ms/step - loss: 0.1073 - accuracy: 0.9675 - val_loss: 1.9091 - val_accuracy: 0.6070\n",
            "\n",
            "Epoch 00017: val_loss did not improve from 1.00137\n",
            "Epoch 18/20\n",
            "300/300 [==============================] - 23s 76ms/step - loss: 0.0895 - accuracy: 0.9743 - val_loss: 2.4271 - val_accuracy: 0.6265\n",
            "\n",
            "Epoch 00018: val_loss did not improve from 1.00137\n",
            "Epoch 19/20\n",
            "300/300 [==============================] - 23s 76ms/step - loss: 0.0762 - accuracy: 0.9795 - val_loss: 2.1737 - val_accuracy: 0.5805\n",
            "\n",
            "Epoch 00019: val_loss did not improve from 1.00137\n",
            "Epoch 20/20\n",
            "300/300 [==============================] - 23s 76ms/step - loss: 0.1229 - accuracy: 0.9668 - val_loss: 2.0866 - val_accuracy: 0.6260\n",
            "\n",
            "Epoch 00020: val_loss did not improve from 1.00137\n"
          ],
          "name": "stdout"
        }
      ]
    },
    {
      "cell_type": "code",
      "metadata": {
        "id": "XHmieuSgloNk",
        "colab": {
          "base_uri": "https://localhost:8080/",
          "height": 326
        },
        "outputId": "9e4d056f-fc3a-4613-88de-aae0c578c2e3"
      },
      "source": [
        "cnn_performance = cnn_model.evaluate(X_test_cnn, y_test, batch_size=64)\r\n",
        "plot_graphs(cnn_history, cnn_performance);\r\n"
      ],
      "execution_count": null,
      "outputs": [
        {
          "output_type": "stream",
          "text": [
            "32/32 [==============================] - 1s 21ms/step - loss: 2.0866 - accuracy: 0.6260\n"
          ],
          "name": "stdout"
        },
        {
          "output_type": "display_data",
          "data": {
            "image/png": "[encoded data removed]",
            "text/plain": [
              "<Figure size 720x288 with 2 Axes>"
            ]
          },
          "metadata": {
            "tags": [],
            "needs_background": "light"
          }
        }
      ]
    },
    {
      "cell_type": "code",
      "metadata": {
        "colab": {
          "base_uri": "https://localhost:8080/"
        },
        "id": "E5DXQrMvnfRF",
        "outputId": "2fb3307b-cd35-478e-db6e-ec993b99889d"
      },
      "source": [
        "#@title Run this to build your transfer learning model { display-mode: \"form\" }\r\n",
        "\r\n",
        "import keras\r\n",
        "from keras.models import Sequential\r\n",
        "from keras.layers import Activation, MaxPooling2D, Dropout, Flatten, Reshape, Dense, Conv2D, GlobalAveragePooling2D\r\n",
        "from keras.wrappers.scikit_learn import KerasClassifier\r\n",
        "import keras.optimizers as optimizers\r\n",
        "from keras.applications.vgg16 import VGG16\r\n",
        "\r\n",
        "# load the vgg network that is an 'expert' at 'imagenet' but do not include the FC layers\r\n",
        "vgg_expert = VGG16(weights = 'imagenet', include_top = False, input_shape = (48, 48, 3))\r\n",
        "\r\n",
        "# we add the first 12 layers of vgg to our own model vgg_model\r\n",
        "vgg_model = Sequential()\r\n",
        "vgg_model.add(vgg_expert)\r\n",
        "\r\n",
        "# and then add our own layers on top of it\r\n",
        "vgg_model.add(GlobalAveragePooling2D())\r\n",
        "vgg_model.add(Dense(1024, activation = 'relu'))\r\n",
        "vgg_model.add(Dropout(0.3))\r\n",
        "vgg_model.add(Dense(512, activation = 'relu'))\r\n",
        "vgg_model.add(Dropout(0.3))\r\n",
        "vgg_model.add(Dense(5, activation = 'sigmoid'))\r\n",
        "\r\n",
        "# finally, we build the vgg model and turn it on so we can use it!\r\n",
        "vgg_model.compile(loss = 'categorical_crossentropy', \r\n",
        "          optimizer = optimizers.SGD(lr=1e-4, momentum=0.95), \r\n",
        "          metrics=['accuracy'])\r\n",
        "\r\n",
        "X_TRAIN = np.array([np.transpose(np.array([X_train_cnn[ix].squeeze() for i in range(3)]), (1,2,0)) for ix in range(len(X_train))])\r\n",
        "X_TEST = np.array([np.transpose(np.array([X_test_cnn[ix].squeeze() for i in range(3)]), (1,2,0)) for ix in range(len(X_test))])\r\n",
        "\r\n",
        "#training the model\r\n",
        "vgg_history = vgg_model.fit(X_TRAIN, y_train,\r\n",
        "          batch_size=batch_size,\r\n",
        "          epochs=epochs,\r\n",
        "          verbose=1,\r\n",
        "          callbacks=[checkpoint],\r\n",
        "          validation_data=(X_TEST, y_test),\r\n",
        "          shuffle=True)"
      ],
      "execution_count": null,
      "outputs": [
        {
          "output_type": "stream",
          "text": [
            "Epoch 1/40\n",
            "900/900 [==============================] - 32s 35ms/step - loss: 1.4609 - accuracy: 0.3515 - val_loss: 1.0587 - val_accuracy: 0.5640\n",
            "\n",
            "Epoch 00001: val_loss did not improve from 1.00137\n",
            "Epoch 2/40\n",
            "900/900 [==============================] - 31s 34ms/step - loss: 1.0737 - accuracy: 0.5648 - val_loss: 0.9977 - val_accuracy: 0.5900\n",
            "\n",
            "Epoch 00002: val_loss improved from 1.00137 to 0.99770, saving model to best_cnn_model.h5\n",
            "Epoch 3/40\n",
            "900/900 [==============================] - 31s 34ms/step - loss: 0.9737 - accuracy: 0.6109 - val_loss: 0.9160 - val_accuracy: 0.6270\n",
            "\n",
            "Epoch 00003: val_loss improved from 0.99770 to 0.91595, saving model to best_cnn_model.h5\n",
            "Epoch 4/40\n",
            "900/900 [==============================] - 31s 34ms/step - loss: 0.8690 - accuracy: 0.6616 - val_loss: 0.8687 - val_accuracy: 0.6575\n",
            "\n",
            "Epoch 00004: val_loss improved from 0.91595 to 0.86870, saving model to best_cnn_model.h5\n",
            "Epoch 5/40\n",
            "900/900 [==============================] - 31s 34ms/step - loss: 0.7896 - accuracy: 0.6915 - val_loss: 0.8514 - val_accuracy: 0.6625\n",
            "\n",
            "Epoch 00005: val_loss improved from 0.86870 to 0.85135, saving model to best_cnn_model.h5\n",
            "Epoch 6/40\n",
            "900/900 [==============================] - 31s 34ms/step - loss: 0.7476 - accuracy: 0.7195 - val_loss: 0.8784 - val_accuracy: 0.6600\n",
            "\n",
            "Epoch 00006: val_loss did not improve from 0.85135\n",
            "Epoch 7/40\n",
            "900/900 [==============================] - 31s 34ms/step - loss: 0.6791 - accuracy: 0.7425 - val_loss: 0.8186 - val_accuracy: 0.6825\n",
            "\n",
            "Epoch 00007: val_loss improved from 0.85135 to 0.81858, saving model to best_cnn_model.h5\n",
            "Epoch 8/40\n",
            "900/900 [==============================] - 31s 34ms/step - loss: 0.6329 - accuracy: 0.7640 - val_loss: 0.8314 - val_accuracy: 0.6845\n",
            "\n",
            "Epoch 00008: val_loss did not improve from 0.81858\n",
            "Epoch 9/40\n",
            "900/900 [==============================] - 31s 34ms/step - loss: 0.5679 - accuracy: 0.7881 - val_loss: 0.8930 - val_accuracy: 0.6900\n",
            "\n",
            "Epoch 00009: val_loss did not improve from 0.81858\n",
            "Epoch 10/40\n",
            "900/900 [==============================] - 31s 34ms/step - loss: 0.5022 - accuracy: 0.8156 - val_loss: 0.8811 - val_accuracy: 0.6815\n",
            "\n",
            "Epoch 00010: val_loss did not improve from 0.81858\n",
            "Epoch 11/40\n",
            "900/900 [==============================] - 31s 34ms/step - loss: 0.4426 - accuracy: 0.8407 - val_loss: 0.9082 - val_accuracy: 0.7035\n",
            "\n",
            "Epoch 00011: val_loss did not improve from 0.81858\n",
            "Epoch 12/40\n",
            "900/900 [==============================] - 31s 34ms/step - loss: 0.3589 - accuracy: 0.8730 - val_loss: 1.0086 - val_accuracy: 0.6855\n",
            "\n",
            "Epoch 00012: val_loss did not improve from 0.81858\n",
            "Epoch 13/40\n",
            "900/900 [==============================] - 31s 34ms/step - loss: 0.3042 - accuracy: 0.8966 - val_loss: 1.1230 - val_accuracy: 0.6760\n",
            "\n",
            "Epoch 00013: val_loss did not improve from 0.81858\n",
            "Epoch 14/40\n",
            "900/900 [==============================] - 31s 34ms/step - loss: 0.2550 - accuracy: 0.9123 - val_loss: 1.0611 - val_accuracy: 0.6885\n",
            "\n",
            "Epoch 00014: val_loss did not improve from 0.81858\n",
            "Epoch 15/40\n",
            "900/900 [==============================] - 31s 35ms/step - loss: 0.2045 - accuracy: 0.9310 - val_loss: 1.1990 - val_accuracy: 0.6725\n",
            "\n",
            "Epoch 00015: val_loss did not improve from 0.81858\n",
            "Epoch 16/40\n",
            "900/900 [==============================] - 31s 34ms/step - loss: 0.1868 - accuracy: 0.9354 - val_loss: 1.2310 - val_accuracy: 0.7025\n",
            "\n",
            "Epoch 00016: val_loss did not improve from 0.81858\n",
            "Epoch 17/40\n",
            "900/900 [==============================] - 31s 35ms/step - loss: 0.1158 - accuracy: 0.9625 - val_loss: 1.3499 - val_accuracy: 0.6980\n",
            "\n",
            "Epoch 00017: val_loss did not improve from 0.81858\n",
            "Epoch 18/40\n",
            "900/900 [==============================] - 31s 35ms/step - loss: 0.1131 - accuracy: 0.9615 - val_loss: 1.2854 - val_accuracy: 0.6960\n",
            "\n",
            "Epoch 00018: val_loss did not improve from 0.81858\n",
            "Epoch 19/40\n",
            "900/900 [==============================] - 31s 34ms/step - loss: 0.1147 - accuracy: 0.9611 - val_loss: 1.3785 - val_accuracy: 0.6915\n",
            "\n",
            "Epoch 00019: val_loss did not improve from 0.81858\n",
            "Epoch 20/40\n",
            "900/900 [==============================] - 31s 35ms/step - loss: 0.0891 - accuracy: 0.9698 - val_loss: 1.4210 - val_accuracy: 0.6960\n",
            "\n",
            "Epoch 00020: val_loss did not improve from 0.81858\n",
            "Epoch 21/40\n",
            "900/900 [==============================] - 31s 35ms/step - loss: 0.0697 - accuracy: 0.9771 - val_loss: 1.5327 - val_accuracy: 0.7075\n",
            "\n",
            "Epoch 00021: val_loss did not improve from 0.81858\n",
            "Epoch 22/40\n",
            "900/900 [==============================] - 31s 34ms/step - loss: 0.0577 - accuracy: 0.9806 - val_loss: 1.4341 - val_accuracy: 0.6980\n",
            "\n",
            "Epoch 00022: val_loss did not improve from 0.81858\n",
            "Epoch 23/40\n",
            "900/900 [==============================] - 31s 35ms/step - loss: 0.0448 - accuracy: 0.9861 - val_loss: 1.5421 - val_accuracy: 0.6995\n",
            "\n",
            "Epoch 00023: val_loss did not improve from 0.81858\n",
            "Epoch 24/40\n",
            "900/900 [==============================] - 31s 34ms/step - loss: 0.0391 - accuracy: 0.9872 - val_loss: 1.5426 - val_accuracy: 0.7030\n",
            "\n",
            "Epoch 00024: val_loss did not improve from 0.81858\n",
            "Epoch 25/40\n",
            "900/900 [==============================] - 31s 34ms/step - loss: 0.0423 - accuracy: 0.9876 - val_loss: 1.5183 - val_accuracy: 0.6980\n",
            "\n",
            "Epoch 00025: val_loss did not improve from 0.81858\n",
            "Epoch 26/40\n",
            "900/900 [==============================] - 31s 35ms/step - loss: 0.0344 - accuracy: 0.9896 - val_loss: 1.8129 - val_accuracy: 0.6925\n",
            "\n",
            "Epoch 00026: val_loss did not improve from 0.81858\n",
            "Epoch 27/40\n",
            "900/900 [==============================] - 31s 35ms/step - loss: 0.0342 - accuracy: 0.9899 - val_loss: 1.6721 - val_accuracy: 0.6965\n",
            "\n",
            "Epoch 00027: val_loss did not improve from 0.81858\n",
            "Epoch 28/40\n",
            "900/900 [==============================] - 31s 35ms/step - loss: 0.0216 - accuracy: 0.9927 - val_loss: 1.6898 - val_accuracy: 0.7130\n",
            "\n",
            "Epoch 00028: val_loss did not improve from 0.81858\n",
            "Epoch 29/40\n",
            "900/900 [==============================] - 31s 35ms/step - loss: 0.0254 - accuracy: 0.9928 - val_loss: 1.6822 - val_accuracy: 0.7075\n",
            "\n",
            "Epoch 00029: val_loss did not improve from 0.81858\n",
            "Epoch 30/40\n",
            "900/900 [==============================] - 31s 35ms/step - loss: 0.0404 - accuracy: 0.9878 - val_loss: 1.6417 - val_accuracy: 0.7015\n",
            "\n",
            "Epoch 00030: val_loss did not improve from 0.81858\n",
            "Epoch 31/40\n",
            "900/900 [==============================] - 31s 35ms/step - loss: 0.0166 - accuracy: 0.9948 - val_loss: 1.9728 - val_accuracy: 0.6785\n",
            "\n",
            "Epoch 00031: val_loss did not improve from 0.81858\n",
            "Epoch 32/40\n",
            "900/900 [==============================] - 31s 35ms/step - loss: 0.0163 - accuracy: 0.9961 - val_loss: 1.9602 - val_accuracy: 0.6955\n",
            "\n",
            "Epoch 00032: val_loss did not improve from 0.81858\n",
            "Epoch 33/40\n",
            "900/900 [==============================] - 31s 35ms/step - loss: 0.0119 - accuracy: 0.9970 - val_loss: 1.8030 - val_accuracy: 0.7070\n",
            "\n",
            "Epoch 00033: val_loss did not improve from 0.81858\n",
            "Epoch 34/40\n",
            "900/900 [==============================] - 31s 35ms/step - loss: 0.0087 - accuracy: 0.9981 - val_loss: 1.9026 - val_accuracy: 0.7000\n",
            "\n",
            "Epoch 00034: val_loss did not improve from 0.81858\n",
            "Epoch 35/40\n",
            "900/900 [==============================] - 31s 35ms/step - loss: 0.0078 - accuracy: 0.9978 - val_loss: 1.8174 - val_accuracy: 0.7095\n",
            "\n",
            "Epoch 00035: val_loss did not improve from 0.81858\n",
            "Epoch 36/40\n",
            "900/900 [==============================] - 31s 35ms/step - loss: 0.0063 - accuracy: 0.9978 - val_loss: 1.8625 - val_accuracy: 0.6990\n",
            "\n",
            "Epoch 00036: val_loss did not improve from 0.81858\n",
            "Epoch 37/40\n",
            "900/900 [==============================] - 31s 35ms/step - loss: 0.0077 - accuracy: 0.9974 - val_loss: 1.8912 - val_accuracy: 0.7135\n",
            "\n",
            "Epoch 00037: val_loss did not improve from 0.81858\n",
            "Epoch 38/40\n",
            "900/900 [==============================] - 31s 35ms/step - loss: 0.0057 - accuracy: 0.9984 - val_loss: 1.9743 - val_accuracy: 0.7005\n",
            "\n",
            "Epoch 00038: val_loss did not improve from 0.81858\n",
            "Epoch 39/40\n",
            "900/900 [==============================] - 31s 35ms/step - loss: 0.0059 - accuracy: 0.9984 - val_loss: 2.0549 - val_accuracy: 0.6890\n",
            "\n",
            "Epoch 00039: val_loss did not improve from 0.81858\n",
            "Epoch 40/40\n",
            "900/900 [==============================] - 31s 35ms/step - loss: 0.0081 - accuracy: 0.9975 - val_loss: 1.9339 - val_accuracy: 0.7045\n",
            "\n",
            "Epoch 00040: val_loss did not improve from 0.81858\n"
          ],
          "name": "stdout"
        }
      ]
    },
    {
      "cell_type": "code",
      "metadata": {
        "colab": {
          "base_uri": "https://localhost:8080/"
        },
        "id": "dV6-aT6xnfnx",
        "outputId": "2f66e216-a376-4591-c41a-2f8c7ad9d3df"
      },
      "source": [
        "vgg_performance = vgg_model.evaluate(X_TEST, y_test, batch_size=64)"
      ],
      "execution_count": null,
      "outputs": [
        {
          "output_type": "stream",
          "text": [
            "32/32 [==============================] - 1s 21ms/step - loss: 1.9339 - accuracy: 0.7045\n"
          ],
          "name": "stdout"
        }
      ]
    },
    {
      "cell_type": "code",
      "metadata": {
        "colab": {
          "base_uri": "https://localhost:8080/",
          "height": 310
        },
        "id": "FtqkGHvhoedS",
        "outputId": "17058174-1048-49ee-90a2-178dad7c35a4"
      },
      "source": [
        "plot_graphs(vgg_history, vgg_performance);"
      ],
      "execution_count": null,
      "outputs": [
        {
          "output_type": "display_data",
          "data": {
            "image/png": "[encoded data removed]",
            "text/plain": [
              "<Figure size 720x288 with 2 Axes>"
            ]
          },
          "metadata": {
            "tags": [],
            "needs_background": "light"
          }
        }
      ]
    }
  ]
}